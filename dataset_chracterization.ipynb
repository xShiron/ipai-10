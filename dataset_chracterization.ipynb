{
 "cells": [
  {
   "cell_type": "markdown",
   "metadata": {},
   "source": [
    "## Imports"
   ]
  },
  {
   "cell_type": "code",
   "execution_count": 66,
   "metadata": {},
   "outputs": [],
   "source": [
    "import pandas as pd "
   ]
  },
  {
   "cell_type": "markdown",
   "metadata": {},
   "source": [
    "Dataset imports:"
   ]
  },
  {
   "cell_type": "code",
   "execution_count": 67,
   "metadata": {},
   "outputs": [],
   "source": [
    "nba = pd.read_csv(\"./Datasets/nba_elo.csv\")\n",
    "pollution = pd.read_csv(\"./Datasets/pollution_2000_2023.csv\", index_col=[0])\n",
    "us_accidents = pd.read_csv(\"./Datasets/US_Accidents_March23.csv\")"
   ]
  },
  {
   "cell_type": "markdown",
   "metadata": {},
   "source": [
    "# Identification of the columns "
   ]
  },
  {
   "cell_type": "markdown",
   "metadata": {},
   "source": [
    "## NBA Games dataset"
   ]
  },
  {
   "cell_type": "markdown",
   "metadata": {},
   "source": [
    "Dataset column names."
   ]
  },
  {
   "cell_type": "code",
   "execution_count": 68,
   "metadata": {},
   "outputs": [
    {
     "data": {
      "text/plain": [
       "Index(['index', 'date', 'season', 'neutral', 'playoff', 'team1', 'team2',\n",
       "       'elo1_pre', 'elo2_pre', 'elo_prob1', 'elo_prob2', 'elo1_post',\n",
       "       'elo2_post', 'carmelo1_pre', 'carmelo2_pre', 'carmelo1_post',\n",
       "       'carmelo2_post', 'carmelo_prob1', 'carmelo_prob2', 'score1', 'score2'],\n",
       "      dtype='object')"
      ]
     },
     "execution_count": 68,
     "metadata": {},
     "output_type": "execute_result"
    }
   ],
   "source": [
    "nba.columns"
   ]
  },
  {
   "cell_type": "markdown",
   "metadata": {},
   "source": [
    "The NBA dataset includes the following columns: \n",
    "* index: Generic index.\n",
    "* date: Date of when the game took place.\n",
    "* season: Season of the NBA when the game took place.\n",
    "* neutral: Whether the game was neutral or not.\n",
    "* playoff: playoff status of the matchup\n",
    "* team1: Name of one of the team involved.\n",
    "* team2: Name of one of the team involved.\n",
    "* elo1_pre: Elo rating prior to game for team1.\n",
    "* elo2_pre: Elo rating prior to game for team2.\n",
    "* elo_prob1: Probability of team1 winning based on its Elo rating.\n",
    "* elo_prob2: Probability of team2 winning based on its Elo rating.\n",
    "* elo1_post: Elo rating after game for team1.\n",
    "* elo2_post: Elo rating after game for team2.\n",
    "* carmelo1_pre: Carmelo rating prior to game for team1.\n",
    "* carmelo2_pre: Carmelo rating prior to game for team2.\n",
    "* carmelo1_post: Carmelo rating post to game for team1.\n",
    "* carmelo2_post: Carmelo rating post to game for team2.\n",
    "* carmelo_prob1: Probability of winning based on team1's Caramelo rating.\n",
    "* carmelo_prob2: Probability of winning based on team2's Caramelo rating.\n",
    "* score1: Score obtained by team1.\n",
    "* score2: Score obtained by team2."
   ]
  },
  {
   "cell_type": "markdown",
   "metadata": {},
   "source": [
    "Based on the above columns the relevant columns for our project are:\n",
    "* Date\n",
    "* Season\n",
    "* team1\n",
    "* team2\n",
    "* score1\n",
    "* score2\n",
    "* playoff"
   ]
  },
  {
   "cell_type": "markdown",
   "metadata": {},
   "source": [
    "### Chracterization of the columns"
   ]
  },
  {
   "cell_type": "markdown",
   "metadata": {},
   "source": [
    "##### Date"
   ]
  },
  {
   "cell_type": "code",
   "execution_count": 69,
   "metadata": {},
   "outputs": [
    {
     "data": {
      "text/plain": [
       "array(['1946-11-01', '1946-11-02', '1946-11-03', ..., '2018-04-26',\n",
       "       '2018-04-27', '2018-04-28'], dtype=object)"
      ]
     },
     "execution_count": 69,
     "metadata": {},
     "output_type": "execute_result"
    }
   ],
   "source": [
    "pd.Series(nba[\"date\"]).unique()"
   ]
  },
  {
   "cell_type": "markdown",
   "metadata": {},
   "source": [
    "All entries in this column are dates (strings) using the format YYYY-MM-DD."
   ]
  },
  {
   "cell_type": "markdown",
   "metadata": {},
   "source": [
    "##### Season"
   ]
  },
  {
   "cell_type": "code",
   "execution_count": 70,
   "metadata": {},
   "outputs": [
    {
     "data": {
      "text/plain": [
       "array([1947, 1948, 1949, 1950, 1951, 1952, 1953, 1954, 1955, 1956, 1957,\n",
       "       1958, 1959, 1960, 1961, 1962, 1963, 1964, 1965, 1966, 1967, 1968,\n",
       "       1969, 1970, 1971, 1972, 1973, 1974, 1975, 1976, 1977, 1978, 1979,\n",
       "       1980, 1981, 1982, 1983, 1984, 1985, 1986, 1987, 1988, 1989, 1990,\n",
       "       1991, 1992, 1993, 1994, 1995, 1996, 1997, 1998, 1999, 2000, 2001,\n",
       "       2002, 2003, 2004, 2005, 2006, 2007, 2008, 2009, 2010, 2011, 2012,\n",
       "       2013, 2014, 2015, 2016, 2017, 2018])"
      ]
     },
     "execution_count": 70,
     "metadata": {},
     "output_type": "execute_result"
    }
   ],
   "source": [
    "pd.Series(nba[\"season\"]).unique()"
   ]
  },
  {
   "cell_type": "markdown",
   "metadata": {},
   "source": [
    "All entries in this column represent the NBA season in which a game took place, i.e. the year it took place. The years present are from 1947-2018."
   ]
  },
  {
   "cell_type": "markdown",
   "metadata": {},
   "source": [
    "##### Neutral"
   ]
  },
  {
   "cell_type": "code",
   "execution_count": 71,
   "metadata": {},
   "outputs": [
    {
     "data": {
      "text/plain": [
       "array([0, 1])"
      ]
     },
     "execution_count": 71,
     "metadata": {},
     "output_type": "execute_result"
    }
   ],
   "source": [
    "pd.Series(nba[\"neutral\"]).unique()"
   ]
  },
  {
   "cell_type": "markdown",
   "metadata": {},
   "source": [
    "All entries in this column take only values 0 and 1."
   ]
  },
  {
   "cell_type": "markdown",
   "metadata": {},
   "source": [
    "#### Playoff  \n"
   ]
  },
  {
   "cell_type": "code",
   "execution_count": 72,
   "metadata": {},
   "outputs": [
    {
     "data": {
      "text/plain": [
       "array([nan, 't', 'q', 's', 'c', 'f'], dtype=object)"
      ]
     },
     "execution_count": 72,
     "metadata": {},
     "output_type": "execute_result"
    }
   ],
   "source": [
    "pd.Series(nba[\"playoff\"]).unique()"
   ]
  },
  {
   "cell_type": "markdown",
   "metadata": {},
   "source": [
    "All entries in this column take the values 't','q','s','c','f' or they don't have a value"
   ]
  },
  {
   "cell_type": "markdown",
   "metadata": {},
   "source": [
    "#### Team1  "
   ]
  },
  {
   "cell_type": "code",
   "execution_count": 73,
   "metadata": {},
   "outputs": [
    {
     "data": {
      "text/plain": [
       "array(['TRH', 'CHS', 'PRO', 'STB', 'DTF', 'CLR', 'PIT', 'BOS', 'PHW',\n",
       "       'NYK', 'WSC', 'BLB', 'INJ', 'FTW', 'ROC', 'MNL', 'TRI', 'INO',\n",
       "       'WAT', 'AND', 'SHE', 'SYR', 'DNN', 'MLH', 'STL', 'DET', 'CIN',\n",
       "       'LAL', 'CHP', 'CHZ', 'SFW', 'BAL', 'PHI', 'CHI', 'OAK', 'SDR',\n",
       "       'INA', 'DNR', 'DLC', 'NOB', 'SEA', 'KEN', 'MNM', 'HSM', 'NJA',\n",
       "       'PTP', 'ANA', 'ATL', 'MIL', 'PHO', 'NYA', 'MNP', 'LAS', 'MMF',\n",
       "       'CAR', 'WSA', 'BUF', 'UTS', 'FLO', 'PTC', 'POR', 'VIR', 'MMP',\n",
       "       'TEX', 'CLE', 'HOU', 'GSW', 'KCO', 'MMT', 'SDA', 'SAA', 'CAP',\n",
       "       'SSL', 'WSB', 'DNA', 'MMS', 'NOJ', 'SDS', 'KCK', 'IND', 'DEN',\n",
       "       'NYN', 'SAS', 'NJN', 'SDC', 'UTA', 'DAL', 'LAC', 'SAC', 'CHH',\n",
       "       'MIA', 'ORL', 'MIN', 'TOR', 'VAN', 'WAS', 'MEM', 'NOP', 'CHO',\n",
       "       'NOK', 'OKC', 'BRK'], dtype=object)"
      ]
     },
     "execution_count": 73,
     "metadata": {},
     "output_type": "execute_result"
    }
   ],
   "source": [
    "pd.Series(nba[\"team1\"]).unique()"
   ]
  },
  {
   "cell_type": "code",
   "execution_count": 74,
   "metadata": {},
   "outputs": [
    {
     "data": {
      "text/plain": [
       "102"
      ]
     },
     "execution_count": 74,
     "metadata": {},
     "output_type": "execute_result"
    }
   ],
   "source": [
    "len(pd.Series(nba[\"team1\"]).unique())"
   ]
  },
  {
   "cell_type": "markdown",
   "metadata": {},
   "source": [
    "All entries in this column take a 3 character string representing the abbreviation of a team's name."
   ]
  },
  {
   "cell_type": "markdown",
   "metadata": {},
   "source": [
    "#### Team2  "
   ]
  },
  {
   "cell_type": "code",
   "execution_count": 75,
   "metadata": {},
   "outputs": [
    {
     "data": {
      "text/plain": [
       "array(['NYK', 'BOS', 'PIT', 'WSC', 'TRH', 'CHS', 'STB', 'DTF', 'PRO',\n",
       "       'CLR', 'PHW', 'BLB', 'MNL', 'INJ', 'FTW', 'ROC', 'DNN', 'SHE',\n",
       "       'TRI', 'SYR', 'INO', 'WAT', 'AND', 'MLH', 'STL', 'DET', 'CIN',\n",
       "       'LAL', 'CHP', 'CHZ', 'SFW', 'PHI', 'BAL', 'CHI', 'SEA', 'ANA',\n",
       "       'KEN', 'HSM', 'DNR', 'SDR', 'INA', 'DLC', 'PTP', 'MNM', 'NJA',\n",
       "       'NOB', 'OAK', 'MIL', 'PHO', 'ATL', 'MMF', 'LAS', 'NYA', 'MNP',\n",
       "       'WSA', 'CAR', 'CLE', 'FLO', 'PTC', 'TEX', 'VIR', 'POR', 'MMP',\n",
       "       'BUF', 'UTS', 'GSW', 'HOU', 'MMT', 'KCO', 'SDA', 'CAP', 'SAA',\n",
       "       'NOJ', 'DNA', 'MMS', 'WSB', 'SSL', 'KCK', 'SDS', 'NYN', 'DEN',\n",
       "       'SAS', 'IND', 'NJN', 'SDC', 'UTA', 'DAL', 'LAC', 'SAC', 'CHH',\n",
       "       'MIA', 'MIN', 'ORL', 'VAN', 'TOR', 'WAS', 'MEM', 'NOP', 'CHO',\n",
       "       'NOK', 'OKC', 'BRK'], dtype=object)"
      ]
     },
     "execution_count": 75,
     "metadata": {},
     "output_type": "execute_result"
    }
   ],
   "source": [
    "pd.Series(nba[\"team2\"]).unique()"
   ]
  },
  {
   "cell_type": "markdown",
   "metadata": {},
   "source": [
    "All entries in this column take a 3 character string representing the abbreviation of a team's name."
   ]
  },
  {
   "cell_type": "markdown",
   "metadata": {},
   "source": [
    "#### Elo1 Pre   "
   ]
  },
  {
   "cell_type": "code",
   "execution_count": 76,
   "metadata": {},
   "outputs": [
    {
     "data": {
      "text/plain": [
       "array([1300.        , 1295.3092    , 1294.8458    , ..., 1514.04944359,\n",
       "       1551.42161395, 1686.33918606])"
      ]
     },
     "execution_count": 76,
     "metadata": {},
     "output_type": "execute_result"
    }
   ],
   "source": [
    "pd.Series(nba[\"elo1_pre\"]).unique()"
   ]
  },
  {
   "cell_type": "markdown",
   "metadata": {},
   "source": [
    "All entries in this column take real numerical values."
   ]
  },
  {
   "cell_type": "markdown",
   "metadata": {},
   "source": [
    "#### Elo2 Pre  "
   ]
  },
  {
   "cell_type": "code",
   "execution_count": 77,
   "metadata": {},
   "outputs": [
    {
     "data": {
      "text/plain": [
       "array([1300.        , 1306.7233    , 1293.2767    , ..., 1575.48072491,\n",
       "       1732.21374124, 1619.55936389])"
      ]
     },
     "execution_count": 77,
     "metadata": {},
     "output_type": "execute_result"
    }
   ],
   "source": [
    "pd.Series(nba[\"elo2_pre\"]).unique()"
   ]
  },
  {
   "cell_type": "markdown",
   "metadata": {},
   "source": [
    "All entries in this column take real numerical values."
   ]
  },
  {
   "cell_type": "markdown",
   "metadata": {},
   "source": [
    "#### Elo Probability 1  "
   ]
  },
  {
   "cell_type": "code",
   "execution_count": 78,
   "metadata": {},
   "outputs": [
    {
     "data": {
      "text/plain": [
       "array([0.640065  , 0.63110119, 0.64893216, ..., 0.55527797, 0.38578214,\n",
       "       0.72313418])"
      ]
     },
     "execution_count": 78,
     "metadata": {},
     "output_type": "execute_result"
    }
   ],
   "source": [
    "pd.Series(nba[\"elo_prob1\"]).unique()"
   ]
  },
  {
   "cell_type": "markdown",
   "metadata": {},
   "source": [
    "All entries in this column take real numerical values."
   ]
  },
  {
   "cell_type": "markdown",
   "metadata": {},
   "source": [
    "#### Elo Probability 2"
   ]
  },
  {
   "cell_type": "code",
   "execution_count": 79,
   "metadata": {},
   "outputs": [
    {
     "data": {
      "text/plain": [
       "array([0.640065  , 0.63110119, 0.64893216, ..., 0.55527797, 0.38578214,\n",
       "       0.72313418])"
      ]
     },
     "execution_count": 79,
     "metadata": {},
     "output_type": "execute_result"
    }
   ],
   "source": [
    "pd.Series(nba[\"elo_prob1\"]).unique()"
   ]
  },
  {
   "cell_type": "markdown",
   "metadata": {},
   "source": [
    "All entries in this column take real numerical values."
   ]
  },
  {
   "cell_type": "markdown",
   "metadata": {},
   "source": [
    "#### Elo1 Post "
   ]
  },
  {
   "cell_type": "code",
   "execution_count": 80,
   "metadata": {},
   "outputs": [
    {
     "data": {
      "text/plain": [
       "array([1293.2767    , 1309.6521    , 1305.1542    , ..., 1614.26304141,\n",
       "       1506.10923004,           nan])"
      ]
     },
     "execution_count": 80,
     "metadata": {},
     "output_type": "execute_result"
    }
   ],
   "source": [
    "pd.Series(nba[\"elo1_post\"]).unique()"
   ]
  },
  {
   "cell_type": "markdown",
   "metadata": {},
   "source": [
    "All entries in this column take real numerical values or nan."
   ]
  },
  {
   "cell_type": "markdown",
   "metadata": {},
   "source": [
    "#### Elo2 Post  "
   ]
  },
  {
   "cell_type": "code",
   "execution_count": 81,
   "metadata": {},
   "outputs": [
    {
     "data": {
      "text/plain": [
       "array([1306.7233    , 1297.0712    , 1294.8458    , ..., 1686.33918606,\n",
       "       1486.32402581,           nan])"
      ]
     },
     "execution_count": 81,
     "metadata": {},
     "output_type": "execute_result"
    }
   ],
   "source": [
    "pd.Series(nba[\"elo2_post\"]).unique()"
   ]
  },
  {
   "cell_type": "markdown",
   "metadata": {},
   "source": [
    "All entries in this column take real numerical values or nan."
   ]
  },
  {
   "cell_type": "markdown",
   "metadata": {},
   "source": [
    "#### Carmelo1 Pre  "
   ]
  },
  {
   "cell_type": "code",
   "execution_count": 82,
   "metadata": {},
   "outputs": [
    {
     "data": {
      "text/plain": [
       "array([          nan, 1542.664875  , 1564.372491  , ..., 1507.97669924,\n",
       "       1564.62062015, 1677.6378942 ])"
      ]
     },
     "execution_count": 82,
     "metadata": {},
     "output_type": "execute_result"
    }
   ],
   "source": [
    "pd.Series(nba[\"carmelo1_pre\"]).unique()"
   ]
  },
  {
   "cell_type": "markdown",
   "metadata": {},
   "source": [
    "All entries in this column take real numerical values or nan."
   ]
  },
  {
   "cell_type": "markdown",
   "metadata": {},
   "source": [
    "#### Carmelo2 Pre  "
   ]
  },
  {
   "cell_type": "code",
   "execution_count": 83,
   "metadata": {},
   "outputs": [
    {
     "data": {
      "text/plain": [
       "array([          nan, 1451.827385  , 1732.025482  , ..., 1578.31787597,\n",
       "       1748.38976757, 1632.27704616])"
      ]
     },
     "execution_count": 83,
     "metadata": {},
     "output_type": "execute_result"
    }
   ],
   "source": [
    "pd.Series(nba[\"carmelo2_pre\"]).unique()"
   ]
  },
  {
   "cell_type": "markdown",
   "metadata": {},
   "source": [
    "All entries in this column take real numerical values or nan."
   ]
  },
  {
   "cell_type": "markdown",
   "metadata": {},
   "source": [
    "#### Carmelo1 Post  "
   ]
  },
  {
   "cell_type": "code",
   "execution_count": 84,
   "metadata": {},
   "outputs": [
    {
     "data": {
      "text/plain": [
       "array([          nan, 1521.80999498, 1570.47393668, ..., 1355.61264748,\n",
       "       1618.40111052, 1508.01099716])"
      ]
     },
     "execution_count": 84,
     "metadata": {},
     "output_type": "execute_result"
    }
   ],
   "source": [
    "pd.Series(nba[\"carmelo1_post\"]).unique()"
   ]
  },
  {
   "cell_type": "markdown",
   "metadata": {},
   "source": [
    "All entries in this column take real numerical values or nan."
   ]
  },
  {
   "cell_type": "markdown",
   "metadata": {},
   "source": [
    "#### Carmelo2 Post  "
   ]
  },
  {
   "cell_type": "code",
   "execution_count": 85,
   "metadata": {},
   "outputs": [
    {
     "data": {
      "text/plain": [
       "array([          nan, 1472.68226502, 1725.92403632, ..., 1748.38976757,\n",
       "       1677.6378942 , 1488.9283395 ])"
      ]
     },
     "execution_count": 85,
     "metadata": {},
     "output_type": "execute_result"
    }
   ],
   "source": [
    "pd.Series(nba[\"carmelo2_post\"]).unique()"
   ]
  },
  {
   "cell_type": "markdown",
   "metadata": {},
   "source": [
    "All entries in this column take real numerical values or nan."
   ]
  },
  {
   "cell_type": "markdown",
   "metadata": {},
   "source": [
    "#### Carmelo Probability 1  "
   ]
  },
  {
   "cell_type": "code",
   "execution_count": 86,
   "metadata": {},
   "outputs": [
    {
     "data": {
      "text/plain": [
       "array([       nan, 0.75278039, 0.40307779, ..., 0.52796995, 0.35143533,\n",
       "       0.68591079])"
      ]
     },
     "execution_count": 86,
     "metadata": {},
     "output_type": "execute_result"
    }
   ],
   "source": [
    "pd.Series(nba[\"carmelo_prob1\"]).unique()"
   ]
  },
  {
   "cell_type": "markdown",
   "metadata": {},
   "source": [
    "All entries in this column take real numerical values or nan."
   ]
  },
  {
   "cell_type": "markdown",
   "metadata": {},
   "source": [
    "#### Carmelo Probability 2  "
   ]
  },
  {
   "cell_type": "code",
   "execution_count": 87,
   "metadata": {},
   "outputs": [
    {
     "data": {
      "text/plain": [
       "array([       nan, 0.24721961, 0.59692221, ..., 0.47203005, 0.64856467,\n",
       "       0.31408921])"
      ]
     },
     "execution_count": 87,
     "metadata": {},
     "output_type": "execute_result"
    }
   ],
   "source": [
    "pd.Series(nba[\"carmelo_prob2\"]).unique()"
   ]
  },
  {
   "cell_type": "markdown",
   "metadata": {},
   "source": [
    "All entries in this column take real numerical values or nan."
   ]
  },
  {
   "cell_type": "markdown",
   "metadata": {},
   "source": [
    "#### Score1  "
   ]
  },
  {
   "cell_type": "code",
   "execution_count": 88,
   "metadata": {},
   "outputs": [
    {
     "data": {
      "text/plain": [
       "array([ 66.,  63.,  59.,  56.,  33.,  71.,  55.,  49.,  81.,  73.,  76.,\n",
       "        70.,  62.,  69.,  92.,  68.,  84.,  64.,  85.,  53.,  65.,  83.,\n",
       "        61.,  54.,  72.,  58.,  82.,  74.,  46.,  67.,  75.,  60.,  79.,\n",
       "        44.,  80.,  86.,  47.,  88.,  52.,  77.,  78.,  57.,  95.,  48.,\n",
       "        90.,  50.,  91.,  45.,  87.,  97.,  93.,  89., 109.,  51.,  98.,\n",
       "        99., 107.,  96., 105., 106., 108., 100.,  94., 103., 117., 104.,\n",
       "       102., 101., 114., 110., 121., 120., 125., 112., 115., 111., 141.,\n",
       "       118.,  18., 119., 113., 124., 126., 131., 128., 116., 122., 133.,\n",
       "       130., 123., 134., 135., 142., 140., 129., 136., 146., 127., 132.,\n",
       "       138., 139., 137., 173., 151., 143., 152., 147., 150., 144., 155.,\n",
       "       153., 149., 148., 162., 145., 163., 154., 158., 172., 169., 156.,\n",
       "       159., 165., 160., 177., 157.,   2., 176., 171., 184., 161., 168.,\n",
       "        nan])"
      ]
     },
     "execution_count": 88,
     "metadata": {},
     "output_type": "execute_result"
    }
   ],
   "source": [
    "pd.Series(nba[\"score1\"]).unique()"
   ]
  },
  {
   "cell_type": "markdown",
   "metadata": {},
   "source": [
    "All entries in this column take integer numerical values or nan."
   ]
  },
  {
   "cell_type": "markdown",
   "metadata": {},
   "source": [
    "#### Score2 "
   ]
  },
  {
   "cell_type": "code",
   "execution_count": 89,
   "metadata": {},
   "outputs": [
    {
     "data": {
      "text/plain": [
       "array([ 68.,  47.,  53.,  51.,  50.,  60.,  71.,  57.,  75.,  65.,  66.,\n",
       "        69.,  54.,  46.,  78.,  61.,  70.,  62.,  49.,  73.,  74.,  48.,\n",
       "        82.,  76.,  67.,  55.,  87.,  40.,  56.,  90.,  64.,  44.,  85.,\n",
       "        79.,  88.,  52.,  77.,  92.,  63., 103.,  72.,  58.,  59.,  83.,\n",
       "        81., 104.,  38.,  84.,  43.,  96.,  80., 107., 101.,  91.,  86.,\n",
       "        89.,  95.,  99., 114.,  98.,  94.,  97.,  93., 100., 110., 109.,\n",
       "       115., 102., 106., 113., 123., 111., 105., 116., 108.,  19., 112.,\n",
       "       118., 117., 129., 119., 122., 120., 121., 135., 126., 127., 137.,\n",
       "       143., 125., 131., 124., 138., 136., 130., 132., 145., 133., 128.,\n",
       "       139., 134., 141., 140., 144., 142., 148., 151., 153., 149., 147.,\n",
       "       169., 162., 160., 156., 150., 155., 157., 146., 154.,   0., 166.,\n",
       "       186., 152., 161.,  nan])"
      ]
     },
     "execution_count": 89,
     "metadata": {},
     "output_type": "execute_result"
    }
   ],
   "source": [
    "pd.Series(nba[\"score2\"]).unique()"
   ]
  },
  {
   "cell_type": "markdown",
   "metadata": {},
   "source": [
    "All entries in this column take integer numerical values or nan."
   ]
  },
  {
   "cell_type": "markdown",
   "metadata": {},
   "source": [
    "## Air Pollution in the US dataset"
   ]
  },
  {
   "cell_type": "markdown",
   "metadata": {},
   "source": [
    "Dataset column names."
   ]
  },
  {
   "cell_type": "code",
   "execution_count": 90,
   "metadata": {},
   "outputs": [
    {
     "data": {
      "text/plain": [
       "Index(['Date', 'Address', 'State', 'County', 'City', 'O3 Mean',\n",
       "       'O3 1st Max Value', 'O3 1st Max Hour', 'O3 AQI', 'CO Mean',\n",
       "       'CO 1st Max Value', 'CO 1st Max Hour', 'CO AQI', 'SO2 Mean',\n",
       "       'SO2 1st Max Value', 'SO2 1st Max Hour', 'SO2 AQI', 'NO2 Mean',\n",
       "       'NO2 1st Max Value', 'NO2 1st Max Hour', 'NO2 AQI'],\n",
       "      dtype='object')"
      ]
     },
     "execution_count": 90,
     "metadata": {},
     "output_type": "execute_result"
    }
   ],
   "source": [
    "pollution.columns"
   ]
  },
  {
   "cell_type": "markdown",
   "metadata": {},
   "source": [
    "The Air Pollution in the US dataset includes the following columns: \n",
    "* Date\n",
    "* Address\n",
    "* State\n",
    "* County\n",
    "* City\n",
    "* O3 Mean\n",
    "* O3 1st Max Value\n",
    "* O3 1st Max Hour\n",
    "* O3 AQI\n",
    "* CO Mean\n",
    "* CO 1st Max Value\n",
    "* CO 1st Max Hour\n",
    "* CO AQI\n",
    "* SO2 Mean\n",
    "* SO2 1st Max Value\n",
    "* SO2 1st Max Hour\n",
    "* SO2 AQI\n",
    "* NO2 Mean\n",
    "* NO2 1st Max Value\n",
    "* NO2 1st Max Hour\n",
    "* NO2 AQI"
   ]
  },
  {
   "cell_type": "markdown",
   "metadata": {},
   "source": [
    "Based on the above columns the relevant columns for our project are:\n",
    "* Date\n",
    "* State\n",
    "* County\n",
    "* City\n",
    "* O3 AQI\n",
    "* CO AQI\n",
    "* SO2 AQI\n",
    "* NO2 AQI"
   ]
  },
  {
   "cell_type": "markdown",
   "metadata": {},
   "source": [
    "### Chracterization of the necessary columns"
   ]
  },
  {
   "cell_type": "markdown",
   "metadata": {},
   "source": [
    "#### Date"
   ]
  },
  {
   "cell_type": "code",
   "execution_count": 91,
   "metadata": {},
   "outputs": [
    {
     "data": {
      "text/plain": [
       "array(['2000-01-01', '2000-01-02', '2000-01-03', ..., '2023-09-28',\n",
       "       '2023-09-29', '2023-09-30'], dtype=object)"
      ]
     },
     "execution_count": 91,
     "metadata": {},
     "output_type": "execute_result"
    }
   ],
   "source": [
    "pd.Series(pollution[\"Date\"]).unique()"
   ]
  },
  {
   "cell_type": "markdown",
   "metadata": {},
   "source": [
    "All entries in this column are dates (strings) using the format YYYY-MM-DD."
   ]
  },
  {
   "cell_type": "markdown",
   "metadata": {},
   "source": [
    "#### State"
   ]
  },
  {
   "cell_type": "code",
   "execution_count": 98,
   "metadata": {},
   "outputs": [
    {
     "data": {
      "text/plain": [
       "array(['Arizona', 'California', 'Colorado', 'District Of Columbia',\n",
       "       'Florida', 'Illinois', 'Indiana', 'Kansas', 'Kentucky',\n",
       "       'Louisiana', 'Michigan', 'Missouri', 'New Jersey', 'New York',\n",
       "       'North Carolina', 'Oklahoma', 'Pennsylvania', 'Texas', 'Virginia',\n",
       "       'Washington', 'Wisconsin', 'Massachusetts', 'Nevada',\n",
       "       'New Hampshire', 'Tennessee', 'South Carolina', 'Connecticut',\n",
       "       'Iowa', 'Maine', 'Maryland', 'Arkansas', 'Oregon', 'Wyoming',\n",
       "       'North Dakota', 'Idaho', 'Ohio', 'Georgia', 'Delaware', 'Hawaii',\n",
       "       'Minnesota', 'New Mexico', 'Rhode Island', 'South Dakota', 'Utah',\n",
       "       'Alabama', 'Alaska', 'Mississippi', 'Vermont'], dtype=object)"
      ]
     },
     "execution_count": 98,
     "metadata": {},
     "output_type": "execute_result"
    }
   ],
   "source": [
    "pd.Series(pollution[\"State\"]).unique()"
   ]
  },
  {
   "cell_type": "markdown",
   "metadata": {},
   "source": [
    "#### County"
   ]
  },
  {
   "cell_type": "code",
   "execution_count": 99,
   "metadata": {},
   "outputs": [
    {
     "data": {
      "text/plain": [
       "array(['Maricopa', 'Pima', 'Contra Costa', 'Imperial', 'Kern',\n",
       "       'Los Angeles', 'Orange', 'Riverside', 'Sacramento',\n",
       "       'San Bernardino', 'San Diego', 'San Francisco', 'Santa Barbara',\n",
       "       'Santa Cruz', 'Solano', 'Ventura', 'Adams', 'District of Columbia',\n",
       "       'Cook', 'Marion', 'Linn', 'Sumner', 'Wyandotte', 'Boyd', 'Daviess',\n",
       "       'Fayette', 'Henderson', 'Jefferson', 'McCracken',\n",
       "       'East Baton Rouge', 'Wayne', 'Saint Louis', 'St. Louis City',\n",
       "       'Camden', 'Bronx', 'Queens', 'Suffolk', 'Forsyth', 'Mecklenburg',\n",
       "       'Cherokee', 'Kay', 'Allegheny', 'Beaver', 'Berks', 'Blair',\n",
       "       'Bucks', 'Cambria', 'Lackawanna', 'Lancaster', 'Lawrence',\n",
       "       'Montgomery', 'Northampton', 'Philadelphia', 'Washington',\n",
       "       'Westmoreland', 'York', 'Dallas', 'El Paso', 'Harris', 'Fairfax',\n",
       "       'Alexandria City', 'King', 'Milwaukee', 'Alameda', 'Saint Clair',\n",
       "       'Clark', 'Essex', 'Ottawa', 'Kent', 'Hillsborough', 'Haywood',\n",
       "       'Meigs', 'Fresno', 'Charleston', 'Denver', 'Erie', 'Humboldt',\n",
       "       'New Haven', 'Scott', 'Aroostook', 'Baltimore', 'Tulsa', 'Dauphin',\n",
       "       'Luzerne', 'Pulaski', 'Fairfield', 'Hartford', 'Polk',\n",
       "       \"Prince George's\", 'Multnomah', 'McLennan', 'Uinta', 'Cumberland',\n",
       "       'Steuben', 'Cass', 'Adair', 'Blount', 'Bexar', 'Santa Clara',\n",
       "       'Ada', 'Athens', 'Medina', 'Litchfield', 'DeKalb', 'Washoe',\n",
       "       'Henrico', 'Hampton City', 'New Castle', 'Honolulu', 'Anoka',\n",
       "       'Bernalillo', 'Monroe', 'Cuyahoga', 'Hamilton', 'Oklahoma',\n",
       "       'Providence', 'Minnehaha', 'Salt Lake', 'Laramie', 'Sweetwater',\n",
       "       'Jackson', 'Travis', 'Duchesne', 'Uintah', 'Union', 'Roanoke',\n",
       "       'Fairbanks North Star ', 'Garrett', 'Rockingham', 'Wake',\n",
       "       'Fremont', 'Hinds', 'Burleigh', 'Richland', 'Rutland', 'Broward',\n",
       "       'Shelby'], dtype=object)"
      ]
     },
     "execution_count": 99,
     "metadata": {},
     "output_type": "execute_result"
    }
   ],
   "source": [
    "pd.Series(pollution[\"County\"]).unique()"
   ]
  },
  {
   "cell_type": "markdown",
   "metadata": {},
   "source": [
    "#### City "
   ]
  },
  {
   "cell_type": "code",
   "execution_count": 100,
   "metadata": {},
   "outputs": [
    {
     "data": {
      "text/plain": [
       "array(['Phoenix', 'Scottsdale', 'Tucson', 'Concord', 'Bethel Island',\n",
       "       'San Pablo', 'Pittsburg', 'Calexico', 'Bakersfield', 'Burbank',\n",
       "       'Los Angeles', 'Long Beach', 'Hawthorne', 'Costa Mesa', 'Rubidoux',\n",
       "       'Not in a city', 'Arden-Arcade', 'Victorville', 'Chula Vista',\n",
       "       'San Diego', 'San Francisco', 'Capitan', 'Lompoc', 'Goleta',\n",
       "       'Vandenberg Air Force Base', 'Davenport', 'Vallejo', 'Welby',\n",
       "       'Washington', 'Winter Park', 'Chicago', 'Cicero',\n",
       "       'Calumet City (PU RR name Calumet Park (sta.))',\n",
       "       'Indianapolis (Remainder)', 'Kansas City', 'Ashland',\n",
       "       'Lexington-Fayette (corporate name for Lexington)', 'Henderson',\n",
       "       'Louisville', 'Paducah', 'Baton Rouge', 'Detroit', 'Sunset Hills',\n",
       "       'Ladue', 'Ferguson', 'St. Ann', 'St. Louis', 'Camden', 'New York',\n",
       "       'Holtsville', 'Winston-Salem', 'Charlotte', 'Park Hill',\n",
       "       'Ponca City', 'Pittsburgh', 'Beaver Falls', 'Reading', 'Altoona',\n",
       "       'Bristol', 'Johnstown', 'Scranton', 'Lancaster', 'New Castle',\n",
       "       'Norristown', 'Freemansburg', 'Philadelphia', 'Charleroi',\n",
       "       'Greensburg', 'York', 'Dallas', 'El Paso', 'Houston',\n",
       "       'Seven Corners', 'McLean', 'Alexandria', 'Seattle', 'Milwaukee',\n",
       "       'Oakland', 'Crockett', 'West Los Angeles', 'East Saint Louis',\n",
       "       'Boston', 'Breckenridge Hills', 'Boulder City', 'Newark', 'Miami',\n",
       "       'Grand Rapids', 'Manchester', 'Annandale', 'Fresno', 'Denver',\n",
       "       'Kenner', 'Erie', 'Eureka', 'New Haven', 'Presque Isle', 'Essex',\n",
       "       'Tulsa', 'Wilkes-Barre', 'North Little Rock', 'Berkeley',\n",
       "       'Benicia', 'Westport', 'East Hartford', 'Valrico', 'Northbrook',\n",
       "       'Des Moines', 'Beltsville', 'Portland', 'Waco', 'Fontana',\n",
       "       'Cherry Tree', 'San Antonio', 'San Jose', 'Athens', 'Cupertino',\n",
       "       'Cornwall', 'Reno', 'Deer Park', 'East Highland Park', 'Hampton',\n",
       "       'El Cajon', 'Wilmington', 'Blaine', 'Albuquerque', 'Rochester',\n",
       "       'Cleveland', 'Cincinnati', 'Oklahoma City', 'East Providence',\n",
       "       'Sioux Falls', 'Salt Lake City', 'Austin', 'Roosevelt',\n",
       "       'Birmingham', 'Vinton', 'Fairbanks', 'Grantsville', 'Londonderry',\n",
       "       'Raleigh', 'Riverton', 'Jackson', 'Bismarck', 'Dentsville (Dents)',\n",
       "       'Rutland', 'Sunrise Manor', 'Midvale', 'Davie', 'Memphis',\n",
       "       'Cheyenne'], dtype=object)"
      ]
     },
     "execution_count": 100,
     "metadata": {},
     "output_type": "execute_result"
    }
   ],
   "source": [
    "pd.Series(pollution[\"City\"]).unique()"
   ]
  },
  {
   "cell_type": "markdown",
   "metadata": {},
   "source": [
    "#### O3 AQI"
   ]
  },
  {
   "cell_type": "code",
   "execution_count": 93,
   "metadata": {},
   "outputs": [
    {
     "data": {
      "text/plain": [
       "array([ 37,  30,  15,  31,  11,  23,  22,  19,  20,  14,  16,  13,   9,\n",
       "        17,  21,  12,  33,  32,  26,  25,  34,  28,  36,  40,  18,  27,\n",
       "        38,  29,  41,  39,  35,  43,  44,  50,  49,  47,  45,  46,  64,\n",
       "        42,  84,  74,  58,  61,  67,  51,  48,  71,  80,  54, 101, 108,\n",
       "       105,  90,  87, 112, 119, 100,  97,  93,  24,  77, 136, 156, 115,\n",
       "         7,   6,  10, 122, 126,   8, 129,   5, 172,   2,   4, 150, 140,\n",
       "         3, 133, 143, 208, 182, 179, 214, 159, 174, 197,   0,   1, 164,\n",
       "       195, 161, 151, 201, 207, 202, 154, 177, 200, 147, 169, 166, 187,\n",
       "       190, 205, 216, 213, 204, 222, 185, 209, 227, 215, 228, 212, 217,\n",
       "       210, 192, 203, 206, 221, 220, 224, 218, 219, 237, 226, 225, 223])"
      ]
     },
     "execution_count": 93,
     "metadata": {},
     "output_type": "execute_result"
    }
   ],
   "source": [
    "pd.Series(pollution[\"O3 AQI\"]).unique()"
   ]
  },
  {
   "cell_type": "markdown",
   "metadata": {},
   "source": [
    "All the values are integer values."
   ]
  },
  {
   "cell_type": "markdown",
   "metadata": {},
   "source": [
    "#### CO AQI"
   ]
  },
  {
   "cell_type": "code",
   "execution_count": 94,
   "metadata": {},
   "outputs": [
    {
     "data": {
      "text/plain": [
       "array([ 25.,  26.,  28.,  34.,  42.,  41.,  40.,  57.,  32.,  51.,  48.,\n",
       "        52.,  59.,  54.,  44.,  55.,  47.,  43.,  45.,  38.,  33.,  16.,\n",
       "        18.,  22.,  35.,  27.,  30.,  36.,  56.,  23.,  19.,  11.,  39.,\n",
       "         6.,  10.,  13.,  24.,  15.,  20.,   7.,   9.,   8.,  17.,  31.,\n",
       "        14.,   5.,   3.,   2.,   1.,  49.,   0.,  92., 126.,  61., 103.,\n",
       "        58.,  50.,  73.,  60.,  96.,  64.,  69.,  67.,  65.,  68.,  70.,\n",
       "        63.,  62., 136., 159.,  78.,  81.,  91., 183.,  79., 201., 173.,\n",
       "        80.,  53.,  66.,  72.,  77.,  82., 106., 118.,  86.,  95., 138.,\n",
       "        85.,  74.,  76.,  98.,  94.,  93.,  84., 113.,  75.,  89., 115.,\n",
       "        87.,  71.])"
      ]
     },
     "execution_count": 94,
     "metadata": {},
     "output_type": "execute_result"
    }
   ],
   "source": [
    "pd.Series(pollution[\"CO AQI\"]).unique()"
   ]
  },
  {
   "cell_type": "markdown",
   "metadata": {},
   "source": [
    "All the values are integer values."
   ]
  },
  {
   "cell_type": "markdown",
   "metadata": {},
   "source": [
    "#### SO2 AQI"
   ]
  },
  {
   "cell_type": "code",
   "execution_count": 95,
   "metadata": {},
   "outputs": [
    {
     "data": {
      "text/plain": [
       "array([ 13.,   4.,  16.,  23.,  21.,  24.,  30.,  26.,  19.,  34.,  37.,\n",
       "        41.,  31.,  27.,  33.,  20.,  10.,  14.,  29.,  40.,  17.,   9.,\n",
       "        11.,   3.,   7.,   6.,   0.,   1.,  39.,  36., 100.,  64.,  54.,\n",
       "        44.,  46.,  65.,  49., 141., 115.,  75.,  43.,  52.,  55.,  62.,\n",
       "        56.,  59.,  79.,  47.,  71.,  50.,  51.,  61.,  69.,  60.,  76.,\n",
       "        70.,  89.,  66.,  82.,  91.,  86.,  92., 104.,  81.,  87.,  67.,\n",
       "       102.,  57., 105.,  84., 136., 133., 106., 124.,  74.,  72., 132.,\n",
       "        96., 110., 101.,  80.,  97., 112.,  90., 108.,  77.,  95.,  85.,\n",
       "       117., 113., 107., 128.,  94.,  99., 111., 134., 119., 109., 144.,\n",
       "       103., 116., 120., 135., 172., 118., 122., 114., 129., 127., 126.,\n",
       "       150., 173., 155., 177., 180., 168., 123., 137., 161., 130., 121.,\n",
       "       125., 195., 167., 153., 145., 156., 200., 140., 176., 154., 131.,\n",
       "       139., 147., 138., 169., 159., 163., 146., 148., 152., 142.])"
      ]
     },
     "execution_count": 95,
     "metadata": {},
     "output_type": "execute_result"
    }
   ],
   "source": [
    "pd.Series(pollution[\"SO2 AQI\"]).unique()"
   ]
  },
  {
   "cell_type": "markdown",
   "metadata": {},
   "source": [
    "All the values are integer values."
   ]
  },
  {
   "cell_type": "markdown",
   "metadata": {},
   "source": [
    "#### NO2 AQI"
   ]
  },
  {
   "cell_type": "code",
   "execution_count": 96,
   "metadata": {},
   "outputs": [
    {
     "data": {
      "text/plain": [
       "array([ 46,  34,  48,  72,  58,  71,  41,  39,  35,  68,  80, 104, 105,\n",
       "        86, 101,  63,  62,  64,  76,  56,  40,  51,  54,  50,  52,  69,\n",
       "        91,  65,  88,  45,  67,  61,  37,  66,  44,  31,  57,  55,  47,\n",
       "        42,  73,  77,  15,  11,  53,  74,   8,   7,   5,   4,   3,   1,\n",
       "        10,   6,  13,  12,   9, 102,  79,  83,  60,  26,  23,  27,  29,\n",
       "        33,  24,  43,  32,  21,  38,  25,  28,  49,  36,  78,  70,  30,\n",
       "        85, 114, 113, 115, 120, 111, 116, 132, 127, 124, 130, 118, 126,\n",
       "       121, 128, 123, 119, 110, 107, 109, 108, 117, 125, 112,  82, 103,\n",
       "        97, 106,  19,  90,  16,  22,  14,  17,  20,  18,   2,  84,  87,\n",
       "        96,  81, 100,  94,  95,  99,  89,  93,  98,   0, 129, 131, 133,\n",
       "       152, 153, 151, 138])"
      ]
     },
     "execution_count": 96,
     "metadata": {},
     "output_type": "execute_result"
    }
   ],
   "source": [
    "pd.Series(pollution[\"NO2 AQI\"]).unique()"
   ]
  },
  {
   "cell_type": "markdown",
   "metadata": {},
   "source": [
    "All the values are integer values."
   ]
  },
  {
   "cell_type": "markdown",
   "metadata": {},
   "source": [
    "## US Air Traffic dataset"
   ]
  },
  {
   "cell_type": "markdown",
   "metadata": {},
   "source": [
    "Dataset column names."
   ]
  },
  {
   "cell_type": "code",
   "execution_count": 97,
   "metadata": {},
   "outputs": [
    {
     "data": {
      "text/plain": [
       "Index(['ID', 'Source', 'Severity', 'Start_Time', 'End_Time', 'Start_Lat',\n",
       "       'Start_Lng', 'End_Lat', 'End_Lng', 'Distance(mi)', 'Description',\n",
       "       'Street', 'City', 'County', 'State', 'Zipcode', 'Country', 'Timezone',\n",
       "       'Airport_Code', 'Weather_Timestamp', 'Temperature(F)', 'Wind_Chill(F)',\n",
       "       'Humidity(%)', 'Pressure(in)', 'Visibility(mi)', 'Wind_Direction',\n",
       "       'Wind_Speed(mph)', 'Precipitation(in)', 'Weather_Condition', 'Amenity',\n",
       "       'Bump', 'Crossing', 'Give_Way', 'Junction', 'No_Exit', 'Railway',\n",
       "       'Roundabout', 'Station', 'Stop', 'Traffic_Calming', 'Traffic_Signal',\n",
       "       'Turning_Loop', 'Sunrise_Sunset', 'Civil_Twilight', 'Nautical_Twilight',\n",
       "       'Astronomical_Twilight'],\n",
       "      dtype='object')"
      ]
     },
     "execution_count": 97,
     "metadata": {},
     "output_type": "execute_result"
    }
   ],
   "source": [
    "us_accidents.columns"
   ]
  },
  {
   "cell_type": "code",
   "execution_count": 123,
   "metadata": {},
   "outputs": [
    {
     "data": {
      "text/plain": [
       "46"
      ]
     },
     "execution_count": 123,
     "metadata": {},
     "output_type": "execute_result"
    }
   ],
   "source": [
    "len(us_accidents.columns)"
   ]
  },
  {
   "cell_type": "markdown",
   "metadata": {},
   "source": [
    "The Traffic accidents in the US dataset includes the following columns: \n",
    "* ID\n",
    "* Source\n",
    "* Severity\n",
    "* Start_Time\n",
    "* End_Time\n",
    "* Start_Lat\n",
    "* Start_Lng\n",
    "* End_Lat\n",
    "* End_Lng\n",
    "* Distance(mi)\n",
    "* Description\n",
    "* Street\n",
    "* City\n",
    "* County\n",
    "* State\n",
    "* Zipcode\n",
    "* Country\n",
    "* Timezone\n",
    "* Airport_Code\n",
    "* Weather_Timestamp\n",
    "* Temperature(F)\n",
    "* Wind_Chill(F)\n",
    "* Humidity(%)\n",
    "* Pressure(in)\n",
    "* Visibility(mi)\n",
    "* Wind_Direction\n",
    "* Wind_Speed(mph)\n",
    "* Precipitation(in)\n",
    "* Weather_Condition\n",
    "* Amenity\n",
    "* Bump\n",
    "* Crossing\n",
    "* Give_Way\n",
    "* Junction\n",
    "* No_Exit\n",
    "* Railway\n",
    "* Roundabout\n",
    "* Station\n",
    "* Stop\n",
    "* Traffic_Calming\n",
    "* Traffic_Signal\n",
    "* Turning_Loop\n",
    "* Sunrise_Sunset\n",
    "* Civil_Twilight\n",
    "* Nautical_Twilight\n",
    "* Astronomical_Twilight"
   ]
  },
  {
   "cell_type": "markdown",
   "metadata": {},
   "source": [
    "Based on the above columns the relevant columns for our project are:\n",
    "* Severity\n",
    "* Start_Time\n",
    "* City\n",
    "* State\n",
    "* Severity\n",
    "* Amenity\n",
    "* Bump \n",
    "* Crossing\n",
    "* Give_way\n",
    "* Junction\n",
    "* No_Way\n",
    "* Railway\n",
    "* Roundabout\n",
    "* Station\n",
    "* Stop\n",
    "* Traffic_Calming\n",
    "* Traffic_Signal"
   ]
  },
  {
   "cell_type": "markdown",
   "metadata": {},
   "source": [
    "### Chracterization of the necessary columns"
   ]
  },
  {
   "cell_type": "markdown",
   "metadata": {},
   "source": [
    "#### Severity"
   ]
  },
  {
   "cell_type": "code",
   "execution_count": 101,
   "metadata": {},
   "outputs": [
    {
     "data": {
      "text/plain": [
       "array([3, 2, 1, 4])"
      ]
     },
     "execution_count": 101,
     "metadata": {},
     "output_type": "execute_result"
    }
   ],
   "source": [
    "pd.Series(us_accidents[\"Severity\"]).unique()"
   ]
  },
  {
   "cell_type": "markdown",
   "metadata": {},
   "source": [
    "#### Start_Time"
   ]
  },
  {
   "cell_type": "code",
   "execution_count": 102,
   "metadata": {},
   "outputs": [
    {
     "data": {
      "text/plain": [
       "array(['2016-02-08 05:46:00', '2016-02-08 06:07:59',\n",
       "       '2016-02-08 06:49:27', ..., '2019-08-23 19:11:30',\n",
       "       '2019-08-23 19:00:21', '2019-08-23 18:52:06'], dtype=object)"
      ]
     },
     "execution_count": 102,
     "metadata": {},
     "output_type": "execute_result"
    }
   ],
   "source": [
    "pd.Series(us_accidents[\"Start_Time\"]).unique()"
   ]
  },
  {
   "cell_type": "markdown",
   "metadata": {},
   "source": [
    "#### City"
   ]
  },
  {
   "cell_type": "code",
   "execution_count": 105,
   "metadata": {},
   "outputs": [
    {
     "data": {
      "text/plain": [
       "array(['Dayton', 'Reynoldsburg', 'Williamsburg', ..., 'Ness City',\n",
       "       'Clarksdale', 'American Fork-Pleasant Grove'], dtype=object)"
      ]
     },
     "execution_count": 105,
     "metadata": {},
     "output_type": "execute_result"
    }
   ],
   "source": [
    "pd.Series(us_accidents[\"City\"]).unique()"
   ]
  },
  {
   "cell_type": "markdown",
   "metadata": {},
   "source": [
    "#### State"
   ]
  },
  {
   "cell_type": "code",
   "execution_count": 121,
   "metadata": {},
   "outputs": [
    {
     "data": {
      "text/plain": [
       "array(['OH', 'WV', 'CA', 'FL', 'GA', 'SC', 'NE', 'IA', 'IL', 'MO', 'WI',\n",
       "       'IN', 'MI', 'NJ', 'NY', 'CT', 'MA', 'RI', 'NH', 'PA', 'KY', 'MD',\n",
       "       'VA', 'DC', 'DE', 'TX', 'WA', 'OR', 'AL', 'NC', 'AZ', 'TN', 'LA',\n",
       "       'MN', 'CO', 'OK', 'NV', 'UT', 'KS', 'NM', 'AR', 'MS', 'ME', 'VT',\n",
       "       'WY', 'ID', 'ND', 'MT', 'SD'], dtype=object)"
      ]
     },
     "execution_count": 121,
     "metadata": {},
     "output_type": "execute_result"
    }
   ],
   "source": [
    "pd.Series(us_accidents[\"State\"]).unique()"
   ]
  },
  {
   "cell_type": "markdown",
   "metadata": {},
   "source": [
    "#### Severity"
   ]
  },
  {
   "cell_type": "code",
   "execution_count": 107,
   "metadata": {},
   "outputs": [
    {
     "data": {
      "text/plain": [
       "array([3, 2, 1, 4])"
      ]
     },
     "execution_count": 107,
     "metadata": {},
     "output_type": "execute_result"
    }
   ],
   "source": [
    "pd.Series(us_accidents[\"Severity\"]).unique()"
   ]
  },
  {
   "cell_type": "markdown",
   "metadata": {},
   "source": [
    "#### Amenity"
   ]
  },
  {
   "cell_type": "code",
   "execution_count": 108,
   "metadata": {},
   "outputs": [
    {
     "data": {
      "text/plain": [
       "array([False,  True])"
      ]
     },
     "execution_count": 108,
     "metadata": {},
     "output_type": "execute_result"
    }
   ],
   "source": [
    "pd.Series(us_accidents[\"Amenity\"]).unique()"
   ]
  },
  {
   "cell_type": "markdown",
   "metadata": {},
   "source": [
    "#### Bump"
   ]
  },
  {
   "cell_type": "code",
   "execution_count": 109,
   "metadata": {},
   "outputs": [
    {
     "data": {
      "text/plain": [
       "array([False,  True])"
      ]
     },
     "execution_count": 109,
     "metadata": {},
     "output_type": "execute_result"
    }
   ],
   "source": [
    "pd.Series(us_accidents[\"Bump\"]).unique()"
   ]
  },
  {
   "cell_type": "markdown",
   "metadata": {},
   "source": [
    "#### Crossing"
   ]
  },
  {
   "cell_type": "code",
   "execution_count": 110,
   "metadata": {},
   "outputs": [
    {
     "data": {
      "text/plain": [
       "array([False,  True])"
      ]
     },
     "execution_count": 110,
     "metadata": {},
     "output_type": "execute_result"
    }
   ],
   "source": [
    "pd.Series(us_accidents[\"Crossing\"]).unique()"
   ]
  },
  {
   "cell_type": "markdown",
   "metadata": {},
   "source": [
    "#### Give_Way"
   ]
  },
  {
   "cell_type": "code",
   "execution_count": 111,
   "metadata": {},
   "outputs": [
    {
     "data": {
      "text/plain": [
       "array([False,  True])"
      ]
     },
     "execution_count": 111,
     "metadata": {},
     "output_type": "execute_result"
    }
   ],
   "source": [
    "pd.Series(us_accidents[\"Give_Way\"]).unique()"
   ]
  },
  {
   "cell_type": "markdown",
   "metadata": {},
   "source": [
    "#### Junction "
   ]
  },
  {
   "cell_type": "code",
   "execution_count": 112,
   "metadata": {},
   "outputs": [
    {
     "data": {
      "text/plain": [
       "array([False,  True])"
      ]
     },
     "execution_count": 112,
     "metadata": {},
     "output_type": "execute_result"
    }
   ],
   "source": [
    "pd.Series(us_accidents[\"Junction\"]).unique()"
   ]
  },
  {
   "cell_type": "markdown",
   "metadata": {},
   "source": [
    "#### No_Exit"
   ]
  },
  {
   "cell_type": "code",
   "execution_count": 113,
   "metadata": {},
   "outputs": [
    {
     "data": {
      "text/plain": [
       "array([False,  True])"
      ]
     },
     "execution_count": 113,
     "metadata": {},
     "output_type": "execute_result"
    }
   ],
   "source": [
    "pd.Series(us_accidents[\"No_Exit\"]).unique()"
   ]
  },
  {
   "cell_type": "markdown",
   "metadata": {},
   "source": [
    "#### Railway "
   ]
  },
  {
   "cell_type": "code",
   "execution_count": 114,
   "metadata": {},
   "outputs": [
    {
     "data": {
      "text/plain": [
       "array([False,  True])"
      ]
     },
     "execution_count": 114,
     "metadata": {},
     "output_type": "execute_result"
    }
   ],
   "source": [
    "pd.Series(us_accidents[\"Railway\"]).unique()"
   ]
  },
  {
   "cell_type": "markdown",
   "metadata": {},
   "source": [
    "#### Roundabout "
   ]
  },
  {
   "cell_type": "code",
   "execution_count": 115,
   "metadata": {},
   "outputs": [
    {
     "data": {
      "text/plain": [
       "array([False,  True])"
      ]
     },
     "execution_count": 115,
     "metadata": {},
     "output_type": "execute_result"
    }
   ],
   "source": [
    "pd.Series(us_accidents[\"Roundabout\"]).unique()"
   ]
  },
  {
   "cell_type": "markdown",
   "metadata": {},
   "source": [
    "#### Station"
   ]
  },
  {
   "cell_type": "code",
   "execution_count": 116,
   "metadata": {},
   "outputs": [
    {
     "data": {
      "text/plain": [
       "array([False,  True])"
      ]
     },
     "execution_count": 116,
     "metadata": {},
     "output_type": "execute_result"
    }
   ],
   "source": [
    "pd.Series(us_accidents[\"Station\"]).unique()"
   ]
  },
  {
   "cell_type": "markdown",
   "metadata": {},
   "source": [
    "#### Stop"
   ]
  },
  {
   "cell_type": "code",
   "execution_count": 117,
   "metadata": {},
   "outputs": [
    {
     "data": {
      "text/plain": [
       "array([False,  True])"
      ]
     },
     "execution_count": 117,
     "metadata": {},
     "output_type": "execute_result"
    }
   ],
   "source": [
    "pd.Series(us_accidents[\"Stop\"]).unique()"
   ]
  },
  {
   "cell_type": "markdown",
   "metadata": {},
   "source": [
    "#### Traffic_Calming"
   ]
  },
  {
   "cell_type": "code",
   "execution_count": 118,
   "metadata": {},
   "outputs": [
    {
     "data": {
      "text/plain": [
       "array([False,  True])"
      ]
     },
     "execution_count": 118,
     "metadata": {},
     "output_type": "execute_result"
    }
   ],
   "source": [
    "pd.Series(us_accidents[\"Traffic_Calming\"]).unique()"
   ]
  },
  {
   "cell_type": "markdown",
   "metadata": {},
   "source": [
    "#### Traffic_Signal"
   ]
  },
  {
   "cell_type": "code",
   "execution_count": 119,
   "metadata": {},
   "outputs": [
    {
     "data": {
      "text/plain": [
       "array([False,  True])"
      ]
     },
     "execution_count": 119,
     "metadata": {},
     "output_type": "execute_result"
    }
   ],
   "source": [
    "pd.Series(us_accidents[\"Traffic_Signal\"]).unique()"
   ]
  }
 ],
 "metadata": {
  "kernelspec": {
   "display_name": "base",
   "language": "python",
   "name": "python3"
  },
  "language_info": {
   "codemirror_mode": {
    "name": "ipython",
    "version": 3
   },
   "file_extension": ".py",
   "mimetype": "text/x-python",
   "name": "python",
   "nbconvert_exporter": "python",
   "pygments_lexer": "ipython3",
   "version": "3.8.8"
  }
 },
 "nbformat": 4,
 "nbformat_minor": 2
}
