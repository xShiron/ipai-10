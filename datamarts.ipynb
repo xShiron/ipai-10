{
 "cells": [
  {
   "cell_type": "markdown",
   "id": "fc93272a",
   "metadata": {},
   "source": [
    "# Imports"
   ]
  },
  {
   "cell_type": "code",
   "execution_count": 153,
   "id": "8661e93e",
   "metadata": {},
   "outputs": [],
   "source": [
    "import pandas as pd\n",
    "import re\n",
    "import py_stringmatching.similarity_measure.jaro as jaro\n",
    "import py_stringmatching"
   ]
  },
  {
   "cell_type": "markdown",
   "id": "87ceead5",
   "metadata": {},
   "source": [
    "# Reading the cleaned csvs"
   ]
  },
  {
   "cell_type": "code",
   "execution_count": 154,
   "id": "002ce17e",
   "metadata": {},
   "outputs": [],
   "source": [
    "us_accidents = pd.read_csv(\"./Cleaned Datasets/us_accidents_cleaned.csv\", index_col=[0])\n",
    "nba = pd.read_csv(\"./Cleaned Datasets/team_cleaned.csv\", index_col=[0])\n",
    "pollution = pd.read_csv(\"./Cleaned Datasets/pollution_cleaned.csv\", index_col=[0])\n",
    "nba_teams = pd.read_csv(\"./Cleaned Datasets/nba_elo_cleaned.csv\", index_col=[0])"
   ]
  },
  {
   "cell_type": "code",
   "execution_count": 155,
   "id": "1a52d83d",
   "metadata": {},
   "outputs": [
    {
     "data": {
      "text/html": [
       "<div>\n",
       "<style scoped>\n",
       "    .dataframe tbody tr th:only-of-type {\n",
       "        vertical-align: middle;\n",
       "    }\n",
       "\n",
       "    .dataframe tbody tr th {\n",
       "        vertical-align: top;\n",
       "    }\n",
       "\n",
       "    .dataframe thead th {\n",
       "        text-align: right;\n",
       "    }\n",
       "</style>\n",
       "<table border=\"1\" class=\"dataframe\">\n",
       "  <thead>\n",
       "    <tr style=\"text-align: right;\">\n",
       "      <th></th>\n",
       "      <th>Severity</th>\n",
       "      <th>Start_Time</th>\n",
       "      <th>City</th>\n",
       "      <th>State</th>\n",
       "      <th>Amenity</th>\n",
       "      <th>Bump</th>\n",
       "      <th>Crossing</th>\n",
       "      <th>Give_Way</th>\n",
       "      <th>Junction</th>\n",
       "      <th>No_Exit</th>\n",
       "      <th>Railway</th>\n",
       "      <th>Roundabout</th>\n",
       "      <th>Station</th>\n",
       "      <th>Stop</th>\n",
       "      <th>Traffic_Calming</th>\n",
       "      <th>Traffic_Signal</th>\n",
       "      <th>Start_Lat</th>\n",
       "      <th>Start_Lng</th>\n",
       "    </tr>\n",
       "  </thead>\n",
       "  <tbody>\n",
       "    <tr>\n",
       "      <th>0</th>\n",
       "      <td>3</td>\n",
       "      <td>2016-02-08 05:46:00</td>\n",
       "      <td>DAYTON</td>\n",
       "      <td>OH</td>\n",
       "      <td>False</td>\n",
       "      <td>False</td>\n",
       "      <td>False</td>\n",
       "      <td>False</td>\n",
       "      <td>False</td>\n",
       "      <td>False</td>\n",
       "      <td>False</td>\n",
       "      <td>False</td>\n",
       "      <td>False</td>\n",
       "      <td>False</td>\n",
       "      <td>False</td>\n",
       "      <td>False</td>\n",
       "      <td>39.865147</td>\n",
       "      <td>-84.058723</td>\n",
       "    </tr>\n",
       "    <tr>\n",
       "      <th>1</th>\n",
       "      <td>2</td>\n",
       "      <td>2016-02-08 06:07:59</td>\n",
       "      <td>REYNOLDSBURG</td>\n",
       "      <td>OH</td>\n",
       "      <td>False</td>\n",
       "      <td>False</td>\n",
       "      <td>False</td>\n",
       "      <td>False</td>\n",
       "      <td>False</td>\n",
       "      <td>False</td>\n",
       "      <td>False</td>\n",
       "      <td>False</td>\n",
       "      <td>False</td>\n",
       "      <td>False</td>\n",
       "      <td>False</td>\n",
       "      <td>False</td>\n",
       "      <td>39.928059</td>\n",
       "      <td>-82.831184</td>\n",
       "    </tr>\n",
       "    <tr>\n",
       "      <th>2</th>\n",
       "      <td>2</td>\n",
       "      <td>2016-02-08 06:49:27</td>\n",
       "      <td>WILLIAMSBURG</td>\n",
       "      <td>OH</td>\n",
       "      <td>False</td>\n",
       "      <td>False</td>\n",
       "      <td>False</td>\n",
       "      <td>False</td>\n",
       "      <td>False</td>\n",
       "      <td>False</td>\n",
       "      <td>False</td>\n",
       "      <td>False</td>\n",
       "      <td>False</td>\n",
       "      <td>False</td>\n",
       "      <td>False</td>\n",
       "      <td>True</td>\n",
       "      <td>39.063148</td>\n",
       "      <td>-84.032608</td>\n",
       "    </tr>\n",
       "    <tr>\n",
       "      <th>3</th>\n",
       "      <td>3</td>\n",
       "      <td>2016-02-08 07:23:34</td>\n",
       "      <td>DAYTON</td>\n",
       "      <td>OH</td>\n",
       "      <td>False</td>\n",
       "      <td>False</td>\n",
       "      <td>False</td>\n",
       "      <td>False</td>\n",
       "      <td>False</td>\n",
       "      <td>False</td>\n",
       "      <td>False</td>\n",
       "      <td>False</td>\n",
       "      <td>False</td>\n",
       "      <td>False</td>\n",
       "      <td>False</td>\n",
       "      <td>False</td>\n",
       "      <td>39.747753</td>\n",
       "      <td>-84.205582</td>\n",
       "    </tr>\n",
       "    <tr>\n",
       "      <th>4</th>\n",
       "      <td>2</td>\n",
       "      <td>2016-02-08 07:39:07</td>\n",
       "      <td>DAYTON</td>\n",
       "      <td>OH</td>\n",
       "      <td>False</td>\n",
       "      <td>False</td>\n",
       "      <td>False</td>\n",
       "      <td>False</td>\n",
       "      <td>False</td>\n",
       "      <td>False</td>\n",
       "      <td>False</td>\n",
       "      <td>False</td>\n",
       "      <td>False</td>\n",
       "      <td>False</td>\n",
       "      <td>False</td>\n",
       "      <td>True</td>\n",
       "      <td>39.627781</td>\n",
       "      <td>-84.188354</td>\n",
       "    </tr>\n",
       "    <tr>\n",
       "      <th>...</th>\n",
       "      <td>...</td>\n",
       "      <td>...</td>\n",
       "      <td>...</td>\n",
       "      <td>...</td>\n",
       "      <td>...</td>\n",
       "      <td>...</td>\n",
       "      <td>...</td>\n",
       "      <td>...</td>\n",
       "      <td>...</td>\n",
       "      <td>...</td>\n",
       "      <td>...</td>\n",
       "      <td>...</td>\n",
       "      <td>...</td>\n",
       "      <td>...</td>\n",
       "      <td>...</td>\n",
       "      <td>...</td>\n",
       "      <td>...</td>\n",
       "      <td>...</td>\n",
       "    </tr>\n",
       "    <tr>\n",
       "      <th>7728389</th>\n",
       "      <td>2</td>\n",
       "      <td>2019-08-23 18:03:25</td>\n",
       "      <td>RIVERSIDE</td>\n",
       "      <td>CA</td>\n",
       "      <td>False</td>\n",
       "      <td>False</td>\n",
       "      <td>False</td>\n",
       "      <td>False</td>\n",
       "      <td>False</td>\n",
       "      <td>False</td>\n",
       "      <td>False</td>\n",
       "      <td>False</td>\n",
       "      <td>False</td>\n",
       "      <td>False</td>\n",
       "      <td>False</td>\n",
       "      <td>False</td>\n",
       "      <td>34.002480</td>\n",
       "      <td>-117.379360</td>\n",
       "    </tr>\n",
       "    <tr>\n",
       "      <th>7728390</th>\n",
       "      <td>2</td>\n",
       "      <td>2019-08-23 19:11:30</td>\n",
       "      <td>SANDIEGO</td>\n",
       "      <td>CA</td>\n",
       "      <td>False</td>\n",
       "      <td>False</td>\n",
       "      <td>False</td>\n",
       "      <td>False</td>\n",
       "      <td>False</td>\n",
       "      <td>False</td>\n",
       "      <td>False</td>\n",
       "      <td>False</td>\n",
       "      <td>False</td>\n",
       "      <td>False</td>\n",
       "      <td>False</td>\n",
       "      <td>False</td>\n",
       "      <td>32.766960</td>\n",
       "      <td>-117.148060</td>\n",
       "    </tr>\n",
       "    <tr>\n",
       "      <th>7728391</th>\n",
       "      <td>2</td>\n",
       "      <td>2019-08-23 19:00:21</td>\n",
       "      <td>ORANGE</td>\n",
       "      <td>CA</td>\n",
       "      <td>False</td>\n",
       "      <td>False</td>\n",
       "      <td>False</td>\n",
       "      <td>False</td>\n",
       "      <td>True</td>\n",
       "      <td>False</td>\n",
       "      <td>False</td>\n",
       "      <td>False</td>\n",
       "      <td>False</td>\n",
       "      <td>False</td>\n",
       "      <td>False</td>\n",
       "      <td>False</td>\n",
       "      <td>33.775450</td>\n",
       "      <td>-117.847790</td>\n",
       "    </tr>\n",
       "    <tr>\n",
       "      <th>7728392</th>\n",
       "      <td>2</td>\n",
       "      <td>2019-08-23 19:00:21</td>\n",
       "      <td>CULVERCITY</td>\n",
       "      <td>CA</td>\n",
       "      <td>False</td>\n",
       "      <td>False</td>\n",
       "      <td>False</td>\n",
       "      <td>False</td>\n",
       "      <td>False</td>\n",
       "      <td>False</td>\n",
       "      <td>False</td>\n",
       "      <td>False</td>\n",
       "      <td>False</td>\n",
       "      <td>False</td>\n",
       "      <td>False</td>\n",
       "      <td>False</td>\n",
       "      <td>33.992460</td>\n",
       "      <td>-118.403020</td>\n",
       "    </tr>\n",
       "    <tr>\n",
       "      <th>7728393</th>\n",
       "      <td>2</td>\n",
       "      <td>2019-08-23 18:52:06</td>\n",
       "      <td>HIGHLAND</td>\n",
       "      <td>CA</td>\n",
       "      <td>False</td>\n",
       "      <td>False</td>\n",
       "      <td>False</td>\n",
       "      <td>False</td>\n",
       "      <td>False</td>\n",
       "      <td>False</td>\n",
       "      <td>False</td>\n",
       "      <td>False</td>\n",
       "      <td>False</td>\n",
       "      <td>False</td>\n",
       "      <td>False</td>\n",
       "      <td>False</td>\n",
       "      <td>34.133930</td>\n",
       "      <td>-117.230920</td>\n",
       "    </tr>\n",
       "  </tbody>\n",
       "</table>\n",
       "<p>7354121 rows × 18 columns</p>\n",
       "</div>"
      ],
      "text/plain": [
       "         Severity           Start_Time          City State  Amenity   Bump  \\\n",
       "0               3  2016-02-08 05:46:00        DAYTON    OH    False  False   \n",
       "1               2  2016-02-08 06:07:59  REYNOLDSBURG    OH    False  False   \n",
       "2               2  2016-02-08 06:49:27  WILLIAMSBURG    OH    False  False   \n",
       "3               3  2016-02-08 07:23:34        DAYTON    OH    False  False   \n",
       "4               2  2016-02-08 07:39:07        DAYTON    OH    False  False   \n",
       "...           ...                  ...           ...   ...      ...    ...   \n",
       "7728389         2  2019-08-23 18:03:25     RIVERSIDE    CA    False  False   \n",
       "7728390         2  2019-08-23 19:11:30      SANDIEGO    CA    False  False   \n",
       "7728391         2  2019-08-23 19:00:21        ORANGE    CA    False  False   \n",
       "7728392         2  2019-08-23 19:00:21    CULVERCITY    CA    False  False   \n",
       "7728393         2  2019-08-23 18:52:06      HIGHLAND    CA    False  False   \n",
       "\n",
       "         Crossing  Give_Way  Junction  No_Exit  Railway  Roundabout  Station  \\\n",
       "0           False     False     False    False    False       False    False   \n",
       "1           False     False     False    False    False       False    False   \n",
       "2           False     False     False    False    False       False    False   \n",
       "3           False     False     False    False    False       False    False   \n",
       "4           False     False     False    False    False       False    False   \n",
       "...           ...       ...       ...      ...      ...         ...      ...   \n",
       "7728389     False     False     False    False    False       False    False   \n",
       "7728390     False     False     False    False    False       False    False   \n",
       "7728391     False     False      True    False    False       False    False   \n",
       "7728392     False     False     False    False    False       False    False   \n",
       "7728393     False     False     False    False    False       False    False   \n",
       "\n",
       "          Stop  Traffic_Calming  Traffic_Signal  Start_Lat   Start_Lng  \n",
       "0        False            False           False  39.865147  -84.058723  \n",
       "1        False            False           False  39.928059  -82.831184  \n",
       "2        False            False            True  39.063148  -84.032608  \n",
       "3        False            False           False  39.747753  -84.205582  \n",
       "4        False            False            True  39.627781  -84.188354  \n",
       "...        ...              ...             ...        ...         ...  \n",
       "7728389  False            False           False  34.002480 -117.379360  \n",
       "7728390  False            False           False  32.766960 -117.148060  \n",
       "7728391  False            False           False  33.775450 -117.847790  \n",
       "7728392  False            False           False  33.992460 -118.403020  \n",
       "7728393  False            False           False  34.133930 -117.230920  \n",
       "\n",
       "[7354121 rows x 18 columns]"
      ]
     },
     "execution_count": 155,
     "metadata": {},
     "output_type": "execute_result"
    }
   ],
   "source": [
    "us_accidents"
   ]
  },
  {
   "cell_type": "markdown",
   "id": "f9a93f9b",
   "metadata": {},
   "source": [
    "# Creation of the data marts"
   ]
  },
  {
   "cell_type": "markdown",
   "id": "0873e148",
   "metadata": {},
   "source": [
    "## Game Impact Mart"
   ]
  },
  {
   "cell_type": "markdown",
   "id": "33764e4d",
   "metadata": {},
   "source": [
    "This data mart will have all the data necessary to analyze and answer our main question for this project."
   ]
  },
  {
   "cell_type": "markdown",
   "id": "108f134b",
   "metadata": {},
   "source": [
    "To build it, we'll require all the datasets we accquired thus far."
   ]
  },
  {
   "cell_type": "code",
   "execution_count": 156,
   "id": "8f25f9fa",
   "metadata": {},
   "outputs": [],
   "source": [
    "us_state_name_to_abbrev = {\n",
    "    'ALABAMA': 'AL',\n",
    "    'ALASKA': 'AK',\n",
    "    'ARIZONA': 'AZ',\n",
    "    'ARKANSAS': 'AR',\n",
    "    'CALIFORNIA': 'CA',\n",
    "    'COLORADO': 'CO',\n",
    "    'CONNECTICUT': 'CT',\n",
    "    'DELAWARE': 'DE',\n",
    "    'FLORIDA': 'FL',\n",
    "    'GEORGIA': 'GA',\n",
    "    'HAWAII': 'HI',\n",
    "    'IDAHO': 'ID',\n",
    "    'ILLINOIS': 'IL',\n",
    "    'INDIANA': 'IN',\n",
    "    'IOWA': 'IA',\n",
    "    'KANSAS': 'KS',\n",
    "    'KENTUCKY': 'KY',\n",
    "    'LOUISIANA': 'LA',\n",
    "    'MAINE': 'ME',\n",
    "    'MARYLAND': 'MD',\n",
    "    'MASSACHUSETTS': 'MA',\n",
    "    'MICHIGAN': 'MI',\n",
    "    'MINNESOTA': 'MN',\n",
    "    'MISSISSIPPI': 'MS',\n",
    "    'MISSOURI': 'MO',\n",
    "    'MONTANA': 'MT',\n",
    "    'NEBRASKA': 'NE',\n",
    "    'NEVADA': 'NV',\n",
    "    'NEWHAMPSHIRE': 'NH',\n",
    "    'NEWJERSEY': 'NJ',\n",
    "    'NEWMEXICO': 'NM',\n",
    "    'NEWYORK': 'NY',\n",
    "    'NORTHCAROLINA': 'NC',\n",
    "    'NORTHDAKOTA': 'ND',\n",
    "    'OHIO': 'OH',\n",
    "    'OKLAHOMA': 'OK',\n",
    "    'OREGON': 'OR',\n",
    "    'PENNSYLVANIA': 'PA',\n",
    "    'RHODEISLAND': 'RI',\n",
    "    'SOUTHCAROLINA': 'SC',\n",
    "    'SOUTHDAKOTA': 'SD',\n",
    "    'TENNESSEE': 'TN',\n",
    "    'TEXAS': 'TX',\n",
    "    'UTAH': 'UT',\n",
    "    'VERMONT': 'VT',\n",
    "    'VIRGINIA': 'VA',\n",
    "    'WASHINGTON': 'WA',\n",
    "    'WESTVIRGINIA': 'WV',\n",
    "    'WISCONSIN': 'WI',\n",
    "    'WYOMING': 'WY',\n",
    "    'DISTRICTOFCOLUMBIA': 'DC'\n",
    "}\n"
   ]
  },
  {
   "cell_type": "code",
   "execution_count": 157,
   "id": "43b95a28",
   "metadata": {},
   "outputs": [],
   "source": [
    "nba_teams[\"state\"] = nba_teams[\"state\"].apply(lambda x: us_state_name_to_abbrev[x].upper())"
   ]
  },
  {
   "cell_type": "code",
   "execution_count": 158,
   "id": "6c2c05e7",
   "metadata": {},
   "outputs": [],
   "source": [
    "for index in nba.index:\n",
    "    score1 = nba.loc[index, \"score1\"]\n",
    "    score2 = nba.loc[index, \"score2\"]\n",
    "    if score1 > score2:\n",
    "        nba.loc[index, \"loser\"] = nba.loc[index, \"team2\"]\n",
    "        nba.loc[index, \"winner\"] = nba.loc[index, \"team1\"]\n",
    "    if score2 > score1:\n",
    "        nba.loc[index, \"loser\"] = nba.loc[index, \"team1\"]\n",
    "        nba.loc[index, \"winner\"] = nba.loc[index, \"team2\"]\n",
    "        \n",
    "nba = nba.dropna(subset=['loser'])\n",
    "del nba_teams[\"id\"]"
   ]
  },
  {
   "cell_type": "markdown",
   "id": "a4473c0b",
   "metadata": {},
   "source": [
    "### Matching team information to NBA match loser team"
   ]
  },
  {
   "cell_type": "code",
   "execution_count": 159,
   "id": "b35d9492",
   "metadata": {},
   "outputs": [
    {
     "data": {
      "text/html": [
       "<div>\n",
       "<style scoped>\n",
       "    .dataframe tbody tr th:only-of-type {\n",
       "        vertical-align: middle;\n",
       "    }\n",
       "\n",
       "    .dataframe tbody tr th {\n",
       "        vertical-align: top;\n",
       "    }\n",
       "\n",
       "    .dataframe thead th {\n",
       "        text-align: right;\n",
       "    }\n",
       "</style>\n",
       "<table border=\"1\" class=\"dataframe\">\n",
       "  <thead>\n",
       "    <tr style=\"text-align: right;\">\n",
       "      <th></th>\n",
       "      <th>full_name</th>\n",
       "      <th>abbreviation</th>\n",
       "      <th>nickname</th>\n",
       "      <th>city</th>\n",
       "      <th>state</th>\n",
       "      <th>year_founded</th>\n",
       "    </tr>\n",
       "  </thead>\n",
       "  <tbody>\n",
       "    <tr>\n",
       "      <th>0</th>\n",
       "      <td>ATLANTAHAWKS</td>\n",
       "      <td>ATL</td>\n",
       "      <td>HAWKS</td>\n",
       "      <td>ATLANTA</td>\n",
       "      <td>AK</td>\n",
       "      <td>1949.0</td>\n",
       "    </tr>\n",
       "    <tr>\n",
       "      <th>1</th>\n",
       "      <td>BOSTONCELTICS</td>\n",
       "      <td>BOS</td>\n",
       "      <td>CELTICS</td>\n",
       "      <td>BOSTON</td>\n",
       "      <td>MA</td>\n",
       "      <td>1946.0</td>\n",
       "    </tr>\n",
       "    <tr>\n",
       "      <th>2</th>\n",
       "      <td>CLEVELANDCAVALIERS</td>\n",
       "      <td>CLE</td>\n",
       "      <td>CAVALIERS</td>\n",
       "      <td>CLEVELAND</td>\n",
       "      <td>OH</td>\n",
       "      <td>1970.0</td>\n",
       "    </tr>\n",
       "    <tr>\n",
       "      <th>3</th>\n",
       "      <td>NEWORLEANSPELICANS</td>\n",
       "      <td>NOP</td>\n",
       "      <td>PELICANS</td>\n",
       "      <td>NEWORLEANS</td>\n",
       "      <td>LA</td>\n",
       "      <td>2002.0</td>\n",
       "    </tr>\n",
       "    <tr>\n",
       "      <th>4</th>\n",
       "      <td>CHICAGOBULLS</td>\n",
       "      <td>CHI</td>\n",
       "      <td>BULLS</td>\n",
       "      <td>CHICAGO</td>\n",
       "      <td>IL</td>\n",
       "      <td>1966.0</td>\n",
       "    </tr>\n",
       "    <tr>\n",
       "      <th>5</th>\n",
       "      <td>DALLASMAVERICKS</td>\n",
       "      <td>DAL</td>\n",
       "      <td>MAVERICKS</td>\n",
       "      <td>DALLAS</td>\n",
       "      <td>TX</td>\n",
       "      <td>1980.0</td>\n",
       "    </tr>\n",
       "    <tr>\n",
       "      <th>6</th>\n",
       "      <td>DENVERNUGGETS</td>\n",
       "      <td>DEN</td>\n",
       "      <td>NUGGETS</td>\n",
       "      <td>DENVER</td>\n",
       "      <td>CO</td>\n",
       "      <td>1976.0</td>\n",
       "    </tr>\n",
       "    <tr>\n",
       "      <th>7</th>\n",
       "      <td>GOLDENSTATEWARRIORS</td>\n",
       "      <td>GSW</td>\n",
       "      <td>WARRIORS</td>\n",
       "      <td>GOLDENSTATE</td>\n",
       "      <td>CA</td>\n",
       "      <td>1946.0</td>\n",
       "    </tr>\n",
       "    <tr>\n",
       "      <th>8</th>\n",
       "      <td>HOUSTONROCKETS</td>\n",
       "      <td>HOU</td>\n",
       "      <td>ROCKETS</td>\n",
       "      <td>HOUSTON</td>\n",
       "      <td>TX</td>\n",
       "      <td>1967.0</td>\n",
       "    </tr>\n",
       "    <tr>\n",
       "      <th>9</th>\n",
       "      <td>LOSANGELESCLIPPERS</td>\n",
       "      <td>LAC</td>\n",
       "      <td>CLIPPERS</td>\n",
       "      <td>LOSANGELES</td>\n",
       "      <td>CA</td>\n",
       "      <td>1970.0</td>\n",
       "    </tr>\n",
       "    <tr>\n",
       "      <th>10</th>\n",
       "      <td>LOSANGELESLAKERS</td>\n",
       "      <td>LAL</td>\n",
       "      <td>LAKERS</td>\n",
       "      <td>LOSANGELES</td>\n",
       "      <td>CA</td>\n",
       "      <td>1948.0</td>\n",
       "    </tr>\n",
       "    <tr>\n",
       "      <th>11</th>\n",
       "      <td>MIAMIHEAT</td>\n",
       "      <td>MIA</td>\n",
       "      <td>HEAT</td>\n",
       "      <td>MIAMI</td>\n",
       "      <td>FL</td>\n",
       "      <td>1988.0</td>\n",
       "    </tr>\n",
       "    <tr>\n",
       "      <th>12</th>\n",
       "      <td>MILWAUKEEBUCKS</td>\n",
       "      <td>MIL</td>\n",
       "      <td>BUCKS</td>\n",
       "      <td>MILWAUKEE</td>\n",
       "      <td>WI</td>\n",
       "      <td>1968.0</td>\n",
       "    </tr>\n",
       "    <tr>\n",
       "      <th>13</th>\n",
       "      <td>MINNESOTATIMBERWOLVES</td>\n",
       "      <td>MIN</td>\n",
       "      <td>TIMBERWOLVES</td>\n",
       "      <td>MINNESOTA</td>\n",
       "      <td>MN</td>\n",
       "      <td>1989.0</td>\n",
       "    </tr>\n",
       "    <tr>\n",
       "      <th>14</th>\n",
       "      <td>BROOKLYNNETS</td>\n",
       "      <td>BKN</td>\n",
       "      <td>NETS</td>\n",
       "      <td>BROOKLYN</td>\n",
       "      <td>NY</td>\n",
       "      <td>1976.0</td>\n",
       "    </tr>\n",
       "    <tr>\n",
       "      <th>15</th>\n",
       "      <td>NEWYORKKNICKS</td>\n",
       "      <td>NYK</td>\n",
       "      <td>KNICKS</td>\n",
       "      <td>NEWYORK</td>\n",
       "      <td>NY</td>\n",
       "      <td>1946.0</td>\n",
       "    </tr>\n",
       "    <tr>\n",
       "      <th>16</th>\n",
       "      <td>ORLANDOMAGIC</td>\n",
       "      <td>ORL</td>\n",
       "      <td>MAGIC</td>\n",
       "      <td>ORLANDO</td>\n",
       "      <td>FL</td>\n",
       "      <td>1989.0</td>\n",
       "    </tr>\n",
       "    <tr>\n",
       "      <th>17</th>\n",
       "      <td>INDIANAPACERS</td>\n",
       "      <td>IND</td>\n",
       "      <td>PACERS</td>\n",
       "      <td>INDIANA</td>\n",
       "      <td>IN</td>\n",
       "      <td>1976.0</td>\n",
       "    </tr>\n",
       "    <tr>\n",
       "      <th>18</th>\n",
       "      <td>PHILADELPHIA76ERS</td>\n",
       "      <td>PHI</td>\n",
       "      <td>76ERS</td>\n",
       "      <td>PHILADELPHIA</td>\n",
       "      <td>PA</td>\n",
       "      <td>1949.0</td>\n",
       "    </tr>\n",
       "    <tr>\n",
       "      <th>19</th>\n",
       "      <td>PHOENIXSUNS</td>\n",
       "      <td>PHX</td>\n",
       "      <td>SUNS</td>\n",
       "      <td>PHOENIX</td>\n",
       "      <td>AZ</td>\n",
       "      <td>1968.0</td>\n",
       "    </tr>\n",
       "    <tr>\n",
       "      <th>20</th>\n",
       "      <td>PORTLANDTRAILBLAZERS</td>\n",
       "      <td>POR</td>\n",
       "      <td>TRAILBLAZERS</td>\n",
       "      <td>PORTLAND</td>\n",
       "      <td>OR</td>\n",
       "      <td>1970.0</td>\n",
       "    </tr>\n",
       "    <tr>\n",
       "      <th>21</th>\n",
       "      <td>SACRAMENTOKINGS</td>\n",
       "      <td>SAC</td>\n",
       "      <td>KINGS</td>\n",
       "      <td>SACRAMENTO</td>\n",
       "      <td>CA</td>\n",
       "      <td>1948.0</td>\n",
       "    </tr>\n",
       "    <tr>\n",
       "      <th>22</th>\n",
       "      <td>SANANTONIOSPURS</td>\n",
       "      <td>SAS</td>\n",
       "      <td>SPURS</td>\n",
       "      <td>SANANTONIO</td>\n",
       "      <td>TX</td>\n",
       "      <td>1976.0</td>\n",
       "    </tr>\n",
       "    <tr>\n",
       "      <th>23</th>\n",
       "      <td>OKLAHOMACITYTHUNDER</td>\n",
       "      <td>OKC</td>\n",
       "      <td>THUNDER</td>\n",
       "      <td>OKLAHOMACITY</td>\n",
       "      <td>OK</td>\n",
       "      <td>1967.0</td>\n",
       "    </tr>\n",
       "    <tr>\n",
       "      <th>24</th>\n",
       "      <td>TORONTORAPTORS</td>\n",
       "      <td>TOR</td>\n",
       "      <td>RAPTORS</td>\n",
       "      <td>TORONTO</td>\n",
       "      <td>MT</td>\n",
       "      <td>1995.0</td>\n",
       "    </tr>\n",
       "    <tr>\n",
       "      <th>25</th>\n",
       "      <td>UTAHJAZZ</td>\n",
       "      <td>UTA</td>\n",
       "      <td>JAZZ</td>\n",
       "      <td>UTAH</td>\n",
       "      <td>UT</td>\n",
       "      <td>1974.0</td>\n",
       "    </tr>\n",
       "    <tr>\n",
       "      <th>26</th>\n",
       "      <td>MEMPHISGRIZZLIES</td>\n",
       "      <td>MEM</td>\n",
       "      <td>GRIZZLIES</td>\n",
       "      <td>MEMPHIS</td>\n",
       "      <td>TN</td>\n",
       "      <td>1995.0</td>\n",
       "    </tr>\n",
       "    <tr>\n",
       "      <th>27</th>\n",
       "      <td>WASHINGTONWIZARDS</td>\n",
       "      <td>WAS</td>\n",
       "      <td>WIZARDS</td>\n",
       "      <td>WASHINGTON</td>\n",
       "      <td>CA</td>\n",
       "      <td>1961.0</td>\n",
       "    </tr>\n",
       "    <tr>\n",
       "      <th>28</th>\n",
       "      <td>DETROITPISTONS</td>\n",
       "      <td>DET</td>\n",
       "      <td>PISTONS</td>\n",
       "      <td>DETROIT</td>\n",
       "      <td>MI</td>\n",
       "      <td>1948.0</td>\n",
       "    </tr>\n",
       "    <tr>\n",
       "      <th>29</th>\n",
       "      <td>CHARLOTTEHORNETS</td>\n",
       "      <td>CHA</td>\n",
       "      <td>HORNETS</td>\n",
       "      <td>CHARLOTTE</td>\n",
       "      <td>NC</td>\n",
       "      <td>1988.0</td>\n",
       "    </tr>\n",
       "  </tbody>\n",
       "</table>\n",
       "</div>"
      ],
      "text/plain": [
       "                full_name abbreviation      nickname          city state  \\\n",
       "0            ATLANTAHAWKS          ATL         HAWKS       ATLANTA    AK   \n",
       "1           BOSTONCELTICS          BOS       CELTICS        BOSTON    MA   \n",
       "2      CLEVELANDCAVALIERS          CLE     CAVALIERS     CLEVELAND    OH   \n",
       "3      NEWORLEANSPELICANS          NOP      PELICANS    NEWORLEANS    LA   \n",
       "4            CHICAGOBULLS          CHI         BULLS       CHICAGO    IL   \n",
       "5         DALLASMAVERICKS          DAL     MAVERICKS        DALLAS    TX   \n",
       "6           DENVERNUGGETS          DEN       NUGGETS        DENVER    CO   \n",
       "7     GOLDENSTATEWARRIORS          GSW      WARRIORS   GOLDENSTATE    CA   \n",
       "8          HOUSTONROCKETS          HOU       ROCKETS       HOUSTON    TX   \n",
       "9      LOSANGELESCLIPPERS          LAC      CLIPPERS    LOSANGELES    CA   \n",
       "10       LOSANGELESLAKERS          LAL        LAKERS    LOSANGELES    CA   \n",
       "11              MIAMIHEAT          MIA          HEAT         MIAMI    FL   \n",
       "12         MILWAUKEEBUCKS          MIL         BUCKS     MILWAUKEE    WI   \n",
       "13  MINNESOTATIMBERWOLVES          MIN  TIMBERWOLVES     MINNESOTA    MN   \n",
       "14           BROOKLYNNETS          BKN          NETS      BROOKLYN    NY   \n",
       "15          NEWYORKKNICKS          NYK        KNICKS       NEWYORK    NY   \n",
       "16           ORLANDOMAGIC          ORL         MAGIC       ORLANDO    FL   \n",
       "17          INDIANAPACERS          IND        PACERS       INDIANA    IN   \n",
       "18      PHILADELPHIA76ERS          PHI         76ERS  PHILADELPHIA    PA   \n",
       "19            PHOENIXSUNS          PHX          SUNS       PHOENIX    AZ   \n",
       "20   PORTLANDTRAILBLAZERS          POR  TRAILBLAZERS      PORTLAND    OR   \n",
       "21        SACRAMENTOKINGS          SAC         KINGS    SACRAMENTO    CA   \n",
       "22        SANANTONIOSPURS          SAS         SPURS    SANANTONIO    TX   \n",
       "23    OKLAHOMACITYTHUNDER          OKC       THUNDER  OKLAHOMACITY    OK   \n",
       "24         TORONTORAPTORS          TOR       RAPTORS       TORONTO    MT   \n",
       "25               UTAHJAZZ          UTA          JAZZ          UTAH    UT   \n",
       "26       MEMPHISGRIZZLIES          MEM     GRIZZLIES       MEMPHIS    TN   \n",
       "27      WASHINGTONWIZARDS          WAS       WIZARDS    WASHINGTON    CA   \n",
       "28         DETROITPISTONS          DET       PISTONS       DETROIT    MI   \n",
       "29       CHARLOTTEHORNETS          CHA       HORNETS     CHARLOTTE    NC   \n",
       "\n",
       "    year_founded  \n",
       "0         1949.0  \n",
       "1         1946.0  \n",
       "2         1970.0  \n",
       "3         2002.0  \n",
       "4         1966.0  \n",
       "5         1980.0  \n",
       "6         1976.0  \n",
       "7         1946.0  \n",
       "8         1967.0  \n",
       "9         1970.0  \n",
       "10        1948.0  \n",
       "11        1988.0  \n",
       "12        1968.0  \n",
       "13        1989.0  \n",
       "14        1976.0  \n",
       "15        1946.0  \n",
       "16        1989.0  \n",
       "17        1976.0  \n",
       "18        1949.0  \n",
       "19        1968.0  \n",
       "20        1970.0  \n",
       "21        1948.0  \n",
       "22        1976.0  \n",
       "23        1967.0  \n",
       "24        1995.0  \n",
       "25        1974.0  \n",
       "26        1995.0  \n",
       "27        1961.0  \n",
       "28        1948.0  \n",
       "29        1988.0  "
      ]
     },
     "execution_count": 159,
     "metadata": {},
     "output_type": "execute_result"
    }
   ],
   "source": [
    "nba_teams"
   ]
  },
  {
   "cell_type": "code",
   "execution_count": 160,
   "id": "a9616e85",
   "metadata": {},
   "outputs": [
    {
     "data": {
      "text/html": [
       "<div>\n",
       "<style scoped>\n",
       "    .dataframe tbody tr th:only-of-type {\n",
       "        vertical-align: middle;\n",
       "    }\n",
       "\n",
       "    .dataframe tbody tr th {\n",
       "        vertical-align: top;\n",
       "    }\n",
       "\n",
       "    .dataframe thead th {\n",
       "        text-align: right;\n",
       "    }\n",
       "</style>\n",
       "<table border=\"1\" class=\"dataframe\">\n",
       "  <thead>\n",
       "    <tr style=\"text-align: right;\">\n",
       "      <th></th>\n",
       "      <th>index</th>\n",
       "      <th>date</th>\n",
       "      <th>season</th>\n",
       "      <th>neutral</th>\n",
       "      <th>playoff</th>\n",
       "      <th>team1</th>\n",
       "      <th>team2</th>\n",
       "      <th>elo1_pre</th>\n",
       "      <th>elo2_pre</th>\n",
       "      <th>elo_prob1</th>\n",
       "      <th>...</th>\n",
       "      <th>carmelo2_pre</th>\n",
       "      <th>carmelo1_post</th>\n",
       "      <th>carmelo2_post</th>\n",
       "      <th>carmelo_prob1</th>\n",
       "      <th>carmelo_prob2</th>\n",
       "      <th>score1</th>\n",
       "      <th>score2</th>\n",
       "      <th>loser</th>\n",
       "      <th>winner</th>\n",
       "      <th>matches</th>\n",
       "    </tr>\n",
       "  </thead>\n",
       "  <tbody>\n",
       "    <tr>\n",
       "      <th>0</th>\n",
       "      <td>0</td>\n",
       "      <td>1946-11-01</td>\n",
       "      <td>1947</td>\n",
       "      <td>0</td>\n",
       "      <td>False</td>\n",
       "      <td>TRH</td>\n",
       "      <td>NYK</td>\n",
       "      <td>1300.000000</td>\n",
       "      <td>1300.000000</td>\n",
       "      <td>0.640065</td>\n",
       "      <td>...</td>\n",
       "      <td>NaN</td>\n",
       "      <td>NaN</td>\n",
       "      <td>NaN</td>\n",
       "      <td>NaN</td>\n",
       "      <td>NaN</td>\n",
       "      <td>66.0</td>\n",
       "      <td>68.0</td>\n",
       "      <td>TRH</td>\n",
       "      <td>NYK</td>\n",
       "      <td>[]</td>\n",
       "    </tr>\n",
       "    <tr>\n",
       "      <th>1</th>\n",
       "      <td>1</td>\n",
       "      <td>1946-11-02</td>\n",
       "      <td>1947</td>\n",
       "      <td>0</td>\n",
       "      <td>False</td>\n",
       "      <td>CHS</td>\n",
       "      <td>NYK</td>\n",
       "      <td>1300.000000</td>\n",
       "      <td>1306.723300</td>\n",
       "      <td>0.631101</td>\n",
       "      <td>...</td>\n",
       "      <td>NaN</td>\n",
       "      <td>NaN</td>\n",
       "      <td>NaN</td>\n",
       "      <td>NaN</td>\n",
       "      <td>NaN</td>\n",
       "      <td>63.0</td>\n",
       "      <td>47.0</td>\n",
       "      <td>NYK</td>\n",
       "      <td>CHS</td>\n",
       "      <td>[NYK]</td>\n",
       "    </tr>\n",
       "    <tr>\n",
       "      <th>2</th>\n",
       "      <td>2</td>\n",
       "      <td>1946-11-02</td>\n",
       "      <td>1947</td>\n",
       "      <td>0</td>\n",
       "      <td>False</td>\n",
       "      <td>PRO</td>\n",
       "      <td>BOS</td>\n",
       "      <td>1300.000000</td>\n",
       "      <td>1300.000000</td>\n",
       "      <td>0.640065</td>\n",
       "      <td>...</td>\n",
       "      <td>NaN</td>\n",
       "      <td>NaN</td>\n",
       "      <td>NaN</td>\n",
       "      <td>NaN</td>\n",
       "      <td>NaN</td>\n",
       "      <td>59.0</td>\n",
       "      <td>53.0</td>\n",
       "      <td>BOS</td>\n",
       "      <td>PRO</td>\n",
       "      <td>[BOS]</td>\n",
       "    </tr>\n",
       "    <tr>\n",
       "      <th>3</th>\n",
       "      <td>3</td>\n",
       "      <td>1946-11-02</td>\n",
       "      <td>1947</td>\n",
       "      <td>0</td>\n",
       "      <td>False</td>\n",
       "      <td>STB</td>\n",
       "      <td>PIT</td>\n",
       "      <td>1300.000000</td>\n",
       "      <td>1300.000000</td>\n",
       "      <td>0.640065</td>\n",
       "      <td>...</td>\n",
       "      <td>NaN</td>\n",
       "      <td>NaN</td>\n",
       "      <td>NaN</td>\n",
       "      <td>NaN</td>\n",
       "      <td>NaN</td>\n",
       "      <td>56.0</td>\n",
       "      <td>51.0</td>\n",
       "      <td>PIT</td>\n",
       "      <td>STB</td>\n",
       "      <td>[]</td>\n",
       "    </tr>\n",
       "    <tr>\n",
       "      <th>4</th>\n",
       "      <td>4</td>\n",
       "      <td>1946-11-02</td>\n",
       "      <td>1947</td>\n",
       "      <td>0</td>\n",
       "      <td>False</td>\n",
       "      <td>DTF</td>\n",
       "      <td>WSC</td>\n",
       "      <td>1300.000000</td>\n",
       "      <td>1300.000000</td>\n",
       "      <td>0.640065</td>\n",
       "      <td>...</td>\n",
       "      <td>NaN</td>\n",
       "      <td>NaN</td>\n",
       "      <td>NaN</td>\n",
       "      <td>NaN</td>\n",
       "      <td>NaN</td>\n",
       "      <td>33.0</td>\n",
       "      <td>50.0</td>\n",
       "      <td>DTF</td>\n",
       "      <td>WSC</td>\n",
       "      <td>[]</td>\n",
       "    </tr>\n",
       "    <tr>\n",
       "      <th>...</th>\n",
       "      <td>...</td>\n",
       "      <td>...</td>\n",
       "      <td>...</td>\n",
       "      <td>...</td>\n",
       "      <td>...</td>\n",
       "      <td>...</td>\n",
       "      <td>...</td>\n",
       "      <td>...</td>\n",
       "      <td>...</td>\n",
       "      <td>...</td>\n",
       "      <td>...</td>\n",
       "      <td>...</td>\n",
       "      <td>...</td>\n",
       "      <td>...</td>\n",
       "      <td>...</td>\n",
       "      <td>...</td>\n",
       "      <td>...</td>\n",
       "      <td>...</td>\n",
       "      <td>...</td>\n",
       "      <td>...</td>\n",
       "      <td>...</td>\n",
       "    </tr>\n",
       "    <tr>\n",
       "      <th>67007</th>\n",
       "      <td>67007</td>\n",
       "      <td>2018-04-11</td>\n",
       "      <td>2018</td>\n",
       "      <td>0</td>\n",
       "      <td>False</td>\n",
       "      <td>PHI</td>\n",
       "      <td>MIL</td>\n",
       "      <td>1651.670164</td>\n",
       "      <td>1522.789678</td>\n",
       "      <td>0.788772</td>\n",
       "      <td>...</td>\n",
       "      <td>1518.775821</td>\n",
       "      <td>1670.684530</td>\n",
       "      <td>1507.976699</td>\n",
       "      <td>0.746325</td>\n",
       "      <td>0.253675</td>\n",
       "      <td>130.0</td>\n",
       "      <td>95.0</td>\n",
       "      <td>MIL</td>\n",
       "      <td>PHI</td>\n",
       "      <td>[MIL]</td>\n",
       "    </tr>\n",
       "    <tr>\n",
       "      <th>67008</th>\n",
       "      <td>67008</td>\n",
       "      <td>2018-04-11</td>\n",
       "      <td>2018</td>\n",
       "      <td>0</td>\n",
       "      <td>False</td>\n",
       "      <td>CLE</td>\n",
       "      <td>NYK</td>\n",
       "      <td>1579.727989</td>\n",
       "      <td>1350.312469</td>\n",
       "      <td>0.869469</td>\n",
       "      <td>...</td>\n",
       "      <td>1353.366271</td>\n",
       "      <td>1551.305868</td>\n",
       "      <td>1380.535101</td>\n",
       "      <td>0.865447</td>\n",
       "      <td>0.134553</td>\n",
       "      <td>98.0</td>\n",
       "      <td>110.0</td>\n",
       "      <td>CLE</td>\n",
       "      <td>NYK</td>\n",
       "      <td>[CLE]</td>\n",
       "    </tr>\n",
       "    <tr>\n",
       "      <th>67009</th>\n",
       "      <td>67009</td>\n",
       "      <td>2018-04-11</td>\n",
       "      <td>2018</td>\n",
       "      <td>0</td>\n",
       "      <td>False</td>\n",
       "      <td>SAC</td>\n",
       "      <td>HOU</td>\n",
       "      <td>1331.355896</td>\n",
       "      <td>1761.165813</td>\n",
       "      <td>0.130274</td>\n",
       "      <td>...</td>\n",
       "      <td>1776.681162</td>\n",
       "      <td>1355.612647</td>\n",
       "      <td>1748.389768</td>\n",
       "      <td>0.138616</td>\n",
       "      <td>0.861384</td>\n",
       "      <td>96.0</td>\n",
       "      <td>83.0</td>\n",
       "      <td>HOU</td>\n",
       "      <td>SAC</td>\n",
       "      <td>[HOU]</td>\n",
       "    </tr>\n",
       "    <tr>\n",
       "      <th>67010</th>\n",
       "      <td>67010</td>\n",
       "      <td>2018-04-11</td>\n",
       "      <td>2018</td>\n",
       "      <td>0</td>\n",
       "      <td>False</td>\n",
       "      <td>POR</td>\n",
       "      <td>UTA</td>\n",
       "      <td>1604.852723</td>\n",
       "      <td>1695.749505</td>\n",
       "      <td>0.513098</td>\n",
       "      <td>...</td>\n",
       "      <td>1685.253159</td>\n",
       "      <td>1618.401111</td>\n",
       "      <td>1677.637894</td>\n",
       "      <td>0.589215</td>\n",
       "      <td>0.410785</td>\n",
       "      <td>102.0</td>\n",
       "      <td>93.0</td>\n",
       "      <td>UTA</td>\n",
       "      <td>POR</td>\n",
       "      <td>[UTA]</td>\n",
       "    </tr>\n",
       "    <tr>\n",
       "      <th>67011</th>\n",
       "      <td>67011</td>\n",
       "      <td>2018-04-11</td>\n",
       "      <td>2018</td>\n",
       "      <td>0</td>\n",
       "      <td>False</td>\n",
       "      <td>LAC</td>\n",
       "      <td>LAL</td>\n",
       "      <td>1528.448006</td>\n",
       "      <td>1463.985250</td>\n",
       "      <td>0.720456</td>\n",
       "      <td>...</td>\n",
       "      <td>1464.037662</td>\n",
       "      <td>1508.010997</td>\n",
       "      <td>1488.928339</td>\n",
       "      <td>0.769509</td>\n",
       "      <td>0.230491</td>\n",
       "      <td>100.0</td>\n",
       "      <td>115.0</td>\n",
       "      <td>LAC</td>\n",
       "      <td>LAL</td>\n",
       "      <td>[LAC]</td>\n",
       "    </tr>\n",
       "  </tbody>\n",
       "</table>\n",
       "<p>67012 rows × 24 columns</p>\n",
       "</div>"
      ],
      "text/plain": [
       "       index        date  season  neutral  playoff team1 team2     elo1_pre  \\\n",
       "0          0  1946-11-01    1947        0    False   TRH   NYK  1300.000000   \n",
       "1          1  1946-11-02    1947        0    False   CHS   NYK  1300.000000   \n",
       "2          2  1946-11-02    1947        0    False   PRO   BOS  1300.000000   \n",
       "3          3  1946-11-02    1947        0    False   STB   PIT  1300.000000   \n",
       "4          4  1946-11-02    1947        0    False   DTF   WSC  1300.000000   \n",
       "...      ...         ...     ...      ...      ...   ...   ...          ...   \n",
       "67007  67007  2018-04-11    2018        0    False   PHI   MIL  1651.670164   \n",
       "67008  67008  2018-04-11    2018        0    False   CLE   NYK  1579.727989   \n",
       "67009  67009  2018-04-11    2018        0    False   SAC   HOU  1331.355896   \n",
       "67010  67010  2018-04-11    2018        0    False   POR   UTA  1604.852723   \n",
       "67011  67011  2018-04-11    2018        0    False   LAC   LAL  1528.448006   \n",
       "\n",
       "          elo2_pre  elo_prob1  ...  carmelo2_pre  carmelo1_post  \\\n",
       "0      1300.000000   0.640065  ...           NaN            NaN   \n",
       "1      1306.723300   0.631101  ...           NaN            NaN   \n",
       "2      1300.000000   0.640065  ...           NaN            NaN   \n",
       "3      1300.000000   0.640065  ...           NaN            NaN   \n",
       "4      1300.000000   0.640065  ...           NaN            NaN   \n",
       "...            ...        ...  ...           ...            ...   \n",
       "67007  1522.789678   0.788772  ...   1518.775821    1670.684530   \n",
       "67008  1350.312469   0.869469  ...   1353.366271    1551.305868   \n",
       "67009  1761.165813   0.130274  ...   1776.681162    1355.612647   \n",
       "67010  1695.749505   0.513098  ...   1685.253159    1618.401111   \n",
       "67011  1463.985250   0.720456  ...   1464.037662    1508.010997   \n",
       "\n",
       "       carmelo2_post  carmelo_prob1  carmelo_prob2  score1  score2  loser  \\\n",
       "0                NaN            NaN            NaN    66.0    68.0    TRH   \n",
       "1                NaN            NaN            NaN    63.0    47.0    NYK   \n",
       "2                NaN            NaN            NaN    59.0    53.0    BOS   \n",
       "3                NaN            NaN            NaN    56.0    51.0    PIT   \n",
       "4                NaN            NaN            NaN    33.0    50.0    DTF   \n",
       "...              ...            ...            ...     ...     ...    ...   \n",
       "67007    1507.976699       0.746325       0.253675   130.0    95.0    MIL   \n",
       "67008    1380.535101       0.865447       0.134553    98.0   110.0    CLE   \n",
       "67009    1748.389768       0.138616       0.861384    96.0    83.0    HOU   \n",
       "67010    1677.637894       0.589215       0.410785   102.0    93.0    UTA   \n",
       "67011    1488.928339       0.769509       0.230491   100.0   115.0    LAC   \n",
       "\n",
       "       winner  matches  \n",
       "0         NYK       []  \n",
       "1         CHS    [NYK]  \n",
       "2         PRO    [BOS]  \n",
       "3         STB       []  \n",
       "4         WSC       []  \n",
       "...       ...      ...  \n",
       "67007     PHI    [MIL]  \n",
       "67008     NYK    [CLE]  \n",
       "67009     SAC    [HOU]  \n",
       "67010     POR    [UTA]  \n",
       "67011     LAL    [LAC]  \n",
       "\n",
       "[67012 rows x 24 columns]"
      ]
     },
     "execution_count": 160,
     "metadata": {},
     "output_type": "execute_result"
    }
   ],
   "source": [
    "nba['matches'] = [[] for _ in range(len(nba))] \n",
    "\n",
    "for idx in nba.index:\n",
    "    for abbr in nba_teams.abbreviation.values:\n",
    "        abbr_score = jaro.Jaro().get_sim_score(nba.loc[idx, \"loser\"], abbr)\n",
    "\n",
    "        if abbr_score >= 0.8:\n",
    "            nba.loc[idx, \"matches\"].append(abbr)\n",
    "nba"
   ]
  },
  {
   "cell_type": "markdown",
   "id": "f8ebabf8",
   "metadata": {},
   "source": [
    "1st Data fusion strategy: If more than two teams match with the same abbreviation, we keep the most recently founded team's info. This is due to the fact that there are some old teams whose match data won't match to any of the US accidents data."
   ]
  },
  {
   "cell_type": "code",
   "execution_count": 161,
   "id": "9ae1c0e3",
   "metadata": {},
   "outputs": [],
   "source": [
    "match_conflicts = nba[nba['matches'].apply(lambda x: len(x) > 1)]\n",
    "\n",
    "for idx in match_conflicts.index:\n",
    "    most_recent = None\n",
    "    for match in match_conflicts.loc[idx, \"matches\"]:\n",
    "        year = nba_teams[nba_teams[\"abbreviation\"] == match].year\n",
    "\n",
    "        if year > most_recent:\n",
    "            most_recent = match\n",
    "    nba.loc[idx, \"matches\"] = [most_recent]"
   ]
  },
  {
   "cell_type": "markdown",
   "id": "2f1697dc",
   "metadata": {},
   "source": [
    "Keeping only rows where there were matches:"
   ]
  },
  {
   "cell_type": "code",
   "execution_count": 162,
   "id": "05b4cf31",
   "metadata": {},
   "outputs": [],
   "source": [
    "nba = nba[nba['matches'].apply(lambda x: len(x) > 0)]"
   ]
  },
  {
   "cell_type": "markdown",
   "id": "6be06410",
   "metadata": {},
   "source": [
    "Removing the match from the list:"
   ]
  },
  {
   "cell_type": "code",
   "execution_count": 163,
   "id": "d9f93564",
   "metadata": {},
   "outputs": [
    {
     "name": "stderr",
     "output_type": "stream",
     "text": [
      "/var/folders/cl/46_xwg1s1cv84pny0b6b2d000000gn/T/ipykernel_36840/889968744.py:1: SettingWithCopyWarning: \n",
      "A value is trying to be set on a copy of a slice from a DataFrame.\n",
      "Try using .loc[row_indexer,col_indexer] = value instead\n",
      "\n",
      "See the caveats in the documentation: https://pandas.pydata.org/pandas-docs/stable/user_guide/indexing.html#returning-a-view-versus-a-copy\n",
      "  nba['matches'] = nba['matches'].apply(lambda x: x[0])\n"
     ]
    },
    {
     "data": {
      "text/html": [
       "<div>\n",
       "<style scoped>\n",
       "    .dataframe tbody tr th:only-of-type {\n",
       "        vertical-align: middle;\n",
       "    }\n",
       "\n",
       "    .dataframe tbody tr th {\n",
       "        vertical-align: top;\n",
       "    }\n",
       "\n",
       "    .dataframe thead th {\n",
       "        text-align: right;\n",
       "    }\n",
       "</style>\n",
       "<table border=\"1\" class=\"dataframe\">\n",
       "  <thead>\n",
       "    <tr style=\"text-align: right;\">\n",
       "      <th></th>\n",
       "      <th>index</th>\n",
       "      <th>date</th>\n",
       "      <th>season</th>\n",
       "      <th>neutral</th>\n",
       "      <th>playoff</th>\n",
       "      <th>team1</th>\n",
       "      <th>team2</th>\n",
       "      <th>elo1_pre</th>\n",
       "      <th>elo2_pre</th>\n",
       "      <th>elo_prob1</th>\n",
       "      <th>...</th>\n",
       "      <th>carmelo2_pre</th>\n",
       "      <th>carmelo1_post</th>\n",
       "      <th>carmelo2_post</th>\n",
       "      <th>carmelo_prob1</th>\n",
       "      <th>carmelo_prob2</th>\n",
       "      <th>score1</th>\n",
       "      <th>score2</th>\n",
       "      <th>loser</th>\n",
       "      <th>winner</th>\n",
       "      <th>matches</th>\n",
       "    </tr>\n",
       "  </thead>\n",
       "  <tbody>\n",
       "    <tr>\n",
       "      <th>1</th>\n",
       "      <td>1</td>\n",
       "      <td>1946-11-02</td>\n",
       "      <td>1947</td>\n",
       "      <td>0</td>\n",
       "      <td>False</td>\n",
       "      <td>CHS</td>\n",
       "      <td>NYK</td>\n",
       "      <td>1300.000000</td>\n",
       "      <td>1306.723300</td>\n",
       "      <td>0.631101</td>\n",
       "      <td>...</td>\n",
       "      <td>NaN</td>\n",
       "      <td>NaN</td>\n",
       "      <td>NaN</td>\n",
       "      <td>NaN</td>\n",
       "      <td>NaN</td>\n",
       "      <td>63.0</td>\n",
       "      <td>47.0</td>\n",
       "      <td>NYK</td>\n",
       "      <td>CHS</td>\n",
       "      <td>NYK</td>\n",
       "    </tr>\n",
       "    <tr>\n",
       "      <th>2</th>\n",
       "      <td>2</td>\n",
       "      <td>1946-11-02</td>\n",
       "      <td>1947</td>\n",
       "      <td>0</td>\n",
       "      <td>False</td>\n",
       "      <td>PRO</td>\n",
       "      <td>BOS</td>\n",
       "      <td>1300.000000</td>\n",
       "      <td>1300.000000</td>\n",
       "      <td>0.640065</td>\n",
       "      <td>...</td>\n",
       "      <td>NaN</td>\n",
       "      <td>NaN</td>\n",
       "      <td>NaN</td>\n",
       "      <td>NaN</td>\n",
       "      <td>NaN</td>\n",
       "      <td>59.0</td>\n",
       "      <td>53.0</td>\n",
       "      <td>BOS</td>\n",
       "      <td>PRO</td>\n",
       "      <td>BOS</td>\n",
       "    </tr>\n",
       "    <tr>\n",
       "      <th>7</th>\n",
       "      <td>7</td>\n",
       "      <td>1946-11-05</td>\n",
       "      <td>1947</td>\n",
       "      <td>0</td>\n",
       "      <td>False</td>\n",
       "      <td>BOS</td>\n",
       "      <td>CHS</td>\n",
       "      <td>1294.845800</td>\n",
       "      <td>1309.652100</td>\n",
       "      <td>0.620204</td>\n",
       "      <td>...</td>\n",
       "      <td>NaN</td>\n",
       "      <td>NaN</td>\n",
       "      <td>NaN</td>\n",
       "      <td>NaN</td>\n",
       "      <td>NaN</td>\n",
       "      <td>55.0</td>\n",
       "      <td>57.0</td>\n",
       "      <td>BOS</td>\n",
       "      <td>CHS</td>\n",
       "      <td>BOS</td>\n",
       "    </tr>\n",
       "    <tr>\n",
       "      <th>16</th>\n",
       "      <td>16</td>\n",
       "      <td>1946-11-09</td>\n",
       "      <td>1947</td>\n",
       "      <td>0</td>\n",
       "      <td>False</td>\n",
       "      <td>DTF</td>\n",
       "      <td>BOS</td>\n",
       "      <td>1268.446800</td>\n",
       "      <td>1288.413900</td>\n",
       "      <td>0.613182</td>\n",
       "      <td>...</td>\n",
       "      <td>NaN</td>\n",
       "      <td>NaN</td>\n",
       "      <td>NaN</td>\n",
       "      <td>NaN</td>\n",
       "      <td>NaN</td>\n",
       "      <td>69.0</td>\n",
       "      <td>46.0</td>\n",
       "      <td>BOS</td>\n",
       "      <td>DTF</td>\n",
       "      <td>BOS</td>\n",
       "    </tr>\n",
       "    <tr>\n",
       "      <th>18</th>\n",
       "      <td>18</td>\n",
       "      <td>1946-11-11</td>\n",
       "      <td>1947</td>\n",
       "      <td>0</td>\n",
       "      <td>False</td>\n",
       "      <td>NYK</td>\n",
       "      <td>CHS</td>\n",
       "      <td>1307.319700</td>\n",
       "      <td>1315.252200</td>\n",
       "      <td>0.629479</td>\n",
       "      <td>...</td>\n",
       "      <td>NaN</td>\n",
       "      <td>NaN</td>\n",
       "      <td>NaN</td>\n",
       "      <td>NaN</td>\n",
       "      <td>NaN</td>\n",
       "      <td>68.0</td>\n",
       "      <td>78.0</td>\n",
       "      <td>NYK</td>\n",
       "      <td>CHS</td>\n",
       "      <td>NYK</td>\n",
       "    </tr>\n",
       "    <tr>\n",
       "      <th>...</th>\n",
       "      <td>...</td>\n",
       "      <td>...</td>\n",
       "      <td>...</td>\n",
       "      <td>...</td>\n",
       "      <td>...</td>\n",
       "      <td>...</td>\n",
       "      <td>...</td>\n",
       "      <td>...</td>\n",
       "      <td>...</td>\n",
       "      <td>...</td>\n",
       "      <td>...</td>\n",
       "      <td>...</td>\n",
       "      <td>...</td>\n",
       "      <td>...</td>\n",
       "      <td>...</td>\n",
       "      <td>...</td>\n",
       "      <td>...</td>\n",
       "      <td>...</td>\n",
       "      <td>...</td>\n",
       "      <td>...</td>\n",
       "      <td>...</td>\n",
       "    </tr>\n",
       "    <tr>\n",
       "      <th>67007</th>\n",
       "      <td>67007</td>\n",
       "      <td>2018-04-11</td>\n",
       "      <td>2018</td>\n",
       "      <td>0</td>\n",
       "      <td>False</td>\n",
       "      <td>PHI</td>\n",
       "      <td>MIL</td>\n",
       "      <td>1651.670164</td>\n",
       "      <td>1522.789678</td>\n",
       "      <td>0.788772</td>\n",
       "      <td>...</td>\n",
       "      <td>1518.775821</td>\n",
       "      <td>1670.684530</td>\n",
       "      <td>1507.976699</td>\n",
       "      <td>0.746325</td>\n",
       "      <td>0.253675</td>\n",
       "      <td>130.0</td>\n",
       "      <td>95.0</td>\n",
       "      <td>MIL</td>\n",
       "      <td>PHI</td>\n",
       "      <td>MIL</td>\n",
       "    </tr>\n",
       "    <tr>\n",
       "      <th>67008</th>\n",
       "      <td>67008</td>\n",
       "      <td>2018-04-11</td>\n",
       "      <td>2018</td>\n",
       "      <td>0</td>\n",
       "      <td>False</td>\n",
       "      <td>CLE</td>\n",
       "      <td>NYK</td>\n",
       "      <td>1579.727989</td>\n",
       "      <td>1350.312469</td>\n",
       "      <td>0.869469</td>\n",
       "      <td>...</td>\n",
       "      <td>1353.366271</td>\n",
       "      <td>1551.305868</td>\n",
       "      <td>1380.535101</td>\n",
       "      <td>0.865447</td>\n",
       "      <td>0.134553</td>\n",
       "      <td>98.0</td>\n",
       "      <td>110.0</td>\n",
       "      <td>CLE</td>\n",
       "      <td>NYK</td>\n",
       "      <td>CLE</td>\n",
       "    </tr>\n",
       "    <tr>\n",
       "      <th>67009</th>\n",
       "      <td>67009</td>\n",
       "      <td>2018-04-11</td>\n",
       "      <td>2018</td>\n",
       "      <td>0</td>\n",
       "      <td>False</td>\n",
       "      <td>SAC</td>\n",
       "      <td>HOU</td>\n",
       "      <td>1331.355896</td>\n",
       "      <td>1761.165813</td>\n",
       "      <td>0.130274</td>\n",
       "      <td>...</td>\n",
       "      <td>1776.681162</td>\n",
       "      <td>1355.612647</td>\n",
       "      <td>1748.389768</td>\n",
       "      <td>0.138616</td>\n",
       "      <td>0.861384</td>\n",
       "      <td>96.0</td>\n",
       "      <td>83.0</td>\n",
       "      <td>HOU</td>\n",
       "      <td>SAC</td>\n",
       "      <td>HOU</td>\n",
       "    </tr>\n",
       "    <tr>\n",
       "      <th>67010</th>\n",
       "      <td>67010</td>\n",
       "      <td>2018-04-11</td>\n",
       "      <td>2018</td>\n",
       "      <td>0</td>\n",
       "      <td>False</td>\n",
       "      <td>POR</td>\n",
       "      <td>UTA</td>\n",
       "      <td>1604.852723</td>\n",
       "      <td>1695.749505</td>\n",
       "      <td>0.513098</td>\n",
       "      <td>...</td>\n",
       "      <td>1685.253159</td>\n",
       "      <td>1618.401111</td>\n",
       "      <td>1677.637894</td>\n",
       "      <td>0.589215</td>\n",
       "      <td>0.410785</td>\n",
       "      <td>102.0</td>\n",
       "      <td>93.0</td>\n",
       "      <td>UTA</td>\n",
       "      <td>POR</td>\n",
       "      <td>UTA</td>\n",
       "    </tr>\n",
       "    <tr>\n",
       "      <th>67011</th>\n",
       "      <td>67011</td>\n",
       "      <td>2018-04-11</td>\n",
       "      <td>2018</td>\n",
       "      <td>0</td>\n",
       "      <td>False</td>\n",
       "      <td>LAC</td>\n",
       "      <td>LAL</td>\n",
       "      <td>1528.448006</td>\n",
       "      <td>1463.985250</td>\n",
       "      <td>0.720456</td>\n",
       "      <td>...</td>\n",
       "      <td>1464.037662</td>\n",
       "      <td>1508.010997</td>\n",
       "      <td>1488.928339</td>\n",
       "      <td>0.769509</td>\n",
       "      <td>0.230491</td>\n",
       "      <td>100.0</td>\n",
       "      <td>115.0</td>\n",
       "      <td>LAC</td>\n",
       "      <td>LAL</td>\n",
       "      <td>LAC</td>\n",
       "    </tr>\n",
       "  </tbody>\n",
       "</table>\n",
       "<p>46637 rows × 24 columns</p>\n",
       "</div>"
      ],
      "text/plain": [
       "       index        date  season  neutral  playoff team1 team2     elo1_pre  \\\n",
       "1          1  1946-11-02    1947        0    False   CHS   NYK  1300.000000   \n",
       "2          2  1946-11-02    1947        0    False   PRO   BOS  1300.000000   \n",
       "7          7  1946-11-05    1947        0    False   BOS   CHS  1294.845800   \n",
       "16        16  1946-11-09    1947        0    False   DTF   BOS  1268.446800   \n",
       "18        18  1946-11-11    1947        0    False   NYK   CHS  1307.319700   \n",
       "...      ...         ...     ...      ...      ...   ...   ...          ...   \n",
       "67007  67007  2018-04-11    2018        0    False   PHI   MIL  1651.670164   \n",
       "67008  67008  2018-04-11    2018        0    False   CLE   NYK  1579.727989   \n",
       "67009  67009  2018-04-11    2018        0    False   SAC   HOU  1331.355896   \n",
       "67010  67010  2018-04-11    2018        0    False   POR   UTA  1604.852723   \n",
       "67011  67011  2018-04-11    2018        0    False   LAC   LAL  1528.448006   \n",
       "\n",
       "          elo2_pre  elo_prob1  ...  carmelo2_pre  carmelo1_post  \\\n",
       "1      1306.723300   0.631101  ...           NaN            NaN   \n",
       "2      1300.000000   0.640065  ...           NaN            NaN   \n",
       "7      1309.652100   0.620204  ...           NaN            NaN   \n",
       "16     1288.413900   0.613182  ...           NaN            NaN   \n",
       "18     1315.252200   0.629479  ...           NaN            NaN   \n",
       "...            ...        ...  ...           ...            ...   \n",
       "67007  1522.789678   0.788772  ...   1518.775821    1670.684530   \n",
       "67008  1350.312469   0.869469  ...   1353.366271    1551.305868   \n",
       "67009  1761.165813   0.130274  ...   1776.681162    1355.612647   \n",
       "67010  1695.749505   0.513098  ...   1685.253159    1618.401111   \n",
       "67011  1463.985250   0.720456  ...   1464.037662    1508.010997   \n",
       "\n",
       "       carmelo2_post  carmelo_prob1  carmelo_prob2  score1  score2  loser  \\\n",
       "1                NaN            NaN            NaN    63.0    47.0    NYK   \n",
       "2                NaN            NaN            NaN    59.0    53.0    BOS   \n",
       "7                NaN            NaN            NaN    55.0    57.0    BOS   \n",
       "16               NaN            NaN            NaN    69.0    46.0    BOS   \n",
       "18               NaN            NaN            NaN    68.0    78.0    NYK   \n",
       "...              ...            ...            ...     ...     ...    ...   \n",
       "67007    1507.976699       0.746325       0.253675   130.0    95.0    MIL   \n",
       "67008    1380.535101       0.865447       0.134553    98.0   110.0    CLE   \n",
       "67009    1748.389768       0.138616       0.861384    96.0    83.0    HOU   \n",
       "67010    1677.637894       0.589215       0.410785   102.0    93.0    UTA   \n",
       "67011    1488.928339       0.769509       0.230491   100.0   115.0    LAC   \n",
       "\n",
       "       winner  matches  \n",
       "1         CHS      NYK  \n",
       "2         PRO      BOS  \n",
       "7         CHS      BOS  \n",
       "16        DTF      BOS  \n",
       "18        CHS      NYK  \n",
       "...       ...      ...  \n",
       "67007     PHI      MIL  \n",
       "67008     NYK      CLE  \n",
       "67009     SAC      HOU  \n",
       "67010     POR      UTA  \n",
       "67011     LAL      LAC  \n",
       "\n",
       "[46637 rows x 24 columns]"
      ]
     },
     "execution_count": 163,
     "metadata": {},
     "output_type": "execute_result"
    }
   ],
   "source": [
    "nba['matches'] = nba['matches'].apply(lambda x: x[0])\n",
    "nba"
   ]
  },
  {
   "cell_type": "markdown",
   "id": "d9f4afe3",
   "metadata": {},
   "source": [
    "Merging on the matched abbreviations we get a dataset that contains nba matches and the loser's information, which includes that state. As that is what matters for our analysis."
   ]
  },
  {
   "cell_type": "code",
   "execution_count": 164,
   "id": "a7e6bf48",
   "metadata": {},
   "outputs": [],
   "source": [
    "merged_nba = pd.merge(nba, nba_teams.add_prefix(\"loser_\"), left_on=\"matches\", right_on=\"loser_abbreviation\", how=\"inner\")"
   ]
  },
  {
   "cell_type": "code",
   "execution_count": 165,
   "id": "69175bdb",
   "metadata": {},
   "outputs": [],
   "source": [
    "del merged_nba[\"matches\"]"
   ]
  },
  {
   "cell_type": "code",
   "execution_count": 166,
   "id": "31f3563d",
   "metadata": {},
   "outputs": [
    {
     "data": {
      "text/html": [
       "<div>\n",
       "<style scoped>\n",
       "    .dataframe tbody tr th:only-of-type {\n",
       "        vertical-align: middle;\n",
       "    }\n",
       "\n",
       "    .dataframe tbody tr th {\n",
       "        vertical-align: top;\n",
       "    }\n",
       "\n",
       "    .dataframe thead th {\n",
       "        text-align: right;\n",
       "    }\n",
       "</style>\n",
       "<table border=\"1\" class=\"dataframe\">\n",
       "  <thead>\n",
       "    <tr style=\"text-align: right;\">\n",
       "      <th></th>\n",
       "      <th>index</th>\n",
       "      <th>date</th>\n",
       "      <th>season</th>\n",
       "      <th>neutral</th>\n",
       "      <th>playoff</th>\n",
       "      <th>team1</th>\n",
       "      <th>team2</th>\n",
       "      <th>elo1_pre</th>\n",
       "      <th>elo2_pre</th>\n",
       "      <th>elo_prob1</th>\n",
       "      <th>...</th>\n",
       "      <th>score1</th>\n",
       "      <th>score2</th>\n",
       "      <th>loser</th>\n",
       "      <th>winner</th>\n",
       "      <th>loser_full_name</th>\n",
       "      <th>loser_abbreviation</th>\n",
       "      <th>loser_nickname</th>\n",
       "      <th>loser_city</th>\n",
       "      <th>loser_state</th>\n",
       "      <th>loser_year_founded</th>\n",
       "    </tr>\n",
       "  </thead>\n",
       "  <tbody>\n",
       "    <tr>\n",
       "      <th>0</th>\n",
       "      <td>1</td>\n",
       "      <td>1946-11-02</td>\n",
       "      <td>1947</td>\n",
       "      <td>0</td>\n",
       "      <td>False</td>\n",
       "      <td>CHS</td>\n",
       "      <td>NYK</td>\n",
       "      <td>1300.000000</td>\n",
       "      <td>1306.723300</td>\n",
       "      <td>0.631101</td>\n",
       "      <td>...</td>\n",
       "      <td>63.0</td>\n",
       "      <td>47.0</td>\n",
       "      <td>NYK</td>\n",
       "      <td>CHS</td>\n",
       "      <td>NEWYORKKNICKS</td>\n",
       "      <td>NYK</td>\n",
       "      <td>KNICKS</td>\n",
       "      <td>NEWYORK</td>\n",
       "      <td>NY</td>\n",
       "      <td>1946.0</td>\n",
       "    </tr>\n",
       "    <tr>\n",
       "      <th>1</th>\n",
       "      <td>2</td>\n",
       "      <td>1946-11-02</td>\n",
       "      <td>1947</td>\n",
       "      <td>0</td>\n",
       "      <td>False</td>\n",
       "      <td>PRO</td>\n",
       "      <td>BOS</td>\n",
       "      <td>1300.000000</td>\n",
       "      <td>1300.000000</td>\n",
       "      <td>0.640065</td>\n",
       "      <td>...</td>\n",
       "      <td>59.0</td>\n",
       "      <td>53.0</td>\n",
       "      <td>BOS</td>\n",
       "      <td>PRO</td>\n",
       "      <td>BOSTONCELTICS</td>\n",
       "      <td>BOS</td>\n",
       "      <td>CELTICS</td>\n",
       "      <td>BOSTON</td>\n",
       "      <td>MA</td>\n",
       "      <td>1946.0</td>\n",
       "    </tr>\n",
       "    <tr>\n",
       "      <th>2</th>\n",
       "      <td>7</td>\n",
       "      <td>1946-11-05</td>\n",
       "      <td>1947</td>\n",
       "      <td>0</td>\n",
       "      <td>False</td>\n",
       "      <td>BOS</td>\n",
       "      <td>CHS</td>\n",
       "      <td>1294.845800</td>\n",
       "      <td>1309.652100</td>\n",
       "      <td>0.620204</td>\n",
       "      <td>...</td>\n",
       "      <td>55.0</td>\n",
       "      <td>57.0</td>\n",
       "      <td>BOS</td>\n",
       "      <td>CHS</td>\n",
       "      <td>BOSTONCELTICS</td>\n",
       "      <td>BOS</td>\n",
       "      <td>CELTICS</td>\n",
       "      <td>BOSTON</td>\n",
       "      <td>MA</td>\n",
       "      <td>1946.0</td>\n",
       "    </tr>\n",
       "    <tr>\n",
       "      <th>3</th>\n",
       "      <td>16</td>\n",
       "      <td>1946-11-09</td>\n",
       "      <td>1947</td>\n",
       "      <td>0</td>\n",
       "      <td>False</td>\n",
       "      <td>DTF</td>\n",
       "      <td>BOS</td>\n",
       "      <td>1268.446800</td>\n",
       "      <td>1288.413900</td>\n",
       "      <td>0.613182</td>\n",
       "      <td>...</td>\n",
       "      <td>69.0</td>\n",
       "      <td>46.0</td>\n",
       "      <td>BOS</td>\n",
       "      <td>DTF</td>\n",
       "      <td>BOSTONCELTICS</td>\n",
       "      <td>BOS</td>\n",
       "      <td>CELTICS</td>\n",
       "      <td>BOSTON</td>\n",
       "      <td>MA</td>\n",
       "      <td>1946.0</td>\n",
       "    </tr>\n",
       "    <tr>\n",
       "      <th>4</th>\n",
       "      <td>18</td>\n",
       "      <td>1946-11-11</td>\n",
       "      <td>1947</td>\n",
       "      <td>0</td>\n",
       "      <td>False</td>\n",
       "      <td>NYK</td>\n",
       "      <td>CHS</td>\n",
       "      <td>1307.319700</td>\n",
       "      <td>1315.252200</td>\n",
       "      <td>0.629479</td>\n",
       "      <td>...</td>\n",
       "      <td>68.0</td>\n",
       "      <td>78.0</td>\n",
       "      <td>NYK</td>\n",
       "      <td>CHS</td>\n",
       "      <td>NEWYORKKNICKS</td>\n",
       "      <td>NYK</td>\n",
       "      <td>KNICKS</td>\n",
       "      <td>NEWYORK</td>\n",
       "      <td>NY</td>\n",
       "      <td>1946.0</td>\n",
       "    </tr>\n",
       "    <tr>\n",
       "      <th>...</th>\n",
       "      <td>...</td>\n",
       "      <td>...</td>\n",
       "      <td>...</td>\n",
       "      <td>...</td>\n",
       "      <td>...</td>\n",
       "      <td>...</td>\n",
       "      <td>...</td>\n",
       "      <td>...</td>\n",
       "      <td>...</td>\n",
       "      <td>...</td>\n",
       "      <td>...</td>\n",
       "      <td>...</td>\n",
       "      <td>...</td>\n",
       "      <td>...</td>\n",
       "      <td>...</td>\n",
       "      <td>...</td>\n",
       "      <td>...</td>\n",
       "      <td>...</td>\n",
       "      <td>...</td>\n",
       "      <td>...</td>\n",
       "      <td>...</td>\n",
       "    </tr>\n",
       "    <tr>\n",
       "      <th>46632</th>\n",
       "      <td>67007</td>\n",
       "      <td>2018-04-11</td>\n",
       "      <td>2018</td>\n",
       "      <td>0</td>\n",
       "      <td>False</td>\n",
       "      <td>PHI</td>\n",
       "      <td>MIL</td>\n",
       "      <td>1651.670164</td>\n",
       "      <td>1522.789678</td>\n",
       "      <td>0.788772</td>\n",
       "      <td>...</td>\n",
       "      <td>130.0</td>\n",
       "      <td>95.0</td>\n",
       "      <td>MIL</td>\n",
       "      <td>PHI</td>\n",
       "      <td>MILWAUKEEBUCKS</td>\n",
       "      <td>MIL</td>\n",
       "      <td>BUCKS</td>\n",
       "      <td>MILWAUKEE</td>\n",
       "      <td>WI</td>\n",
       "      <td>1968.0</td>\n",
       "    </tr>\n",
       "    <tr>\n",
       "      <th>46633</th>\n",
       "      <td>67008</td>\n",
       "      <td>2018-04-11</td>\n",
       "      <td>2018</td>\n",
       "      <td>0</td>\n",
       "      <td>False</td>\n",
       "      <td>CLE</td>\n",
       "      <td>NYK</td>\n",
       "      <td>1579.727989</td>\n",
       "      <td>1350.312469</td>\n",
       "      <td>0.869469</td>\n",
       "      <td>...</td>\n",
       "      <td>98.0</td>\n",
       "      <td>110.0</td>\n",
       "      <td>CLE</td>\n",
       "      <td>NYK</td>\n",
       "      <td>CLEVELANDCAVALIERS</td>\n",
       "      <td>CLE</td>\n",
       "      <td>CAVALIERS</td>\n",
       "      <td>CLEVELAND</td>\n",
       "      <td>OH</td>\n",
       "      <td>1970.0</td>\n",
       "    </tr>\n",
       "    <tr>\n",
       "      <th>46634</th>\n",
       "      <td>67009</td>\n",
       "      <td>2018-04-11</td>\n",
       "      <td>2018</td>\n",
       "      <td>0</td>\n",
       "      <td>False</td>\n",
       "      <td>SAC</td>\n",
       "      <td>HOU</td>\n",
       "      <td>1331.355896</td>\n",
       "      <td>1761.165813</td>\n",
       "      <td>0.130274</td>\n",
       "      <td>...</td>\n",
       "      <td>96.0</td>\n",
       "      <td>83.0</td>\n",
       "      <td>HOU</td>\n",
       "      <td>SAC</td>\n",
       "      <td>HOUSTONROCKETS</td>\n",
       "      <td>HOU</td>\n",
       "      <td>ROCKETS</td>\n",
       "      <td>HOUSTON</td>\n",
       "      <td>TX</td>\n",
       "      <td>1967.0</td>\n",
       "    </tr>\n",
       "    <tr>\n",
       "      <th>46635</th>\n",
       "      <td>67010</td>\n",
       "      <td>2018-04-11</td>\n",
       "      <td>2018</td>\n",
       "      <td>0</td>\n",
       "      <td>False</td>\n",
       "      <td>POR</td>\n",
       "      <td>UTA</td>\n",
       "      <td>1604.852723</td>\n",
       "      <td>1695.749505</td>\n",
       "      <td>0.513098</td>\n",
       "      <td>...</td>\n",
       "      <td>102.0</td>\n",
       "      <td>93.0</td>\n",
       "      <td>UTA</td>\n",
       "      <td>POR</td>\n",
       "      <td>UTAHJAZZ</td>\n",
       "      <td>UTA</td>\n",
       "      <td>JAZZ</td>\n",
       "      <td>UTAH</td>\n",
       "      <td>UT</td>\n",
       "      <td>1974.0</td>\n",
       "    </tr>\n",
       "    <tr>\n",
       "      <th>46636</th>\n",
       "      <td>67011</td>\n",
       "      <td>2018-04-11</td>\n",
       "      <td>2018</td>\n",
       "      <td>0</td>\n",
       "      <td>False</td>\n",
       "      <td>LAC</td>\n",
       "      <td>LAL</td>\n",
       "      <td>1528.448006</td>\n",
       "      <td>1463.985250</td>\n",
       "      <td>0.720456</td>\n",
       "      <td>...</td>\n",
       "      <td>100.0</td>\n",
       "      <td>115.0</td>\n",
       "      <td>LAC</td>\n",
       "      <td>LAL</td>\n",
       "      <td>LOSANGELESCLIPPERS</td>\n",
       "      <td>LAC</td>\n",
       "      <td>CLIPPERS</td>\n",
       "      <td>LOSANGELES</td>\n",
       "      <td>CA</td>\n",
       "      <td>1970.0</td>\n",
       "    </tr>\n",
       "  </tbody>\n",
       "</table>\n",
       "<p>46637 rows × 29 columns</p>\n",
       "</div>"
      ],
      "text/plain": [
       "       index        date  season  neutral  playoff team1 team2     elo1_pre  \\\n",
       "0          1  1946-11-02    1947        0    False   CHS   NYK  1300.000000   \n",
       "1          2  1946-11-02    1947        0    False   PRO   BOS  1300.000000   \n",
       "2          7  1946-11-05    1947        0    False   BOS   CHS  1294.845800   \n",
       "3         16  1946-11-09    1947        0    False   DTF   BOS  1268.446800   \n",
       "4         18  1946-11-11    1947        0    False   NYK   CHS  1307.319700   \n",
       "...      ...         ...     ...      ...      ...   ...   ...          ...   \n",
       "46632  67007  2018-04-11    2018        0    False   PHI   MIL  1651.670164   \n",
       "46633  67008  2018-04-11    2018        0    False   CLE   NYK  1579.727989   \n",
       "46634  67009  2018-04-11    2018        0    False   SAC   HOU  1331.355896   \n",
       "46635  67010  2018-04-11    2018        0    False   POR   UTA  1604.852723   \n",
       "46636  67011  2018-04-11    2018        0    False   LAC   LAL  1528.448006   \n",
       "\n",
       "          elo2_pre  elo_prob1  ...  score1  score2  loser  winner  \\\n",
       "0      1306.723300   0.631101  ...    63.0    47.0    NYK     CHS   \n",
       "1      1300.000000   0.640065  ...    59.0    53.0    BOS     PRO   \n",
       "2      1309.652100   0.620204  ...    55.0    57.0    BOS     CHS   \n",
       "3      1288.413900   0.613182  ...    69.0    46.0    BOS     DTF   \n",
       "4      1315.252200   0.629479  ...    68.0    78.0    NYK     CHS   \n",
       "...            ...        ...  ...     ...     ...    ...     ...   \n",
       "46632  1522.789678   0.788772  ...   130.0    95.0    MIL     PHI   \n",
       "46633  1350.312469   0.869469  ...    98.0   110.0    CLE     NYK   \n",
       "46634  1761.165813   0.130274  ...    96.0    83.0    HOU     SAC   \n",
       "46635  1695.749505   0.513098  ...   102.0    93.0    UTA     POR   \n",
       "46636  1463.985250   0.720456  ...   100.0   115.0    LAC     LAL   \n",
       "\n",
       "          loser_full_name  loser_abbreviation  loser_nickname  loser_city  \\\n",
       "0           NEWYORKKNICKS                 NYK          KNICKS     NEWYORK   \n",
       "1           BOSTONCELTICS                 BOS         CELTICS      BOSTON   \n",
       "2           BOSTONCELTICS                 BOS         CELTICS      BOSTON   \n",
       "3           BOSTONCELTICS                 BOS         CELTICS      BOSTON   \n",
       "4           NEWYORKKNICKS                 NYK          KNICKS     NEWYORK   \n",
       "...                   ...                 ...             ...         ...   \n",
       "46632      MILWAUKEEBUCKS                 MIL           BUCKS   MILWAUKEE   \n",
       "46633  CLEVELANDCAVALIERS                 CLE       CAVALIERS   CLEVELAND   \n",
       "46634      HOUSTONROCKETS                 HOU         ROCKETS     HOUSTON   \n",
       "46635            UTAHJAZZ                 UTA            JAZZ        UTAH   \n",
       "46636  LOSANGELESCLIPPERS                 LAC        CLIPPERS  LOSANGELES   \n",
       "\n",
       "       loser_state  loser_year_founded  \n",
       "0               NY              1946.0  \n",
       "1               MA              1946.0  \n",
       "2               MA              1946.0  \n",
       "3               MA              1946.0  \n",
       "4               NY              1946.0  \n",
       "...            ...                 ...  \n",
       "46632           WI              1968.0  \n",
       "46633           OH              1970.0  \n",
       "46634           TX              1967.0  \n",
       "46635           UT              1974.0  \n",
       "46636           CA              1970.0  \n",
       "\n",
       "[46637 rows x 29 columns]"
      ]
     },
     "execution_count": 166,
     "metadata": {},
     "output_type": "execute_result"
    }
   ],
   "source": [
    "merged_nba"
   ]
  },
  {
   "cell_type": "markdown",
   "id": "a818907b",
   "metadata": {},
   "source": [
    "### Matching US Accidents data to NBA loser teams' losses"
   ]
  },
  {
   "cell_type": "code",
   "execution_count": 167,
   "id": "fb052412",
   "metadata": {},
   "outputs": [
    {
     "data": {
      "text/plain": [
       "Index(['index', 'date', 'season', 'neutral', 'playoff', 'team1', 'team2',\n",
       "       'elo1_pre', 'elo2_pre', 'elo_prob1', 'elo_prob2', 'elo1_post',\n",
       "       'elo2_post', 'carmelo1_pre', 'carmelo2_pre', 'carmelo1_post',\n",
       "       'carmelo2_post', 'carmelo_prob1', 'carmelo_prob2', 'score1', 'score2',\n",
       "       'loser', 'winner', 'loser_full_name', 'loser_abbreviation',\n",
       "       'loser_nickname', 'loser_city', 'loser_state', 'loser_year_founded'],\n",
       "      dtype='object')"
      ]
     },
     "execution_count": 167,
     "metadata": {},
     "output_type": "execute_result"
    }
   ],
   "source": [
    "merged_nba.columns"
   ]
  },
  {
   "cell_type": "code",
   "execution_count": 168,
   "id": "51e2a3ee",
   "metadata": {},
   "outputs": [
    {
     "data": {
      "text/plain": [
       "Index(['Severity', 'Start_Time', 'City', 'State', 'Amenity', 'Bump',\n",
       "       'Crossing', 'Give_Way', 'Junction', 'No_Exit', 'Railway', 'Roundabout',\n",
       "       'Station', 'Stop', 'Traffic_Calming', 'Traffic_Signal', 'Start_Lat',\n",
       "       'Start_Lng'],\n",
       "      dtype='object')"
      ]
     },
     "execution_count": 168,
     "metadata": {},
     "output_type": "execute_result"
    }
   ],
   "source": [
    "us_accidents.columns"
   ]
  },
  {
   "cell_type": "code",
   "execution_count": 169,
   "id": "275df7d5",
   "metadata": {},
   "outputs": [
    {
     "data": {
      "text/html": [
       "<div>\n",
       "<style scoped>\n",
       "    .dataframe tbody tr th:only-of-type {\n",
       "        vertical-align: middle;\n",
       "    }\n",
       "\n",
       "    .dataframe tbody tr th {\n",
       "        vertical-align: top;\n",
       "    }\n",
       "\n",
       "    .dataframe thead th {\n",
       "        text-align: right;\n",
       "    }\n",
       "</style>\n",
       "<table border=\"1\" class=\"dataframe\">\n",
       "  <thead>\n",
       "    <tr style=\"text-align: right;\">\n",
       "      <th></th>\n",
       "      <th>index</th>\n",
       "      <th>date</th>\n",
       "      <th>season</th>\n",
       "      <th>neutral</th>\n",
       "      <th>playoff</th>\n",
       "      <th>team1</th>\n",
       "      <th>team2</th>\n",
       "      <th>elo1_pre</th>\n",
       "      <th>elo2_pre</th>\n",
       "      <th>elo_prob1</th>\n",
       "      <th>...</th>\n",
       "      <th>score2</th>\n",
       "      <th>loser</th>\n",
       "      <th>winner</th>\n",
       "      <th>loser_full_name</th>\n",
       "      <th>loser_abbreviation</th>\n",
       "      <th>loser_nickname</th>\n",
       "      <th>loser_city</th>\n",
       "      <th>loser_state</th>\n",
       "      <th>loser_year_founded</th>\n",
       "      <th>blocking</th>\n",
       "    </tr>\n",
       "  </thead>\n",
       "  <tbody>\n",
       "    <tr>\n",
       "      <th>0</th>\n",
       "      <td>1</td>\n",
       "      <td>1946-11-02</td>\n",
       "      <td>1947</td>\n",
       "      <td>0</td>\n",
       "      <td>False</td>\n",
       "      <td>CHS</td>\n",
       "      <td>NYK</td>\n",
       "      <td>1300.000000</td>\n",
       "      <td>1306.723300</td>\n",
       "      <td>0.631101</td>\n",
       "      <td>...</td>\n",
       "      <td>47.0</td>\n",
       "      <td>NYK</td>\n",
       "      <td>CHS</td>\n",
       "      <td>NEWYORKKNICKS</td>\n",
       "      <td>NYK</td>\n",
       "      <td>KNICKS</td>\n",
       "      <td>NEWYORK</td>\n",
       "      <td>NY</td>\n",
       "      <td>1946.0</td>\n",
       "      <td>1946-11-02NY</td>\n",
       "    </tr>\n",
       "    <tr>\n",
       "      <th>1</th>\n",
       "      <td>2</td>\n",
       "      <td>1946-11-02</td>\n",
       "      <td>1947</td>\n",
       "      <td>0</td>\n",
       "      <td>False</td>\n",
       "      <td>PRO</td>\n",
       "      <td>BOS</td>\n",
       "      <td>1300.000000</td>\n",
       "      <td>1300.000000</td>\n",
       "      <td>0.640065</td>\n",
       "      <td>...</td>\n",
       "      <td>53.0</td>\n",
       "      <td>BOS</td>\n",
       "      <td>PRO</td>\n",
       "      <td>BOSTONCELTICS</td>\n",
       "      <td>BOS</td>\n",
       "      <td>CELTICS</td>\n",
       "      <td>BOSTON</td>\n",
       "      <td>MA</td>\n",
       "      <td>1946.0</td>\n",
       "      <td>1946-11-02MA</td>\n",
       "    </tr>\n",
       "    <tr>\n",
       "      <th>2</th>\n",
       "      <td>7</td>\n",
       "      <td>1946-11-05</td>\n",
       "      <td>1947</td>\n",
       "      <td>0</td>\n",
       "      <td>False</td>\n",
       "      <td>BOS</td>\n",
       "      <td>CHS</td>\n",
       "      <td>1294.845800</td>\n",
       "      <td>1309.652100</td>\n",
       "      <td>0.620204</td>\n",
       "      <td>...</td>\n",
       "      <td>57.0</td>\n",
       "      <td>BOS</td>\n",
       "      <td>CHS</td>\n",
       "      <td>BOSTONCELTICS</td>\n",
       "      <td>BOS</td>\n",
       "      <td>CELTICS</td>\n",
       "      <td>BOSTON</td>\n",
       "      <td>MA</td>\n",
       "      <td>1946.0</td>\n",
       "      <td>1946-11-05MA</td>\n",
       "    </tr>\n",
       "    <tr>\n",
       "      <th>3</th>\n",
       "      <td>16</td>\n",
       "      <td>1946-11-09</td>\n",
       "      <td>1947</td>\n",
       "      <td>0</td>\n",
       "      <td>False</td>\n",
       "      <td>DTF</td>\n",
       "      <td>BOS</td>\n",
       "      <td>1268.446800</td>\n",
       "      <td>1288.413900</td>\n",
       "      <td>0.613182</td>\n",
       "      <td>...</td>\n",
       "      <td>46.0</td>\n",
       "      <td>BOS</td>\n",
       "      <td>DTF</td>\n",
       "      <td>BOSTONCELTICS</td>\n",
       "      <td>BOS</td>\n",
       "      <td>CELTICS</td>\n",
       "      <td>BOSTON</td>\n",
       "      <td>MA</td>\n",
       "      <td>1946.0</td>\n",
       "      <td>1946-11-09MA</td>\n",
       "    </tr>\n",
       "    <tr>\n",
       "      <th>4</th>\n",
       "      <td>18</td>\n",
       "      <td>1946-11-11</td>\n",
       "      <td>1947</td>\n",
       "      <td>0</td>\n",
       "      <td>False</td>\n",
       "      <td>NYK</td>\n",
       "      <td>CHS</td>\n",
       "      <td>1307.319700</td>\n",
       "      <td>1315.252200</td>\n",
       "      <td>0.629479</td>\n",
       "      <td>...</td>\n",
       "      <td>78.0</td>\n",
       "      <td>NYK</td>\n",
       "      <td>CHS</td>\n",
       "      <td>NEWYORKKNICKS</td>\n",
       "      <td>NYK</td>\n",
       "      <td>KNICKS</td>\n",
       "      <td>NEWYORK</td>\n",
       "      <td>NY</td>\n",
       "      <td>1946.0</td>\n",
       "      <td>1946-11-11NY</td>\n",
       "    </tr>\n",
       "    <tr>\n",
       "      <th>...</th>\n",
       "      <td>...</td>\n",
       "      <td>...</td>\n",
       "      <td>...</td>\n",
       "      <td>...</td>\n",
       "      <td>...</td>\n",
       "      <td>...</td>\n",
       "      <td>...</td>\n",
       "      <td>...</td>\n",
       "      <td>...</td>\n",
       "      <td>...</td>\n",
       "      <td>...</td>\n",
       "      <td>...</td>\n",
       "      <td>...</td>\n",
       "      <td>...</td>\n",
       "      <td>...</td>\n",
       "      <td>...</td>\n",
       "      <td>...</td>\n",
       "      <td>...</td>\n",
       "      <td>...</td>\n",
       "      <td>...</td>\n",
       "      <td>...</td>\n",
       "    </tr>\n",
       "    <tr>\n",
       "      <th>46632</th>\n",
       "      <td>67007</td>\n",
       "      <td>2018-04-11</td>\n",
       "      <td>2018</td>\n",
       "      <td>0</td>\n",
       "      <td>False</td>\n",
       "      <td>PHI</td>\n",
       "      <td>MIL</td>\n",
       "      <td>1651.670164</td>\n",
       "      <td>1522.789678</td>\n",
       "      <td>0.788772</td>\n",
       "      <td>...</td>\n",
       "      <td>95.0</td>\n",
       "      <td>MIL</td>\n",
       "      <td>PHI</td>\n",
       "      <td>MILWAUKEEBUCKS</td>\n",
       "      <td>MIL</td>\n",
       "      <td>BUCKS</td>\n",
       "      <td>MILWAUKEE</td>\n",
       "      <td>WI</td>\n",
       "      <td>1968.0</td>\n",
       "      <td>2018-04-11WI</td>\n",
       "    </tr>\n",
       "    <tr>\n",
       "      <th>46633</th>\n",
       "      <td>67008</td>\n",
       "      <td>2018-04-11</td>\n",
       "      <td>2018</td>\n",
       "      <td>0</td>\n",
       "      <td>False</td>\n",
       "      <td>CLE</td>\n",
       "      <td>NYK</td>\n",
       "      <td>1579.727989</td>\n",
       "      <td>1350.312469</td>\n",
       "      <td>0.869469</td>\n",
       "      <td>...</td>\n",
       "      <td>110.0</td>\n",
       "      <td>CLE</td>\n",
       "      <td>NYK</td>\n",
       "      <td>CLEVELANDCAVALIERS</td>\n",
       "      <td>CLE</td>\n",
       "      <td>CAVALIERS</td>\n",
       "      <td>CLEVELAND</td>\n",
       "      <td>OH</td>\n",
       "      <td>1970.0</td>\n",
       "      <td>2018-04-11OH</td>\n",
       "    </tr>\n",
       "    <tr>\n",
       "      <th>46634</th>\n",
       "      <td>67009</td>\n",
       "      <td>2018-04-11</td>\n",
       "      <td>2018</td>\n",
       "      <td>0</td>\n",
       "      <td>False</td>\n",
       "      <td>SAC</td>\n",
       "      <td>HOU</td>\n",
       "      <td>1331.355896</td>\n",
       "      <td>1761.165813</td>\n",
       "      <td>0.130274</td>\n",
       "      <td>...</td>\n",
       "      <td>83.0</td>\n",
       "      <td>HOU</td>\n",
       "      <td>SAC</td>\n",
       "      <td>HOUSTONROCKETS</td>\n",
       "      <td>HOU</td>\n",
       "      <td>ROCKETS</td>\n",
       "      <td>HOUSTON</td>\n",
       "      <td>TX</td>\n",
       "      <td>1967.0</td>\n",
       "      <td>2018-04-11TX</td>\n",
       "    </tr>\n",
       "    <tr>\n",
       "      <th>46635</th>\n",
       "      <td>67010</td>\n",
       "      <td>2018-04-11</td>\n",
       "      <td>2018</td>\n",
       "      <td>0</td>\n",
       "      <td>False</td>\n",
       "      <td>POR</td>\n",
       "      <td>UTA</td>\n",
       "      <td>1604.852723</td>\n",
       "      <td>1695.749505</td>\n",
       "      <td>0.513098</td>\n",
       "      <td>...</td>\n",
       "      <td>93.0</td>\n",
       "      <td>UTA</td>\n",
       "      <td>POR</td>\n",
       "      <td>UTAHJAZZ</td>\n",
       "      <td>UTA</td>\n",
       "      <td>JAZZ</td>\n",
       "      <td>UTAH</td>\n",
       "      <td>UT</td>\n",
       "      <td>1974.0</td>\n",
       "      <td>2018-04-11UT</td>\n",
       "    </tr>\n",
       "    <tr>\n",
       "      <th>46636</th>\n",
       "      <td>67011</td>\n",
       "      <td>2018-04-11</td>\n",
       "      <td>2018</td>\n",
       "      <td>0</td>\n",
       "      <td>False</td>\n",
       "      <td>LAC</td>\n",
       "      <td>LAL</td>\n",
       "      <td>1528.448006</td>\n",
       "      <td>1463.985250</td>\n",
       "      <td>0.720456</td>\n",
       "      <td>...</td>\n",
       "      <td>115.0</td>\n",
       "      <td>LAC</td>\n",
       "      <td>LAL</td>\n",
       "      <td>LOSANGELESCLIPPERS</td>\n",
       "      <td>LAC</td>\n",
       "      <td>CLIPPERS</td>\n",
       "      <td>LOSANGELES</td>\n",
       "      <td>CA</td>\n",
       "      <td>1970.0</td>\n",
       "      <td>2018-04-11CA</td>\n",
       "    </tr>\n",
       "  </tbody>\n",
       "</table>\n",
       "<p>46637 rows × 30 columns</p>\n",
       "</div>"
      ],
      "text/plain": [
       "       index        date  season  neutral  playoff team1 team2     elo1_pre  \\\n",
       "0          1  1946-11-02    1947        0    False   CHS   NYK  1300.000000   \n",
       "1          2  1946-11-02    1947        0    False   PRO   BOS  1300.000000   \n",
       "2          7  1946-11-05    1947        0    False   BOS   CHS  1294.845800   \n",
       "3         16  1946-11-09    1947        0    False   DTF   BOS  1268.446800   \n",
       "4         18  1946-11-11    1947        0    False   NYK   CHS  1307.319700   \n",
       "...      ...         ...     ...      ...      ...   ...   ...          ...   \n",
       "46632  67007  2018-04-11    2018        0    False   PHI   MIL  1651.670164   \n",
       "46633  67008  2018-04-11    2018        0    False   CLE   NYK  1579.727989   \n",
       "46634  67009  2018-04-11    2018        0    False   SAC   HOU  1331.355896   \n",
       "46635  67010  2018-04-11    2018        0    False   POR   UTA  1604.852723   \n",
       "46636  67011  2018-04-11    2018        0    False   LAC   LAL  1528.448006   \n",
       "\n",
       "          elo2_pre  elo_prob1  ...  score2  loser  winner     loser_full_name  \\\n",
       "0      1306.723300   0.631101  ...    47.0    NYK     CHS       NEWYORKKNICKS   \n",
       "1      1300.000000   0.640065  ...    53.0    BOS     PRO       BOSTONCELTICS   \n",
       "2      1309.652100   0.620204  ...    57.0    BOS     CHS       BOSTONCELTICS   \n",
       "3      1288.413900   0.613182  ...    46.0    BOS     DTF       BOSTONCELTICS   \n",
       "4      1315.252200   0.629479  ...    78.0    NYK     CHS       NEWYORKKNICKS   \n",
       "...            ...        ...  ...     ...    ...     ...                 ...   \n",
       "46632  1522.789678   0.788772  ...    95.0    MIL     PHI      MILWAUKEEBUCKS   \n",
       "46633  1350.312469   0.869469  ...   110.0    CLE     NYK  CLEVELANDCAVALIERS   \n",
       "46634  1761.165813   0.130274  ...    83.0    HOU     SAC      HOUSTONROCKETS   \n",
       "46635  1695.749505   0.513098  ...    93.0    UTA     POR            UTAHJAZZ   \n",
       "46636  1463.985250   0.720456  ...   115.0    LAC     LAL  LOSANGELESCLIPPERS   \n",
       "\n",
       "       loser_abbreviation  loser_nickname  loser_city  loser_state  \\\n",
       "0                     NYK          KNICKS     NEWYORK           NY   \n",
       "1                     BOS         CELTICS      BOSTON           MA   \n",
       "2                     BOS         CELTICS      BOSTON           MA   \n",
       "3                     BOS         CELTICS      BOSTON           MA   \n",
       "4                     NYK          KNICKS     NEWYORK           NY   \n",
       "...                   ...             ...         ...          ...   \n",
       "46632                 MIL           BUCKS   MILWAUKEE           WI   \n",
       "46633                 CLE       CAVALIERS   CLEVELAND           OH   \n",
       "46634                 HOU         ROCKETS     HOUSTON           TX   \n",
       "46635                 UTA            JAZZ        UTAH           UT   \n",
       "46636                 LAC        CLIPPERS  LOSANGELES           CA   \n",
       "\n",
       "       loser_year_founded      blocking  \n",
       "0                  1946.0  1946-11-02NY  \n",
       "1                  1946.0  1946-11-02MA  \n",
       "2                  1946.0  1946-11-05MA  \n",
       "3                  1946.0  1946-11-09MA  \n",
       "4                  1946.0  1946-11-11NY  \n",
       "...                   ...           ...  \n",
       "46632              1968.0  2018-04-11WI  \n",
       "46633              1970.0  2018-04-11OH  \n",
       "46634              1967.0  2018-04-11TX  \n",
       "46635              1974.0  2018-04-11UT  \n",
       "46636              1970.0  2018-04-11CA  \n",
       "\n",
       "[46637 rows x 30 columns]"
      ]
     },
     "execution_count": 169,
     "metadata": {},
     "output_type": "execute_result"
    }
   ],
   "source": [
    "merged_nba[\"blocking\"] = merged_nba.apply(lambda row: row[\"date\"] + row[\"loser_state\"], axis=1)\n",
    "merged_nba"
   ]
  },
  {
   "cell_type": "code",
   "execution_count": 173,
   "id": "89580316",
   "metadata": {},
   "outputs": [
    {
     "data": {
      "text/html": [
       "<div>\n",
       "<style scoped>\n",
       "    .dataframe tbody tr th:only-of-type {\n",
       "        vertical-align: middle;\n",
       "    }\n",
       "\n",
       "    .dataframe tbody tr th {\n",
       "        vertical-align: top;\n",
       "    }\n",
       "\n",
       "    .dataframe thead th {\n",
       "        text-align: right;\n",
       "    }\n",
       "</style>\n",
       "<table border=\"1\" class=\"dataframe\">\n",
       "  <thead>\n",
       "    <tr style=\"text-align: right;\">\n",
       "      <th></th>\n",
       "      <th>Severity</th>\n",
       "      <th>Start_Time</th>\n",
       "      <th>City</th>\n",
       "      <th>State</th>\n",
       "      <th>Amenity</th>\n",
       "      <th>Bump</th>\n",
       "      <th>Crossing</th>\n",
       "      <th>Give_Way</th>\n",
       "      <th>Junction</th>\n",
       "      <th>No_Exit</th>\n",
       "      <th>Railway</th>\n",
       "      <th>Roundabout</th>\n",
       "      <th>Station</th>\n",
       "      <th>Stop</th>\n",
       "      <th>Traffic_Calming</th>\n",
       "      <th>Traffic_Signal</th>\n",
       "      <th>Start_Lat</th>\n",
       "      <th>Start_Lng</th>\n",
       "      <th>blocking</th>\n",
       "    </tr>\n",
       "  </thead>\n",
       "  <tbody>\n",
       "    <tr>\n",
       "      <th>0</th>\n",
       "      <td>3</td>\n",
       "      <td>2016-02-08 05:46:00</td>\n",
       "      <td>DAYTON</td>\n",
       "      <td>OH</td>\n",
       "      <td>False</td>\n",
       "      <td>False</td>\n",
       "      <td>False</td>\n",
       "      <td>False</td>\n",
       "      <td>False</td>\n",
       "      <td>False</td>\n",
       "      <td>False</td>\n",
       "      <td>False</td>\n",
       "      <td>False</td>\n",
       "      <td>False</td>\n",
       "      <td>False</td>\n",
       "      <td>False</td>\n",
       "      <td>39.865147</td>\n",
       "      <td>-84.058723</td>\n",
       "      <td>2016-02-08OH</td>\n",
       "    </tr>\n",
       "    <tr>\n",
       "      <th>1</th>\n",
       "      <td>2</td>\n",
       "      <td>2016-02-08 06:07:59</td>\n",
       "      <td>REYNOLDSBURG</td>\n",
       "      <td>OH</td>\n",
       "      <td>False</td>\n",
       "      <td>False</td>\n",
       "      <td>False</td>\n",
       "      <td>False</td>\n",
       "      <td>False</td>\n",
       "      <td>False</td>\n",
       "      <td>False</td>\n",
       "      <td>False</td>\n",
       "      <td>False</td>\n",
       "      <td>False</td>\n",
       "      <td>False</td>\n",
       "      <td>False</td>\n",
       "      <td>39.928059</td>\n",
       "      <td>-82.831184</td>\n",
       "      <td>2016-02-08OH</td>\n",
       "    </tr>\n",
       "    <tr>\n",
       "      <th>2</th>\n",
       "      <td>2</td>\n",
       "      <td>2016-02-08 06:49:27</td>\n",
       "      <td>WILLIAMSBURG</td>\n",
       "      <td>OH</td>\n",
       "      <td>False</td>\n",
       "      <td>False</td>\n",
       "      <td>False</td>\n",
       "      <td>False</td>\n",
       "      <td>False</td>\n",
       "      <td>False</td>\n",
       "      <td>False</td>\n",
       "      <td>False</td>\n",
       "      <td>False</td>\n",
       "      <td>False</td>\n",
       "      <td>False</td>\n",
       "      <td>True</td>\n",
       "      <td>39.063148</td>\n",
       "      <td>-84.032608</td>\n",
       "      <td>2016-02-08OH</td>\n",
       "    </tr>\n",
       "    <tr>\n",
       "      <th>3</th>\n",
       "      <td>3</td>\n",
       "      <td>2016-02-08 07:23:34</td>\n",
       "      <td>DAYTON</td>\n",
       "      <td>OH</td>\n",
       "      <td>False</td>\n",
       "      <td>False</td>\n",
       "      <td>False</td>\n",
       "      <td>False</td>\n",
       "      <td>False</td>\n",
       "      <td>False</td>\n",
       "      <td>False</td>\n",
       "      <td>False</td>\n",
       "      <td>False</td>\n",
       "      <td>False</td>\n",
       "      <td>False</td>\n",
       "      <td>False</td>\n",
       "      <td>39.747753</td>\n",
       "      <td>-84.205582</td>\n",
       "      <td>2016-02-08OH</td>\n",
       "    </tr>\n",
       "    <tr>\n",
       "      <th>4</th>\n",
       "      <td>2</td>\n",
       "      <td>2016-02-08 07:39:07</td>\n",
       "      <td>DAYTON</td>\n",
       "      <td>OH</td>\n",
       "      <td>False</td>\n",
       "      <td>False</td>\n",
       "      <td>False</td>\n",
       "      <td>False</td>\n",
       "      <td>False</td>\n",
       "      <td>False</td>\n",
       "      <td>False</td>\n",
       "      <td>False</td>\n",
       "      <td>False</td>\n",
       "      <td>False</td>\n",
       "      <td>False</td>\n",
       "      <td>True</td>\n",
       "      <td>39.627781</td>\n",
       "      <td>-84.188354</td>\n",
       "      <td>2016-02-08OH</td>\n",
       "    </tr>\n",
       "    <tr>\n",
       "      <th>...</th>\n",
       "      <td>...</td>\n",
       "      <td>...</td>\n",
       "      <td>...</td>\n",
       "      <td>...</td>\n",
       "      <td>...</td>\n",
       "      <td>...</td>\n",
       "      <td>...</td>\n",
       "      <td>...</td>\n",
       "      <td>...</td>\n",
       "      <td>...</td>\n",
       "      <td>...</td>\n",
       "      <td>...</td>\n",
       "      <td>...</td>\n",
       "      <td>...</td>\n",
       "      <td>...</td>\n",
       "      <td>...</td>\n",
       "      <td>...</td>\n",
       "      <td>...</td>\n",
       "      <td>...</td>\n",
       "    </tr>\n",
       "    <tr>\n",
       "      <th>7728389</th>\n",
       "      <td>2</td>\n",
       "      <td>2019-08-23 18:03:25</td>\n",
       "      <td>RIVERSIDE</td>\n",
       "      <td>CA</td>\n",
       "      <td>False</td>\n",
       "      <td>False</td>\n",
       "      <td>False</td>\n",
       "      <td>False</td>\n",
       "      <td>False</td>\n",
       "      <td>False</td>\n",
       "      <td>False</td>\n",
       "      <td>False</td>\n",
       "      <td>False</td>\n",
       "      <td>False</td>\n",
       "      <td>False</td>\n",
       "      <td>False</td>\n",
       "      <td>34.002480</td>\n",
       "      <td>-117.379360</td>\n",
       "      <td>2019-08-23CA</td>\n",
       "    </tr>\n",
       "    <tr>\n",
       "      <th>7728390</th>\n",
       "      <td>2</td>\n",
       "      <td>2019-08-23 19:11:30</td>\n",
       "      <td>SANDIEGO</td>\n",
       "      <td>CA</td>\n",
       "      <td>False</td>\n",
       "      <td>False</td>\n",
       "      <td>False</td>\n",
       "      <td>False</td>\n",
       "      <td>False</td>\n",
       "      <td>False</td>\n",
       "      <td>False</td>\n",
       "      <td>False</td>\n",
       "      <td>False</td>\n",
       "      <td>False</td>\n",
       "      <td>False</td>\n",
       "      <td>False</td>\n",
       "      <td>32.766960</td>\n",
       "      <td>-117.148060</td>\n",
       "      <td>2019-08-23CA</td>\n",
       "    </tr>\n",
       "    <tr>\n",
       "      <th>7728391</th>\n",
       "      <td>2</td>\n",
       "      <td>2019-08-23 19:00:21</td>\n",
       "      <td>ORANGE</td>\n",
       "      <td>CA</td>\n",
       "      <td>False</td>\n",
       "      <td>False</td>\n",
       "      <td>False</td>\n",
       "      <td>False</td>\n",
       "      <td>True</td>\n",
       "      <td>False</td>\n",
       "      <td>False</td>\n",
       "      <td>False</td>\n",
       "      <td>False</td>\n",
       "      <td>False</td>\n",
       "      <td>False</td>\n",
       "      <td>False</td>\n",
       "      <td>33.775450</td>\n",
       "      <td>-117.847790</td>\n",
       "      <td>2019-08-23CA</td>\n",
       "    </tr>\n",
       "    <tr>\n",
       "      <th>7728392</th>\n",
       "      <td>2</td>\n",
       "      <td>2019-08-23 19:00:21</td>\n",
       "      <td>CULVERCITY</td>\n",
       "      <td>CA</td>\n",
       "      <td>False</td>\n",
       "      <td>False</td>\n",
       "      <td>False</td>\n",
       "      <td>False</td>\n",
       "      <td>False</td>\n",
       "      <td>False</td>\n",
       "      <td>False</td>\n",
       "      <td>False</td>\n",
       "      <td>False</td>\n",
       "      <td>False</td>\n",
       "      <td>False</td>\n",
       "      <td>False</td>\n",
       "      <td>33.992460</td>\n",
       "      <td>-118.403020</td>\n",
       "      <td>2019-08-23CA</td>\n",
       "    </tr>\n",
       "    <tr>\n",
       "      <th>7728393</th>\n",
       "      <td>2</td>\n",
       "      <td>2019-08-23 18:52:06</td>\n",
       "      <td>HIGHLAND</td>\n",
       "      <td>CA</td>\n",
       "      <td>False</td>\n",
       "      <td>False</td>\n",
       "      <td>False</td>\n",
       "      <td>False</td>\n",
       "      <td>False</td>\n",
       "      <td>False</td>\n",
       "      <td>False</td>\n",
       "      <td>False</td>\n",
       "      <td>False</td>\n",
       "      <td>False</td>\n",
       "      <td>False</td>\n",
       "      <td>False</td>\n",
       "      <td>34.133930</td>\n",
       "      <td>-117.230920</td>\n",
       "      <td>2019-08-23CA</td>\n",
       "    </tr>\n",
       "  </tbody>\n",
       "</table>\n",
       "<p>7354121 rows × 19 columns</p>\n",
       "</div>"
      ],
      "text/plain": [
       "         Severity           Start_Time          City State  Amenity   Bump  \\\n",
       "0               3  2016-02-08 05:46:00        DAYTON    OH    False  False   \n",
       "1               2  2016-02-08 06:07:59  REYNOLDSBURG    OH    False  False   \n",
       "2               2  2016-02-08 06:49:27  WILLIAMSBURG    OH    False  False   \n",
       "3               3  2016-02-08 07:23:34        DAYTON    OH    False  False   \n",
       "4               2  2016-02-08 07:39:07        DAYTON    OH    False  False   \n",
       "...           ...                  ...           ...   ...      ...    ...   \n",
       "7728389         2  2019-08-23 18:03:25     RIVERSIDE    CA    False  False   \n",
       "7728390         2  2019-08-23 19:11:30      SANDIEGO    CA    False  False   \n",
       "7728391         2  2019-08-23 19:00:21        ORANGE    CA    False  False   \n",
       "7728392         2  2019-08-23 19:00:21    CULVERCITY    CA    False  False   \n",
       "7728393         2  2019-08-23 18:52:06      HIGHLAND    CA    False  False   \n",
       "\n",
       "         Crossing  Give_Way  Junction  No_Exit  Railway  Roundabout  Station  \\\n",
       "0           False     False     False    False    False       False    False   \n",
       "1           False     False     False    False    False       False    False   \n",
       "2           False     False     False    False    False       False    False   \n",
       "3           False     False     False    False    False       False    False   \n",
       "4           False     False     False    False    False       False    False   \n",
       "...           ...       ...       ...      ...      ...         ...      ...   \n",
       "7728389     False     False     False    False    False       False    False   \n",
       "7728390     False     False     False    False    False       False    False   \n",
       "7728391     False     False      True    False    False       False    False   \n",
       "7728392     False     False     False    False    False       False    False   \n",
       "7728393     False     False     False    False    False       False    False   \n",
       "\n",
       "          Stop  Traffic_Calming  Traffic_Signal  Start_Lat   Start_Lng  \\\n",
       "0        False            False           False  39.865147  -84.058723   \n",
       "1        False            False           False  39.928059  -82.831184   \n",
       "2        False            False            True  39.063148  -84.032608   \n",
       "3        False            False           False  39.747753  -84.205582   \n",
       "4        False            False            True  39.627781  -84.188354   \n",
       "...        ...              ...             ...        ...         ...   \n",
       "7728389  False            False           False  34.002480 -117.379360   \n",
       "7728390  False            False           False  32.766960 -117.148060   \n",
       "7728391  False            False           False  33.775450 -117.847790   \n",
       "7728392  False            False           False  33.992460 -118.403020   \n",
       "7728393  False            False           False  34.133930 -117.230920   \n",
       "\n",
       "             blocking  \n",
       "0        2016-02-08OH  \n",
       "1        2016-02-08OH  \n",
       "2        2016-02-08OH  \n",
       "3        2016-02-08OH  \n",
       "4        2016-02-08OH  \n",
       "...               ...  \n",
       "7728389  2019-08-23CA  \n",
       "7728390  2019-08-23CA  \n",
       "7728391  2019-08-23CA  \n",
       "7728392  2019-08-23CA  \n",
       "7728393  2019-08-23CA  \n",
       "\n",
       "[7354121 rows x 19 columns]"
      ]
     },
     "execution_count": 173,
     "metadata": {},
     "output_type": "execute_result"
    }
   ],
   "source": [
    "us_accidents[\"blocking\"] = us_accidents.apply(lambda row: row[\"Start_Time\"].split(\" \")[0] + row[\"State\"], axis=1)\n",
    "us_accidents "
   ]
  },
  {
   "cell_type": "code",
   "execution_count": 174,
   "id": "8231409d",
   "metadata": {},
   "outputs": [
    {
     "data": {
      "text/html": [
       "<div>\n",
       "<style scoped>\n",
       "    .dataframe tbody tr th:only-of-type {\n",
       "        vertical-align: middle;\n",
       "    }\n",
       "\n",
       "    .dataframe tbody tr th {\n",
       "        vertical-align: top;\n",
       "    }\n",
       "\n",
       "    .dataframe thead th {\n",
       "        text-align: right;\n",
       "    }\n",
       "</style>\n",
       "<table border=\"1\" class=\"dataframe\">\n",
       "  <thead>\n",
       "    <tr style=\"text-align: right;\">\n",
       "      <th></th>\n",
       "      <th>Severity</th>\n",
       "      <th>Start_Time</th>\n",
       "      <th>City</th>\n",
       "      <th>State</th>\n",
       "      <th>Amenity</th>\n",
       "      <th>Bump</th>\n",
       "      <th>Crossing</th>\n",
       "      <th>Give_Way</th>\n",
       "      <th>Junction</th>\n",
       "      <th>No_Exit</th>\n",
       "      <th>...</th>\n",
       "      <th>score1</th>\n",
       "      <th>score2</th>\n",
       "      <th>loser</th>\n",
       "      <th>winner</th>\n",
       "      <th>loser_full_name</th>\n",
       "      <th>loser_abbreviation</th>\n",
       "      <th>loser_nickname</th>\n",
       "      <th>loser_city</th>\n",
       "      <th>loser_state</th>\n",
       "      <th>loser_year_founded</th>\n",
       "    </tr>\n",
       "  </thead>\n",
       "  <tbody>\n",
       "    <tr>\n",
       "      <th>0</th>\n",
       "      <td>2</td>\n",
       "      <td>2016-02-22 05:20:31</td>\n",
       "      <td>DAYTON</td>\n",
       "      <td>OH</td>\n",
       "      <td>False</td>\n",
       "      <td>False</td>\n",
       "      <td>False</td>\n",
       "      <td>False</td>\n",
       "      <td>False</td>\n",
       "      <td>False</td>\n",
       "      <td>...</td>\n",
       "      <td>88.0</td>\n",
       "      <td>96.0</td>\n",
       "      <td>CLE</td>\n",
       "      <td>DET</td>\n",
       "      <td>CLEVELANDCAVALIERS</td>\n",
       "      <td>CLE</td>\n",
       "      <td>CAVALIERS</td>\n",
       "      <td>CLEVELAND</td>\n",
       "      <td>OH</td>\n",
       "      <td>1970.0</td>\n",
       "    </tr>\n",
       "    <tr>\n",
       "      <th>1</th>\n",
       "      <td>2</td>\n",
       "      <td>2016-02-22 06:11:53</td>\n",
       "      <td>BOWLINGGREEN</td>\n",
       "      <td>OH</td>\n",
       "      <td>False</td>\n",
       "      <td>False</td>\n",
       "      <td>False</td>\n",
       "      <td>False</td>\n",
       "      <td>False</td>\n",
       "      <td>False</td>\n",
       "      <td>...</td>\n",
       "      <td>88.0</td>\n",
       "      <td>96.0</td>\n",
       "      <td>CLE</td>\n",
       "      <td>DET</td>\n",
       "      <td>CLEVELANDCAVALIERS</td>\n",
       "      <td>CLE</td>\n",
       "      <td>CAVALIERS</td>\n",
       "      <td>CLEVELAND</td>\n",
       "      <td>OH</td>\n",
       "      <td>1970.0</td>\n",
       "    </tr>\n",
       "    <tr>\n",
       "      <th>2</th>\n",
       "      <td>2</td>\n",
       "      <td>2016-02-22 06:54:32</td>\n",
       "      <td>REYNOLDSBURG</td>\n",
       "      <td>OH</td>\n",
       "      <td>False</td>\n",
       "      <td>False</td>\n",
       "      <td>False</td>\n",
       "      <td>False</td>\n",
       "      <td>False</td>\n",
       "      <td>False</td>\n",
       "      <td>...</td>\n",
       "      <td>88.0</td>\n",
       "      <td>96.0</td>\n",
       "      <td>CLE</td>\n",
       "      <td>DET</td>\n",
       "      <td>CLEVELANDCAVALIERS</td>\n",
       "      <td>CLE</td>\n",
       "      <td>CAVALIERS</td>\n",
       "      <td>CLEVELAND</td>\n",
       "      <td>OH</td>\n",
       "      <td>1970.0</td>\n",
       "    </tr>\n",
       "    <tr>\n",
       "      <th>3</th>\n",
       "      <td>2</td>\n",
       "      <td>2016-02-22 07:09:58</td>\n",
       "      <td>COLUMBUS</td>\n",
       "      <td>OH</td>\n",
       "      <td>False</td>\n",
       "      <td>False</td>\n",
       "      <td>False</td>\n",
       "      <td>False</td>\n",
       "      <td>False</td>\n",
       "      <td>False</td>\n",
       "      <td>...</td>\n",
       "      <td>88.0</td>\n",
       "      <td>96.0</td>\n",
       "      <td>CLE</td>\n",
       "      <td>DET</td>\n",
       "      <td>CLEVELANDCAVALIERS</td>\n",
       "      <td>CLE</td>\n",
       "      <td>CAVALIERS</td>\n",
       "      <td>CLEVELAND</td>\n",
       "      <td>OH</td>\n",
       "      <td>1970.0</td>\n",
       "    </tr>\n",
       "    <tr>\n",
       "      <th>4</th>\n",
       "      <td>2</td>\n",
       "      <td>2016-02-22 07:14:44</td>\n",
       "      <td>CANALWINCHESTER</td>\n",
       "      <td>OH</td>\n",
       "      <td>False</td>\n",
       "      <td>False</td>\n",
       "      <td>False</td>\n",
       "      <td>False</td>\n",
       "      <td>False</td>\n",
       "      <td>False</td>\n",
       "      <td>...</td>\n",
       "      <td>88.0</td>\n",
       "      <td>96.0</td>\n",
       "      <td>CLE</td>\n",
       "      <td>DET</td>\n",
       "      <td>CLEVELANDCAVALIERS</td>\n",
       "      <td>CLE</td>\n",
       "      <td>CAVALIERS</td>\n",
       "      <td>CLEVELAND</td>\n",
       "      <td>OH</td>\n",
       "      <td>1970.0</td>\n",
       "    </tr>\n",
       "    <tr>\n",
       "      <th>...</th>\n",
       "      <td>...</td>\n",
       "      <td>...</td>\n",
       "      <td>...</td>\n",
       "      <td>...</td>\n",
       "      <td>...</td>\n",
       "      <td>...</td>\n",
       "      <td>...</td>\n",
       "      <td>...</td>\n",
       "      <td>...</td>\n",
       "      <td>...</td>\n",
       "      <td>...</td>\n",
       "      <td>...</td>\n",
       "      <td>...</td>\n",
       "      <td>...</td>\n",
       "      <td>...</td>\n",
       "      <td>...</td>\n",
       "      <td>...</td>\n",
       "      <td>...</td>\n",
       "      <td>...</td>\n",
       "      <td>...</td>\n",
       "      <td>...</td>\n",
       "    </tr>\n",
       "    <tr>\n",
       "      <th>349835</th>\n",
       "      <td>2</td>\n",
       "      <td>2017-10-30 19:44:00</td>\n",
       "      <td>SALINAS</td>\n",
       "      <td>CA</td>\n",
       "      <td>False</td>\n",
       "      <td>False</td>\n",
       "      <td>False</td>\n",
       "      <td>True</td>\n",
       "      <td>False</td>\n",
       "      <td>False</td>\n",
       "      <td>...</td>\n",
       "      <td>113.0</td>\n",
       "      <td>141.0</td>\n",
       "      <td>LAC</td>\n",
       "      <td>GSW</td>\n",
       "      <td>LOSANGELESCLIPPERS</td>\n",
       "      <td>LAC</td>\n",
       "      <td>CLIPPERS</td>\n",
       "      <td>LOSANGELES</td>\n",
       "      <td>CA</td>\n",
       "      <td>1970.0</td>\n",
       "    </tr>\n",
       "    <tr>\n",
       "      <th>349836</th>\n",
       "      <td>2</td>\n",
       "      <td>2017-10-30 21:22:15</td>\n",
       "      <td>LOSANGELES</td>\n",
       "      <td>CA</td>\n",
       "      <td>False</td>\n",
       "      <td>False</td>\n",
       "      <td>False</td>\n",
       "      <td>False</td>\n",
       "      <td>False</td>\n",
       "      <td>False</td>\n",
       "      <td>...</td>\n",
       "      <td>113.0</td>\n",
       "      <td>141.0</td>\n",
       "      <td>LAC</td>\n",
       "      <td>GSW</td>\n",
       "      <td>LOSANGELESCLIPPERS</td>\n",
       "      <td>LAC</td>\n",
       "      <td>CLIPPERS</td>\n",
       "      <td>LOSANGELES</td>\n",
       "      <td>CA</td>\n",
       "      <td>1970.0</td>\n",
       "    </tr>\n",
       "    <tr>\n",
       "      <th>349837</th>\n",
       "      <td>2</td>\n",
       "      <td>2017-10-30 21:26:00</td>\n",
       "      <td>LOSANGELES</td>\n",
       "      <td>CA</td>\n",
       "      <td>False</td>\n",
       "      <td>False</td>\n",
       "      <td>False</td>\n",
       "      <td>False</td>\n",
       "      <td>False</td>\n",
       "      <td>False</td>\n",
       "      <td>...</td>\n",
       "      <td>113.0</td>\n",
       "      <td>141.0</td>\n",
       "      <td>LAC</td>\n",
       "      <td>GSW</td>\n",
       "      <td>LOSANGELESCLIPPERS</td>\n",
       "      <td>LAC</td>\n",
       "      <td>CLIPPERS</td>\n",
       "      <td>LOSANGELES</td>\n",
       "      <td>CA</td>\n",
       "      <td>1970.0</td>\n",
       "    </tr>\n",
       "    <tr>\n",
       "      <th>349838</th>\n",
       "      <td>2</td>\n",
       "      <td>2017-10-30 21:24:07</td>\n",
       "      <td>LOSANGELES</td>\n",
       "      <td>CA</td>\n",
       "      <td>False</td>\n",
       "      <td>False</td>\n",
       "      <td>False</td>\n",
       "      <td>False</td>\n",
       "      <td>False</td>\n",
       "      <td>False</td>\n",
       "      <td>...</td>\n",
       "      <td>113.0</td>\n",
       "      <td>141.0</td>\n",
       "      <td>LAC</td>\n",
       "      <td>GSW</td>\n",
       "      <td>LOSANGELESCLIPPERS</td>\n",
       "      <td>LAC</td>\n",
       "      <td>CLIPPERS</td>\n",
       "      <td>LOSANGELES</td>\n",
       "      <td>CA</td>\n",
       "      <td>1970.0</td>\n",
       "    </tr>\n",
       "    <tr>\n",
       "      <th>349839</th>\n",
       "      <td>2</td>\n",
       "      <td>2017-10-30 21:26:00</td>\n",
       "      <td>LOSANGELES</td>\n",
       "      <td>CA</td>\n",
       "      <td>False</td>\n",
       "      <td>False</td>\n",
       "      <td>False</td>\n",
       "      <td>False</td>\n",
       "      <td>False</td>\n",
       "      <td>False</td>\n",
       "      <td>...</td>\n",
       "      <td>113.0</td>\n",
       "      <td>141.0</td>\n",
       "      <td>LAC</td>\n",
       "      <td>GSW</td>\n",
       "      <td>LOSANGELESCLIPPERS</td>\n",
       "      <td>LAC</td>\n",
       "      <td>CLIPPERS</td>\n",
       "      <td>LOSANGELES</td>\n",
       "      <td>CA</td>\n",
       "      <td>1970.0</td>\n",
       "    </tr>\n",
       "  </tbody>\n",
       "</table>\n",
       "<p>349840 rows × 48 columns</p>\n",
       "</div>"
      ],
      "text/plain": [
       "        Severity           Start_Time             City State  Amenity   Bump  \\\n",
       "0              2  2016-02-22 05:20:31           DAYTON    OH    False  False   \n",
       "1              2  2016-02-22 06:11:53     BOWLINGGREEN    OH    False  False   \n",
       "2              2  2016-02-22 06:54:32     REYNOLDSBURG    OH    False  False   \n",
       "3              2  2016-02-22 07:09:58         COLUMBUS    OH    False  False   \n",
       "4              2  2016-02-22 07:14:44  CANALWINCHESTER    OH    False  False   \n",
       "...          ...                  ...              ...   ...      ...    ...   \n",
       "349835         2  2017-10-30 19:44:00          SALINAS    CA    False  False   \n",
       "349836         2  2017-10-30 21:22:15       LOSANGELES    CA    False  False   \n",
       "349837         2  2017-10-30 21:26:00       LOSANGELES    CA    False  False   \n",
       "349838         2  2017-10-30 21:24:07       LOSANGELES    CA    False  False   \n",
       "349839         2  2017-10-30 21:26:00       LOSANGELES    CA    False  False   \n",
       "\n",
       "        Crossing  Give_Way  Junction  No_Exit  ...  score1  score2  loser  \\\n",
       "0          False     False     False    False  ...    88.0    96.0    CLE   \n",
       "1          False     False     False    False  ...    88.0    96.0    CLE   \n",
       "2          False     False     False    False  ...    88.0    96.0    CLE   \n",
       "3          False     False     False    False  ...    88.0    96.0    CLE   \n",
       "4          False     False     False    False  ...    88.0    96.0    CLE   \n",
       "...          ...       ...       ...      ...  ...     ...     ...    ...   \n",
       "349835     False      True     False    False  ...   113.0   141.0    LAC   \n",
       "349836     False     False     False    False  ...   113.0   141.0    LAC   \n",
       "349837     False     False     False    False  ...   113.0   141.0    LAC   \n",
       "349838     False     False     False    False  ...   113.0   141.0    LAC   \n",
       "349839     False     False     False    False  ...   113.0   141.0    LAC   \n",
       "\n",
       "        winner     loser_full_name  loser_abbreviation  loser_nickname  \\\n",
       "0          DET  CLEVELANDCAVALIERS                 CLE       CAVALIERS   \n",
       "1          DET  CLEVELANDCAVALIERS                 CLE       CAVALIERS   \n",
       "2          DET  CLEVELANDCAVALIERS                 CLE       CAVALIERS   \n",
       "3          DET  CLEVELANDCAVALIERS                 CLE       CAVALIERS   \n",
       "4          DET  CLEVELANDCAVALIERS                 CLE       CAVALIERS   \n",
       "...        ...                 ...                 ...             ...   \n",
       "349835     GSW  LOSANGELESCLIPPERS                 LAC        CLIPPERS   \n",
       "349836     GSW  LOSANGELESCLIPPERS                 LAC        CLIPPERS   \n",
       "349837     GSW  LOSANGELESCLIPPERS                 LAC        CLIPPERS   \n",
       "349838     GSW  LOSANGELESCLIPPERS                 LAC        CLIPPERS   \n",
       "349839     GSW  LOSANGELESCLIPPERS                 LAC        CLIPPERS   \n",
       "\n",
       "        loser_city loser_state  loser_year_founded  \n",
       "0        CLEVELAND          OH              1970.0  \n",
       "1        CLEVELAND          OH              1970.0  \n",
       "2        CLEVELAND          OH              1970.0  \n",
       "3        CLEVELAND          OH              1970.0  \n",
       "4        CLEVELAND          OH              1970.0  \n",
       "...            ...         ...                 ...  \n",
       "349835  LOSANGELES          CA              1970.0  \n",
       "349836  LOSANGELES          CA              1970.0  \n",
       "349837  LOSANGELES          CA              1970.0  \n",
       "349838  LOSANGELES          CA              1970.0  \n",
       "349839  LOSANGELES          CA              1970.0  \n",
       "\n",
       "[349840 rows x 48 columns]"
      ]
     },
     "execution_count": 174,
     "metadata": {},
     "output_type": "execute_result"
    }
   ],
   "source": [
    "blocking_matches = us_accidents.merge(merged_nba, on='blocking')\n",
    "blocking_matches"
   ]
  },
  {
   "cell_type": "code",
   "execution_count": 175,
   "id": "6dc44575",
   "metadata": {},
   "outputs": [],
   "source": [
    "leven = py_stringmatching.Levenshtein()\n",
    "jaro = py_stringmatching.Jaro()\n",
    "\n",
    "def similarity_accident_game(acc_city, acc_state, nba_city, nba_state):\n",
    "    state_score = jaro.get_sim_score(nba_state, acc_state)\n",
    "    city_score = leven.get_sim_score(nba_city, acc_city)\n",
    "    score = state_score * 0.5 + city_score * 0.5\n",
    "    return score"
   ]
  },
  {
   "cell_type": "code",
   "execution_count": 176,
   "id": "aabb04da",
   "metadata": {},
   "outputs": [
    {
     "data": {
      "text/html": [
       "<div>\n",
       "<style scoped>\n",
       "    .dataframe tbody tr th:only-of-type {\n",
       "        vertical-align: middle;\n",
       "    }\n",
       "\n",
       "    .dataframe tbody tr th {\n",
       "        vertical-align: top;\n",
       "    }\n",
       "\n",
       "    .dataframe thead th {\n",
       "        text-align: right;\n",
       "    }\n",
       "</style>\n",
       "<table border=\"1\" class=\"dataframe\">\n",
       "  <thead>\n",
       "    <tr style=\"text-align: right;\">\n",
       "      <th></th>\n",
       "      <th>Severity</th>\n",
       "      <th>Start_Time</th>\n",
       "      <th>City</th>\n",
       "      <th>State</th>\n",
       "      <th>Amenity</th>\n",
       "      <th>Bump</th>\n",
       "      <th>Crossing</th>\n",
       "      <th>Give_Way</th>\n",
       "      <th>Junction</th>\n",
       "      <th>No_Exit</th>\n",
       "      <th>...</th>\n",
       "      <th>score2</th>\n",
       "      <th>loser</th>\n",
       "      <th>winner</th>\n",
       "      <th>loser_full_name</th>\n",
       "      <th>loser_abbreviation</th>\n",
       "      <th>loser_nickname</th>\n",
       "      <th>loser_city</th>\n",
       "      <th>loser_state</th>\n",
       "      <th>loser_year_founded</th>\n",
       "      <th>similarity</th>\n",
       "    </tr>\n",
       "  </thead>\n",
       "  <tbody>\n",
       "    <tr>\n",
       "      <th>0</th>\n",
       "      <td>2</td>\n",
       "      <td>2016-02-22 05:20:31</td>\n",
       "      <td>DAYTON</td>\n",
       "      <td>OH</td>\n",
       "      <td>False</td>\n",
       "      <td>False</td>\n",
       "      <td>False</td>\n",
       "      <td>False</td>\n",
       "      <td>False</td>\n",
       "      <td>False</td>\n",
       "      <td>...</td>\n",
       "      <td>96.0</td>\n",
       "      <td>CLE</td>\n",
       "      <td>DET</td>\n",
       "      <td>CLEVELANDCAVALIERS</td>\n",
       "      <td>CLE</td>\n",
       "      <td>CAVALIERS</td>\n",
       "      <td>CLEVELAND</td>\n",
       "      <td>OH</td>\n",
       "      <td>1970.0</td>\n",
       "      <td>0.555556</td>\n",
       "    </tr>\n",
       "    <tr>\n",
       "      <th>1</th>\n",
       "      <td>2</td>\n",
       "      <td>2016-02-22 06:11:53</td>\n",
       "      <td>BOWLINGGREEN</td>\n",
       "      <td>OH</td>\n",
       "      <td>False</td>\n",
       "      <td>False</td>\n",
       "      <td>False</td>\n",
       "      <td>False</td>\n",
       "      <td>False</td>\n",
       "      <td>False</td>\n",
       "      <td>...</td>\n",
       "      <td>96.0</td>\n",
       "      <td>CLE</td>\n",
       "      <td>DET</td>\n",
       "      <td>CLEVELANDCAVALIERS</td>\n",
       "      <td>CLE</td>\n",
       "      <td>CAVALIERS</td>\n",
       "      <td>CLEVELAND</td>\n",
       "      <td>OH</td>\n",
       "      <td>1970.0</td>\n",
       "      <td>0.541667</td>\n",
       "    </tr>\n",
       "    <tr>\n",
       "      <th>2</th>\n",
       "      <td>2</td>\n",
       "      <td>2016-02-22 06:54:32</td>\n",
       "      <td>REYNOLDSBURG</td>\n",
       "      <td>OH</td>\n",
       "      <td>False</td>\n",
       "      <td>False</td>\n",
       "      <td>False</td>\n",
       "      <td>False</td>\n",
       "      <td>False</td>\n",
       "      <td>False</td>\n",
       "      <td>...</td>\n",
       "      <td>96.0</td>\n",
       "      <td>CLE</td>\n",
       "      <td>DET</td>\n",
       "      <td>CLEVELANDCAVALIERS</td>\n",
       "      <td>CLE</td>\n",
       "      <td>CAVALIERS</td>\n",
       "      <td>CLEVELAND</td>\n",
       "      <td>OH</td>\n",
       "      <td>1970.0</td>\n",
       "      <td>0.541667</td>\n",
       "    </tr>\n",
       "    <tr>\n",
       "      <th>3</th>\n",
       "      <td>2</td>\n",
       "      <td>2016-02-22 07:09:58</td>\n",
       "      <td>COLUMBUS</td>\n",
       "      <td>OH</td>\n",
       "      <td>False</td>\n",
       "      <td>False</td>\n",
       "      <td>False</td>\n",
       "      <td>False</td>\n",
       "      <td>False</td>\n",
       "      <td>False</td>\n",
       "      <td>...</td>\n",
       "      <td>96.0</td>\n",
       "      <td>CLE</td>\n",
       "      <td>DET</td>\n",
       "      <td>CLEVELANDCAVALIERS</td>\n",
       "      <td>CLE</td>\n",
       "      <td>CAVALIERS</td>\n",
       "      <td>CLEVELAND</td>\n",
       "      <td>OH</td>\n",
       "      <td>1970.0</td>\n",
       "      <td>0.555556</td>\n",
       "    </tr>\n",
       "    <tr>\n",
       "      <th>4</th>\n",
       "      <td>2</td>\n",
       "      <td>2016-02-22 07:14:44</td>\n",
       "      <td>CANALWINCHESTER</td>\n",
       "      <td>OH</td>\n",
       "      <td>False</td>\n",
       "      <td>False</td>\n",
       "      <td>False</td>\n",
       "      <td>False</td>\n",
       "      <td>False</td>\n",
       "      <td>False</td>\n",
       "      <td>...</td>\n",
       "      <td>96.0</td>\n",
       "      <td>CLE</td>\n",
       "      <td>DET</td>\n",
       "      <td>CLEVELANDCAVALIERS</td>\n",
       "      <td>CLE</td>\n",
       "      <td>CAVALIERS</td>\n",
       "      <td>CLEVELAND</td>\n",
       "      <td>OH</td>\n",
       "      <td>1970.0</td>\n",
       "      <td>0.600000</td>\n",
       "    </tr>\n",
       "    <tr>\n",
       "      <th>...</th>\n",
       "      <td>...</td>\n",
       "      <td>...</td>\n",
       "      <td>...</td>\n",
       "      <td>...</td>\n",
       "      <td>...</td>\n",
       "      <td>...</td>\n",
       "      <td>...</td>\n",
       "      <td>...</td>\n",
       "      <td>...</td>\n",
       "      <td>...</td>\n",
       "      <td>...</td>\n",
       "      <td>...</td>\n",
       "      <td>...</td>\n",
       "      <td>...</td>\n",
       "      <td>...</td>\n",
       "      <td>...</td>\n",
       "      <td>...</td>\n",
       "      <td>...</td>\n",
       "      <td>...</td>\n",
       "      <td>...</td>\n",
       "      <td>...</td>\n",
       "    </tr>\n",
       "    <tr>\n",
       "      <th>349835</th>\n",
       "      <td>2</td>\n",
       "      <td>2017-10-30 19:44:00</td>\n",
       "      <td>SALINAS</td>\n",
       "      <td>CA</td>\n",
       "      <td>False</td>\n",
       "      <td>False</td>\n",
       "      <td>False</td>\n",
       "      <td>True</td>\n",
       "      <td>False</td>\n",
       "      <td>False</td>\n",
       "      <td>...</td>\n",
       "      <td>141.0</td>\n",
       "      <td>LAC</td>\n",
       "      <td>GSW</td>\n",
       "      <td>LOSANGELESCLIPPERS</td>\n",
       "      <td>LAC</td>\n",
       "      <td>CLIPPERS</td>\n",
       "      <td>LOSANGELES</td>\n",
       "      <td>CA</td>\n",
       "      <td>1970.0</td>\n",
       "      <td>0.650000</td>\n",
       "    </tr>\n",
       "    <tr>\n",
       "      <th>349836</th>\n",
       "      <td>2</td>\n",
       "      <td>2017-10-30 21:22:15</td>\n",
       "      <td>LOSANGELES</td>\n",
       "      <td>CA</td>\n",
       "      <td>False</td>\n",
       "      <td>False</td>\n",
       "      <td>False</td>\n",
       "      <td>False</td>\n",
       "      <td>False</td>\n",
       "      <td>False</td>\n",
       "      <td>...</td>\n",
       "      <td>141.0</td>\n",
       "      <td>LAC</td>\n",
       "      <td>GSW</td>\n",
       "      <td>LOSANGELESCLIPPERS</td>\n",
       "      <td>LAC</td>\n",
       "      <td>CLIPPERS</td>\n",
       "      <td>LOSANGELES</td>\n",
       "      <td>CA</td>\n",
       "      <td>1970.0</td>\n",
       "      <td>1.000000</td>\n",
       "    </tr>\n",
       "    <tr>\n",
       "      <th>349837</th>\n",
       "      <td>2</td>\n",
       "      <td>2017-10-30 21:26:00</td>\n",
       "      <td>LOSANGELES</td>\n",
       "      <td>CA</td>\n",
       "      <td>False</td>\n",
       "      <td>False</td>\n",
       "      <td>False</td>\n",
       "      <td>False</td>\n",
       "      <td>False</td>\n",
       "      <td>False</td>\n",
       "      <td>...</td>\n",
       "      <td>141.0</td>\n",
       "      <td>LAC</td>\n",
       "      <td>GSW</td>\n",
       "      <td>LOSANGELESCLIPPERS</td>\n",
       "      <td>LAC</td>\n",
       "      <td>CLIPPERS</td>\n",
       "      <td>LOSANGELES</td>\n",
       "      <td>CA</td>\n",
       "      <td>1970.0</td>\n",
       "      <td>1.000000</td>\n",
       "    </tr>\n",
       "    <tr>\n",
       "      <th>349838</th>\n",
       "      <td>2</td>\n",
       "      <td>2017-10-30 21:24:07</td>\n",
       "      <td>LOSANGELES</td>\n",
       "      <td>CA</td>\n",
       "      <td>False</td>\n",
       "      <td>False</td>\n",
       "      <td>False</td>\n",
       "      <td>False</td>\n",
       "      <td>False</td>\n",
       "      <td>False</td>\n",
       "      <td>...</td>\n",
       "      <td>141.0</td>\n",
       "      <td>LAC</td>\n",
       "      <td>GSW</td>\n",
       "      <td>LOSANGELESCLIPPERS</td>\n",
       "      <td>LAC</td>\n",
       "      <td>CLIPPERS</td>\n",
       "      <td>LOSANGELES</td>\n",
       "      <td>CA</td>\n",
       "      <td>1970.0</td>\n",
       "      <td>1.000000</td>\n",
       "    </tr>\n",
       "    <tr>\n",
       "      <th>349839</th>\n",
       "      <td>2</td>\n",
       "      <td>2017-10-30 21:26:00</td>\n",
       "      <td>LOSANGELES</td>\n",
       "      <td>CA</td>\n",
       "      <td>False</td>\n",
       "      <td>False</td>\n",
       "      <td>False</td>\n",
       "      <td>False</td>\n",
       "      <td>False</td>\n",
       "      <td>False</td>\n",
       "      <td>...</td>\n",
       "      <td>141.0</td>\n",
       "      <td>LAC</td>\n",
       "      <td>GSW</td>\n",
       "      <td>LOSANGELESCLIPPERS</td>\n",
       "      <td>LAC</td>\n",
       "      <td>CLIPPERS</td>\n",
       "      <td>LOSANGELES</td>\n",
       "      <td>CA</td>\n",
       "      <td>1970.0</td>\n",
       "      <td>1.000000</td>\n",
       "    </tr>\n",
       "  </tbody>\n",
       "</table>\n",
       "<p>349840 rows × 49 columns</p>\n",
       "</div>"
      ],
      "text/plain": [
       "        Severity           Start_Time             City State  Amenity   Bump  \\\n",
       "0              2  2016-02-22 05:20:31           DAYTON    OH    False  False   \n",
       "1              2  2016-02-22 06:11:53     BOWLINGGREEN    OH    False  False   \n",
       "2              2  2016-02-22 06:54:32     REYNOLDSBURG    OH    False  False   \n",
       "3              2  2016-02-22 07:09:58         COLUMBUS    OH    False  False   \n",
       "4              2  2016-02-22 07:14:44  CANALWINCHESTER    OH    False  False   \n",
       "...          ...                  ...              ...   ...      ...    ...   \n",
       "349835         2  2017-10-30 19:44:00          SALINAS    CA    False  False   \n",
       "349836         2  2017-10-30 21:22:15       LOSANGELES    CA    False  False   \n",
       "349837         2  2017-10-30 21:26:00       LOSANGELES    CA    False  False   \n",
       "349838         2  2017-10-30 21:24:07       LOSANGELES    CA    False  False   \n",
       "349839         2  2017-10-30 21:26:00       LOSANGELES    CA    False  False   \n",
       "\n",
       "        Crossing  Give_Way  Junction  No_Exit  ...  score2  loser  winner  \\\n",
       "0          False     False     False    False  ...    96.0    CLE     DET   \n",
       "1          False     False     False    False  ...    96.0    CLE     DET   \n",
       "2          False     False     False    False  ...    96.0    CLE     DET   \n",
       "3          False     False     False    False  ...    96.0    CLE     DET   \n",
       "4          False     False     False    False  ...    96.0    CLE     DET   \n",
       "...          ...       ...       ...      ...  ...     ...    ...     ...   \n",
       "349835     False      True     False    False  ...   141.0    LAC     GSW   \n",
       "349836     False     False     False    False  ...   141.0    LAC     GSW   \n",
       "349837     False     False     False    False  ...   141.0    LAC     GSW   \n",
       "349838     False     False     False    False  ...   141.0    LAC     GSW   \n",
       "349839     False     False     False    False  ...   141.0    LAC     GSW   \n",
       "\n",
       "           loser_full_name  loser_abbreviation  loser_nickname  loser_city  \\\n",
       "0       CLEVELANDCAVALIERS                 CLE       CAVALIERS   CLEVELAND   \n",
       "1       CLEVELANDCAVALIERS                 CLE       CAVALIERS   CLEVELAND   \n",
       "2       CLEVELANDCAVALIERS                 CLE       CAVALIERS   CLEVELAND   \n",
       "3       CLEVELANDCAVALIERS                 CLE       CAVALIERS   CLEVELAND   \n",
       "4       CLEVELANDCAVALIERS                 CLE       CAVALIERS   CLEVELAND   \n",
       "...                    ...                 ...             ...         ...   \n",
       "349835  LOSANGELESCLIPPERS                 LAC        CLIPPERS  LOSANGELES   \n",
       "349836  LOSANGELESCLIPPERS                 LAC        CLIPPERS  LOSANGELES   \n",
       "349837  LOSANGELESCLIPPERS                 LAC        CLIPPERS  LOSANGELES   \n",
       "349838  LOSANGELESCLIPPERS                 LAC        CLIPPERS  LOSANGELES   \n",
       "349839  LOSANGELESCLIPPERS                 LAC        CLIPPERS  LOSANGELES   \n",
       "\n",
       "        loser_state loser_year_founded  similarity  \n",
       "0                OH             1970.0    0.555556  \n",
       "1                OH             1970.0    0.541667  \n",
       "2                OH             1970.0    0.541667  \n",
       "3                OH             1970.0    0.555556  \n",
       "4                OH             1970.0    0.600000  \n",
       "...             ...                ...         ...  \n",
       "349835           CA             1970.0    0.650000  \n",
       "349836           CA             1970.0    1.000000  \n",
       "349837           CA             1970.0    1.000000  \n",
       "349838           CA             1970.0    1.000000  \n",
       "349839           CA             1970.0    1.000000  \n",
       "\n",
       "[349840 rows x 49 columns]"
      ]
     },
     "execution_count": 176,
     "metadata": {},
     "output_type": "execute_result"
    }
   ],
   "source": [
    "blocking_matches['similarity'] = blocking_matches.apply(\n",
    "    lambda row: similarity_accident_game(row[\"City\"], row[\"State\"], row[\"loser_city\"], row[\"loser_state\"]), axis=1\n",
    ")\n",
    "blocking_matches"
   ]
  },
  {
   "cell_type": "code",
   "execution_count": 177,
   "id": "097dc86b",
   "metadata": {},
   "outputs": [
    {
     "data": {
      "text/html": [
       "<div>\n",
       "<style scoped>\n",
       "    .dataframe tbody tr th:only-of-type {\n",
       "        vertical-align: middle;\n",
       "    }\n",
       "\n",
       "    .dataframe tbody tr th {\n",
       "        vertical-align: top;\n",
       "    }\n",
       "\n",
       "    .dataframe thead th {\n",
       "        text-align: right;\n",
       "    }\n",
       "</style>\n",
       "<table border=\"1\" class=\"dataframe\">\n",
       "  <thead>\n",
       "    <tr style=\"text-align: right;\">\n",
       "      <th></th>\n",
       "      <th>Severity</th>\n",
       "      <th>Start_Time</th>\n",
       "      <th>City</th>\n",
       "      <th>State</th>\n",
       "      <th>Amenity</th>\n",
       "      <th>Bump</th>\n",
       "      <th>Crossing</th>\n",
       "      <th>Give_Way</th>\n",
       "      <th>Junction</th>\n",
       "      <th>No_Exit</th>\n",
       "      <th>...</th>\n",
       "      <th>score2</th>\n",
       "      <th>loser</th>\n",
       "      <th>winner</th>\n",
       "      <th>loser_full_name</th>\n",
       "      <th>loser_abbreviation</th>\n",
       "      <th>loser_nickname</th>\n",
       "      <th>loser_city</th>\n",
       "      <th>loser_state</th>\n",
       "      <th>loser_year_founded</th>\n",
       "      <th>similarity</th>\n",
       "    </tr>\n",
       "  </thead>\n",
       "  <tbody>\n",
       "    <tr>\n",
       "      <th>40</th>\n",
       "      <td>3</td>\n",
       "      <td>2016-03-07 07:27:39</td>\n",
       "      <td>CLEVELAND</td>\n",
       "      <td>OH</td>\n",
       "      <td>False</td>\n",
       "      <td>False</td>\n",
       "      <td>False</td>\n",
       "      <td>False</td>\n",
       "      <td>False</td>\n",
       "      <td>False</td>\n",
       "      <td>...</td>\n",
       "      <td>106.0</td>\n",
       "      <td>CLE</td>\n",
       "      <td>MEM</td>\n",
       "      <td>CLEVELANDCAVALIERS</td>\n",
       "      <td>CLE</td>\n",
       "      <td>CAVALIERS</td>\n",
       "      <td>CLEVELAND</td>\n",
       "      <td>OH</td>\n",
       "      <td>1970.0</td>\n",
       "      <td>1.00</td>\n",
       "    </tr>\n",
       "    <tr>\n",
       "      <th>348</th>\n",
       "      <td>2</td>\n",
       "      <td>2016-12-02 02:51:52</td>\n",
       "      <td>LOSALTOS</td>\n",
       "      <td>CA</td>\n",
       "      <td>False</td>\n",
       "      <td>False</td>\n",
       "      <td>False</td>\n",
       "      <td>False</td>\n",
       "      <td>False</td>\n",
       "      <td>False</td>\n",
       "      <td>...</td>\n",
       "      <td>80.0</td>\n",
       "      <td>LAL</td>\n",
       "      <td>TOR</td>\n",
       "      <td>LOSANGELESLAKERS</td>\n",
       "      <td>LAL</td>\n",
       "      <td>LAKERS</td>\n",
       "      <td>LOSANGELES</td>\n",
       "      <td>CA</td>\n",
       "      <td>1948.0</td>\n",
       "      <td>0.75</td>\n",
       "    </tr>\n",
       "    <tr>\n",
       "      <th>384</th>\n",
       "      <td>2</td>\n",
       "      <td>2016-12-02 09:14:27</td>\n",
       "      <td>LOSGATOS</td>\n",
       "      <td>CA</td>\n",
       "      <td>False</td>\n",
       "      <td>False</td>\n",
       "      <td>False</td>\n",
       "      <td>True</td>\n",
       "      <td>False</td>\n",
       "      <td>False</td>\n",
       "      <td>...</td>\n",
       "      <td>80.0</td>\n",
       "      <td>LAL</td>\n",
       "      <td>TOR</td>\n",
       "      <td>LOSANGELESLAKERS</td>\n",
       "      <td>LAL</td>\n",
       "      <td>LAKERS</td>\n",
       "      <td>LOSANGELES</td>\n",
       "      <td>CA</td>\n",
       "      <td>1948.0</td>\n",
       "      <td>0.75</td>\n",
       "    </tr>\n",
       "    <tr>\n",
       "      <th>409</th>\n",
       "      <td>2</td>\n",
       "      <td>2016-12-02 09:53:29</td>\n",
       "      <td>SACRAMENTO</td>\n",
       "      <td>CA</td>\n",
       "      <td>False</td>\n",
       "      <td>False</td>\n",
       "      <td>False</td>\n",
       "      <td>False</td>\n",
       "      <td>False</td>\n",
       "      <td>False</td>\n",
       "      <td>...</td>\n",
       "      <td>92.0</td>\n",
       "      <td>SAC</td>\n",
       "      <td>BOS</td>\n",
       "      <td>SACRAMENTOKINGS</td>\n",
       "      <td>SAC</td>\n",
       "      <td>KINGS</td>\n",
       "      <td>SACRAMENTO</td>\n",
       "      <td>CA</td>\n",
       "      <td>1948.0</td>\n",
       "      <td>1.00</td>\n",
       "    </tr>\n",
       "    <tr>\n",
       "      <th>451</th>\n",
       "      <td>2</td>\n",
       "      <td>2016-12-02 12:11:01</td>\n",
       "      <td>SACRAMENTO</td>\n",
       "      <td>CA</td>\n",
       "      <td>False</td>\n",
       "      <td>False</td>\n",
       "      <td>True</td>\n",
       "      <td>False</td>\n",
       "      <td>False</td>\n",
       "      <td>False</td>\n",
       "      <td>...</td>\n",
       "      <td>92.0</td>\n",
       "      <td>SAC</td>\n",
       "      <td>BOS</td>\n",
       "      <td>SACRAMENTOKINGS</td>\n",
       "      <td>SAC</td>\n",
       "      <td>KINGS</td>\n",
       "      <td>SACRAMENTO</td>\n",
       "      <td>CA</td>\n",
       "      <td>1948.0</td>\n",
       "      <td>1.00</td>\n",
       "    </tr>\n",
       "    <tr>\n",
       "      <th>...</th>\n",
       "      <td>...</td>\n",
       "      <td>...</td>\n",
       "      <td>...</td>\n",
       "      <td>...</td>\n",
       "      <td>...</td>\n",
       "      <td>...</td>\n",
       "      <td>...</td>\n",
       "      <td>...</td>\n",
       "      <td>...</td>\n",
       "      <td>...</td>\n",
       "      <td>...</td>\n",
       "      <td>...</td>\n",
       "      <td>...</td>\n",
       "      <td>...</td>\n",
       "      <td>...</td>\n",
       "      <td>...</td>\n",
       "      <td>...</td>\n",
       "      <td>...</td>\n",
       "      <td>...</td>\n",
       "      <td>...</td>\n",
       "      <td>...</td>\n",
       "    </tr>\n",
       "    <tr>\n",
       "      <th>349821</th>\n",
       "      <td>2</td>\n",
       "      <td>2017-10-30 16:56:01</td>\n",
       "      <td>ORANGE</td>\n",
       "      <td>CA</td>\n",
       "      <td>False</td>\n",
       "      <td>False</td>\n",
       "      <td>False</td>\n",
       "      <td>False</td>\n",
       "      <td>False</td>\n",
       "      <td>False</td>\n",
       "      <td>...</td>\n",
       "      <td>141.0</td>\n",
       "      <td>LAC</td>\n",
       "      <td>GSW</td>\n",
       "      <td>LOSANGELESCLIPPERS</td>\n",
       "      <td>LAC</td>\n",
       "      <td>CLIPPERS</td>\n",
       "      <td>LOSANGELES</td>\n",
       "      <td>CA</td>\n",
       "      <td>1970.0</td>\n",
       "      <td>0.75</td>\n",
       "    </tr>\n",
       "    <tr>\n",
       "      <th>349836</th>\n",
       "      <td>2</td>\n",
       "      <td>2017-10-30 21:22:15</td>\n",
       "      <td>LOSANGELES</td>\n",
       "      <td>CA</td>\n",
       "      <td>False</td>\n",
       "      <td>False</td>\n",
       "      <td>False</td>\n",
       "      <td>False</td>\n",
       "      <td>False</td>\n",
       "      <td>False</td>\n",
       "      <td>...</td>\n",
       "      <td>141.0</td>\n",
       "      <td>LAC</td>\n",
       "      <td>GSW</td>\n",
       "      <td>LOSANGELESCLIPPERS</td>\n",
       "      <td>LAC</td>\n",
       "      <td>CLIPPERS</td>\n",
       "      <td>LOSANGELES</td>\n",
       "      <td>CA</td>\n",
       "      <td>1970.0</td>\n",
       "      <td>1.00</td>\n",
       "    </tr>\n",
       "    <tr>\n",
       "      <th>349837</th>\n",
       "      <td>2</td>\n",
       "      <td>2017-10-30 21:26:00</td>\n",
       "      <td>LOSANGELES</td>\n",
       "      <td>CA</td>\n",
       "      <td>False</td>\n",
       "      <td>False</td>\n",
       "      <td>False</td>\n",
       "      <td>False</td>\n",
       "      <td>False</td>\n",
       "      <td>False</td>\n",
       "      <td>...</td>\n",
       "      <td>141.0</td>\n",
       "      <td>LAC</td>\n",
       "      <td>GSW</td>\n",
       "      <td>LOSANGELESCLIPPERS</td>\n",
       "      <td>LAC</td>\n",
       "      <td>CLIPPERS</td>\n",
       "      <td>LOSANGELES</td>\n",
       "      <td>CA</td>\n",
       "      <td>1970.0</td>\n",
       "      <td>1.00</td>\n",
       "    </tr>\n",
       "    <tr>\n",
       "      <th>349838</th>\n",
       "      <td>2</td>\n",
       "      <td>2017-10-30 21:24:07</td>\n",
       "      <td>LOSANGELES</td>\n",
       "      <td>CA</td>\n",
       "      <td>False</td>\n",
       "      <td>False</td>\n",
       "      <td>False</td>\n",
       "      <td>False</td>\n",
       "      <td>False</td>\n",
       "      <td>False</td>\n",
       "      <td>...</td>\n",
       "      <td>141.0</td>\n",
       "      <td>LAC</td>\n",
       "      <td>GSW</td>\n",
       "      <td>LOSANGELESCLIPPERS</td>\n",
       "      <td>LAC</td>\n",
       "      <td>CLIPPERS</td>\n",
       "      <td>LOSANGELES</td>\n",
       "      <td>CA</td>\n",
       "      <td>1970.0</td>\n",
       "      <td>1.00</td>\n",
       "    </tr>\n",
       "    <tr>\n",
       "      <th>349839</th>\n",
       "      <td>2</td>\n",
       "      <td>2017-10-30 21:26:00</td>\n",
       "      <td>LOSANGELES</td>\n",
       "      <td>CA</td>\n",
       "      <td>False</td>\n",
       "      <td>False</td>\n",
       "      <td>False</td>\n",
       "      <td>False</td>\n",
       "      <td>False</td>\n",
       "      <td>False</td>\n",
       "      <td>...</td>\n",
       "      <td>141.0</td>\n",
       "      <td>LAC</td>\n",
       "      <td>GSW</td>\n",
       "      <td>LOSANGELESCLIPPERS</td>\n",
       "      <td>LAC</td>\n",
       "      <td>CLIPPERS</td>\n",
       "      <td>LOSANGELES</td>\n",
       "      <td>CA</td>\n",
       "      <td>1970.0</td>\n",
       "      <td>1.00</td>\n",
       "    </tr>\n",
       "  </tbody>\n",
       "</table>\n",
       "<p>42182 rows × 49 columns</p>\n",
       "</div>"
      ],
      "text/plain": [
       "        Severity           Start_Time        City State  Amenity   Bump  \\\n",
       "40             3  2016-03-07 07:27:39   CLEVELAND    OH    False  False   \n",
       "348            2  2016-12-02 02:51:52    LOSALTOS    CA    False  False   \n",
       "384            2  2016-12-02 09:14:27    LOSGATOS    CA    False  False   \n",
       "409            2  2016-12-02 09:53:29  SACRAMENTO    CA    False  False   \n",
       "451            2  2016-12-02 12:11:01  SACRAMENTO    CA    False  False   \n",
       "...          ...                  ...         ...   ...      ...    ...   \n",
       "349821         2  2017-10-30 16:56:01      ORANGE    CA    False  False   \n",
       "349836         2  2017-10-30 21:22:15  LOSANGELES    CA    False  False   \n",
       "349837         2  2017-10-30 21:26:00  LOSANGELES    CA    False  False   \n",
       "349838         2  2017-10-30 21:24:07  LOSANGELES    CA    False  False   \n",
       "349839         2  2017-10-30 21:26:00  LOSANGELES    CA    False  False   \n",
       "\n",
       "        Crossing  Give_Way  Junction  No_Exit  ...  score2  loser  winner  \\\n",
       "40         False     False     False    False  ...   106.0    CLE     MEM   \n",
       "348        False     False     False    False  ...    80.0    LAL     TOR   \n",
       "384        False      True     False    False  ...    80.0    LAL     TOR   \n",
       "409        False     False     False    False  ...    92.0    SAC     BOS   \n",
       "451         True     False     False    False  ...    92.0    SAC     BOS   \n",
       "...          ...       ...       ...      ...  ...     ...    ...     ...   \n",
       "349821     False     False     False    False  ...   141.0    LAC     GSW   \n",
       "349836     False     False     False    False  ...   141.0    LAC     GSW   \n",
       "349837     False     False     False    False  ...   141.0    LAC     GSW   \n",
       "349838     False     False     False    False  ...   141.0    LAC     GSW   \n",
       "349839     False     False     False    False  ...   141.0    LAC     GSW   \n",
       "\n",
       "           loser_full_name  loser_abbreviation  loser_nickname  loser_city  \\\n",
       "40      CLEVELANDCAVALIERS                 CLE       CAVALIERS   CLEVELAND   \n",
       "348       LOSANGELESLAKERS                 LAL          LAKERS  LOSANGELES   \n",
       "384       LOSANGELESLAKERS                 LAL          LAKERS  LOSANGELES   \n",
       "409        SACRAMENTOKINGS                 SAC           KINGS  SACRAMENTO   \n",
       "451        SACRAMENTOKINGS                 SAC           KINGS  SACRAMENTO   \n",
       "...                    ...                 ...             ...         ...   \n",
       "349821  LOSANGELESCLIPPERS                 LAC        CLIPPERS  LOSANGELES   \n",
       "349836  LOSANGELESCLIPPERS                 LAC        CLIPPERS  LOSANGELES   \n",
       "349837  LOSANGELESCLIPPERS                 LAC        CLIPPERS  LOSANGELES   \n",
       "349838  LOSANGELESCLIPPERS                 LAC        CLIPPERS  LOSANGELES   \n",
       "349839  LOSANGELESCLIPPERS                 LAC        CLIPPERS  LOSANGELES   \n",
       "\n",
       "        loser_state loser_year_founded  similarity  \n",
       "40               OH             1970.0        1.00  \n",
       "348              CA             1948.0        0.75  \n",
       "384              CA             1948.0        0.75  \n",
       "409              CA             1948.0        1.00  \n",
       "451              CA             1948.0        1.00  \n",
       "...             ...                ...         ...  \n",
       "349821           CA             1970.0        0.75  \n",
       "349836           CA             1970.0        1.00  \n",
       "349837           CA             1970.0        1.00  \n",
       "349838           CA             1970.0        1.00  \n",
       "349839           CA             1970.0        1.00  \n",
       "\n",
       "[42182 rows x 49 columns]"
      ]
     },
     "execution_count": 177,
     "metadata": {},
     "output_type": "execute_result"
    }
   ],
   "source": [
    "matches = blocking_matches[blocking_matches['similarity'] >= 0.75].copy()\n",
    "matches"
   ]
  },
  {
   "cell_type": "code",
   "execution_count": 184,
   "id": "1a19728a",
   "metadata": {},
   "outputs": [
    {
     "data": {
      "text/plain": [
       "Start_Time\n",
       "2017-02-02 08:46:53    12\n",
       "2017-02-02 19:06:31    10\n",
       "2016-12-23 14:52:57     8\n",
       "2017-12-06 06:04:10     8\n",
       "2016-11-23 07:50:52     6\n",
       "                       ..\n",
       "2017-02-27 18:04:52     1\n",
       "2017-02-27 18:05:17     1\n",
       "2017-02-27 18:25:10     1\n",
       "2017-02-27 18:24:50     1\n",
       "2017-10-30 21:24:07     1\n",
       "Name: count, Length: 40042, dtype: int64"
      ]
     },
     "execution_count": 184,
     "metadata": {},
     "output_type": "execute_result"
    }
   ],
   "source": [
    "matches[\"Start_Time\"].value_counts()"
   ]
  },
  {
   "cell_type": "code",
   "execution_count": null,
   "id": "3c42cf88",
   "metadata": {},
   "outputs": [],
   "source": [
    "conflicts = matches[\"Start_Time\"].value_counts()\n",
    "conflicts = conflicts[conflicts >= 2]"
   ]
  },
  {
   "cell_type": "markdown",
   "id": "ec617a1c",
   "metadata": {},
   "source": [
    "All of these represent fusion conflicts."
   ]
  },
  {
   "cell_type": "code",
   "execution_count": 196,
   "id": "9fb40521",
   "metadata": {},
   "outputs": [],
   "source": [
    "for date in conflicts.index:\n",
    "    not_conflicts = matches[matches[\"Start_Time\"] == date].State.unique()\n",
    "\n",
    "    if len(not_conflicts) > 2:\n",
    "        print(date)"
   ]
  },
  {
   "cell_type": "code",
   "execution_count": 198,
   "id": "ad886b79",
   "metadata": {},
   "outputs": [
    {
     "data": {
      "text/html": [
       "<div>\n",
       "<style scoped>\n",
       "    .dataframe tbody tr th:only-of-type {\n",
       "        vertical-align: middle;\n",
       "    }\n",
       "\n",
       "    .dataframe tbody tr th {\n",
       "        vertical-align: top;\n",
       "    }\n",
       "\n",
       "    .dataframe thead th {\n",
       "        text-align: right;\n",
       "    }\n",
       "</style>\n",
       "<table border=\"1\" class=\"dataframe\">\n",
       "  <thead>\n",
       "    <tr style=\"text-align: right;\">\n",
       "      <th></th>\n",
       "      <th>Severity</th>\n",
       "      <th>Start_Time</th>\n",
       "      <th>City</th>\n",
       "      <th>State</th>\n",
       "      <th>Amenity</th>\n",
       "      <th>Bump</th>\n",
       "      <th>Crossing</th>\n",
       "      <th>Give_Way</th>\n",
       "      <th>Junction</th>\n",
       "      <th>No_Exit</th>\n",
       "      <th>...</th>\n",
       "      <th>score2</th>\n",
       "      <th>loser</th>\n",
       "      <th>winner</th>\n",
       "      <th>loser_full_name</th>\n",
       "      <th>loser_abbreviation</th>\n",
       "      <th>loser_nickname</th>\n",
       "      <th>loser_city</th>\n",
       "      <th>loser_state</th>\n",
       "      <th>loser_year_founded</th>\n",
       "      <th>similarity</th>\n",
       "    </tr>\n",
       "  </thead>\n",
       "  <tbody>\n",
       "    <tr>\n",
       "      <th>304173</th>\n",
       "      <td>3</td>\n",
       "      <td>2017-02-02 08:46:53</td>\n",
       "      <td>LOSANGELES</td>\n",
       "      <td>CA</td>\n",
       "      <td>False</td>\n",
       "      <td>False</td>\n",
       "      <td>False</td>\n",
       "      <td>False</td>\n",
       "      <td>False</td>\n",
       "      <td>False</td>\n",
       "      <td>...</td>\n",
       "      <td>108.0</td>\n",
       "      <td>LAL</td>\n",
       "      <td>WAS</td>\n",
       "      <td>LOSANGELESLAKERS</td>\n",
       "      <td>LAL</td>\n",
       "      <td>LAKERS</td>\n",
       "      <td>LOSANGELES</td>\n",
       "      <td>CA</td>\n",
       "      <td>1948.0</td>\n",
       "      <td>1.0</td>\n",
       "    </tr>\n",
       "    <tr>\n",
       "      <th>304174</th>\n",
       "      <td>3</td>\n",
       "      <td>2017-02-02 08:46:53</td>\n",
       "      <td>LOSANGELES</td>\n",
       "      <td>CA</td>\n",
       "      <td>False</td>\n",
       "      <td>False</td>\n",
       "      <td>False</td>\n",
       "      <td>False</td>\n",
       "      <td>False</td>\n",
       "      <td>False</td>\n",
       "      <td>...</td>\n",
       "      <td>133.0</td>\n",
       "      <td>LAC</td>\n",
       "      <td>GSW</td>\n",
       "      <td>LOSANGELESCLIPPERS</td>\n",
       "      <td>LAC</td>\n",
       "      <td>CLIPPERS</td>\n",
       "      <td>LOSANGELES</td>\n",
       "      <td>CA</td>\n",
       "      <td>1970.0</td>\n",
       "      <td>1.0</td>\n",
       "    </tr>\n",
       "    <tr>\n",
       "      <th>304175</th>\n",
       "      <td>3</td>\n",
       "      <td>2017-02-02 08:46:53</td>\n",
       "      <td>LOSANGELES</td>\n",
       "      <td>CA</td>\n",
       "      <td>False</td>\n",
       "      <td>False</td>\n",
       "      <td>False</td>\n",
       "      <td>False</td>\n",
       "      <td>True</td>\n",
       "      <td>False</td>\n",
       "      <td>...</td>\n",
       "      <td>108.0</td>\n",
       "      <td>LAL</td>\n",
       "      <td>WAS</td>\n",
       "      <td>LOSANGELESLAKERS</td>\n",
       "      <td>LAL</td>\n",
       "      <td>LAKERS</td>\n",
       "      <td>LOSANGELES</td>\n",
       "      <td>CA</td>\n",
       "      <td>1948.0</td>\n",
       "      <td>1.0</td>\n",
       "    </tr>\n",
       "    <tr>\n",
       "      <th>304176</th>\n",
       "      <td>3</td>\n",
       "      <td>2017-02-02 08:46:53</td>\n",
       "      <td>LOSANGELES</td>\n",
       "      <td>CA</td>\n",
       "      <td>False</td>\n",
       "      <td>False</td>\n",
       "      <td>False</td>\n",
       "      <td>False</td>\n",
       "      <td>True</td>\n",
       "      <td>False</td>\n",
       "      <td>...</td>\n",
       "      <td>133.0</td>\n",
       "      <td>LAC</td>\n",
       "      <td>GSW</td>\n",
       "      <td>LOSANGELESCLIPPERS</td>\n",
       "      <td>LAC</td>\n",
       "      <td>CLIPPERS</td>\n",
       "      <td>LOSANGELES</td>\n",
       "      <td>CA</td>\n",
       "      <td>1970.0</td>\n",
       "      <td>1.0</td>\n",
       "    </tr>\n",
       "    <tr>\n",
       "      <th>304177</th>\n",
       "      <td>3</td>\n",
       "      <td>2017-02-02 08:46:53</td>\n",
       "      <td>LOSANGELES</td>\n",
       "      <td>CA</td>\n",
       "      <td>False</td>\n",
       "      <td>False</td>\n",
       "      <td>False</td>\n",
       "      <td>False</td>\n",
       "      <td>True</td>\n",
       "      <td>False</td>\n",
       "      <td>...</td>\n",
       "      <td>108.0</td>\n",
       "      <td>LAL</td>\n",
       "      <td>WAS</td>\n",
       "      <td>LOSANGELESLAKERS</td>\n",
       "      <td>LAL</td>\n",
       "      <td>LAKERS</td>\n",
       "      <td>LOSANGELES</td>\n",
       "      <td>CA</td>\n",
       "      <td>1948.0</td>\n",
       "      <td>1.0</td>\n",
       "    </tr>\n",
       "    <tr>\n",
       "      <th>304178</th>\n",
       "      <td>3</td>\n",
       "      <td>2017-02-02 08:46:53</td>\n",
       "      <td>LOSANGELES</td>\n",
       "      <td>CA</td>\n",
       "      <td>False</td>\n",
       "      <td>False</td>\n",
       "      <td>False</td>\n",
       "      <td>False</td>\n",
       "      <td>True</td>\n",
       "      <td>False</td>\n",
       "      <td>...</td>\n",
       "      <td>133.0</td>\n",
       "      <td>LAC</td>\n",
       "      <td>GSW</td>\n",
       "      <td>LOSANGELESCLIPPERS</td>\n",
       "      <td>LAC</td>\n",
       "      <td>CLIPPERS</td>\n",
       "      <td>LOSANGELES</td>\n",
       "      <td>CA</td>\n",
       "      <td>1970.0</td>\n",
       "      <td>1.0</td>\n",
       "    </tr>\n",
       "    <tr>\n",
       "      <th>304179</th>\n",
       "      <td>3</td>\n",
       "      <td>2017-02-02 08:46:53</td>\n",
       "      <td>LOSANGELES</td>\n",
       "      <td>CA</td>\n",
       "      <td>False</td>\n",
       "      <td>False</td>\n",
       "      <td>False</td>\n",
       "      <td>False</td>\n",
       "      <td>False</td>\n",
       "      <td>False</td>\n",
       "      <td>...</td>\n",
       "      <td>108.0</td>\n",
       "      <td>LAL</td>\n",
       "      <td>WAS</td>\n",
       "      <td>LOSANGELESLAKERS</td>\n",
       "      <td>LAL</td>\n",
       "      <td>LAKERS</td>\n",
       "      <td>LOSANGELES</td>\n",
       "      <td>CA</td>\n",
       "      <td>1948.0</td>\n",
       "      <td>1.0</td>\n",
       "    </tr>\n",
       "    <tr>\n",
       "      <th>304180</th>\n",
       "      <td>3</td>\n",
       "      <td>2017-02-02 08:46:53</td>\n",
       "      <td>LOSANGELES</td>\n",
       "      <td>CA</td>\n",
       "      <td>False</td>\n",
       "      <td>False</td>\n",
       "      <td>False</td>\n",
       "      <td>False</td>\n",
       "      <td>False</td>\n",
       "      <td>False</td>\n",
       "      <td>...</td>\n",
       "      <td>133.0</td>\n",
       "      <td>LAC</td>\n",
       "      <td>GSW</td>\n",
       "      <td>LOSANGELESCLIPPERS</td>\n",
       "      <td>LAC</td>\n",
       "      <td>CLIPPERS</td>\n",
       "      <td>LOSANGELES</td>\n",
       "      <td>CA</td>\n",
       "      <td>1970.0</td>\n",
       "      <td>1.0</td>\n",
       "    </tr>\n",
       "    <tr>\n",
       "      <th>304183</th>\n",
       "      <td>3</td>\n",
       "      <td>2017-02-02 08:46:53</td>\n",
       "      <td>LOSANGELES</td>\n",
       "      <td>CA</td>\n",
       "      <td>False</td>\n",
       "      <td>False</td>\n",
       "      <td>False</td>\n",
       "      <td>False</td>\n",
       "      <td>False</td>\n",
       "      <td>False</td>\n",
       "      <td>...</td>\n",
       "      <td>108.0</td>\n",
       "      <td>LAL</td>\n",
       "      <td>WAS</td>\n",
       "      <td>LOSANGELESLAKERS</td>\n",
       "      <td>LAL</td>\n",
       "      <td>LAKERS</td>\n",
       "      <td>LOSANGELES</td>\n",
       "      <td>CA</td>\n",
       "      <td>1948.0</td>\n",
       "      <td>1.0</td>\n",
       "    </tr>\n",
       "    <tr>\n",
       "      <th>304184</th>\n",
       "      <td>3</td>\n",
       "      <td>2017-02-02 08:46:53</td>\n",
       "      <td>LOSANGELES</td>\n",
       "      <td>CA</td>\n",
       "      <td>False</td>\n",
       "      <td>False</td>\n",
       "      <td>False</td>\n",
       "      <td>False</td>\n",
       "      <td>False</td>\n",
       "      <td>False</td>\n",
       "      <td>...</td>\n",
       "      <td>133.0</td>\n",
       "      <td>LAC</td>\n",
       "      <td>GSW</td>\n",
       "      <td>LOSANGELESCLIPPERS</td>\n",
       "      <td>LAC</td>\n",
       "      <td>CLIPPERS</td>\n",
       "      <td>LOSANGELES</td>\n",
       "      <td>CA</td>\n",
       "      <td>1970.0</td>\n",
       "      <td>1.0</td>\n",
       "    </tr>\n",
       "    <tr>\n",
       "      <th>304185</th>\n",
       "      <td>3</td>\n",
       "      <td>2017-02-02 08:46:53</td>\n",
       "      <td>LOSANGELES</td>\n",
       "      <td>CA</td>\n",
       "      <td>False</td>\n",
       "      <td>False</td>\n",
       "      <td>False</td>\n",
       "      <td>False</td>\n",
       "      <td>False</td>\n",
       "      <td>False</td>\n",
       "      <td>...</td>\n",
       "      <td>108.0</td>\n",
       "      <td>LAL</td>\n",
       "      <td>WAS</td>\n",
       "      <td>LOSANGELESLAKERS</td>\n",
       "      <td>LAL</td>\n",
       "      <td>LAKERS</td>\n",
       "      <td>LOSANGELES</td>\n",
       "      <td>CA</td>\n",
       "      <td>1948.0</td>\n",
       "      <td>1.0</td>\n",
       "    </tr>\n",
       "    <tr>\n",
       "      <th>304186</th>\n",
       "      <td>3</td>\n",
       "      <td>2017-02-02 08:46:53</td>\n",
       "      <td>LOSANGELES</td>\n",
       "      <td>CA</td>\n",
       "      <td>False</td>\n",
       "      <td>False</td>\n",
       "      <td>False</td>\n",
       "      <td>False</td>\n",
       "      <td>False</td>\n",
       "      <td>False</td>\n",
       "      <td>...</td>\n",
       "      <td>133.0</td>\n",
       "      <td>LAC</td>\n",
       "      <td>GSW</td>\n",
       "      <td>LOSANGELESCLIPPERS</td>\n",
       "      <td>LAC</td>\n",
       "      <td>CLIPPERS</td>\n",
       "      <td>LOSANGELES</td>\n",
       "      <td>CA</td>\n",
       "      <td>1970.0</td>\n",
       "      <td>1.0</td>\n",
       "    </tr>\n",
       "  </tbody>\n",
       "</table>\n",
       "<p>12 rows × 49 columns</p>\n",
       "</div>"
      ],
      "text/plain": [
       "        Severity           Start_Time        City State  Amenity   Bump  \\\n",
       "304173         3  2017-02-02 08:46:53  LOSANGELES    CA    False  False   \n",
       "304174         3  2017-02-02 08:46:53  LOSANGELES    CA    False  False   \n",
       "304175         3  2017-02-02 08:46:53  LOSANGELES    CA    False  False   \n",
       "304176         3  2017-02-02 08:46:53  LOSANGELES    CA    False  False   \n",
       "304177         3  2017-02-02 08:46:53  LOSANGELES    CA    False  False   \n",
       "304178         3  2017-02-02 08:46:53  LOSANGELES    CA    False  False   \n",
       "304179         3  2017-02-02 08:46:53  LOSANGELES    CA    False  False   \n",
       "304180         3  2017-02-02 08:46:53  LOSANGELES    CA    False  False   \n",
       "304183         3  2017-02-02 08:46:53  LOSANGELES    CA    False  False   \n",
       "304184         3  2017-02-02 08:46:53  LOSANGELES    CA    False  False   \n",
       "304185         3  2017-02-02 08:46:53  LOSANGELES    CA    False  False   \n",
       "304186         3  2017-02-02 08:46:53  LOSANGELES    CA    False  False   \n",
       "\n",
       "        Crossing  Give_Way  Junction  No_Exit  ...  score2  loser  winner  \\\n",
       "304173     False     False     False    False  ...   108.0    LAL     WAS   \n",
       "304174     False     False     False    False  ...   133.0    LAC     GSW   \n",
       "304175     False     False      True    False  ...   108.0    LAL     WAS   \n",
       "304176     False     False      True    False  ...   133.0    LAC     GSW   \n",
       "304177     False     False      True    False  ...   108.0    LAL     WAS   \n",
       "304178     False     False      True    False  ...   133.0    LAC     GSW   \n",
       "304179     False     False     False    False  ...   108.0    LAL     WAS   \n",
       "304180     False     False     False    False  ...   133.0    LAC     GSW   \n",
       "304183     False     False     False    False  ...   108.0    LAL     WAS   \n",
       "304184     False     False     False    False  ...   133.0    LAC     GSW   \n",
       "304185     False     False     False    False  ...   108.0    LAL     WAS   \n",
       "304186     False     False     False    False  ...   133.0    LAC     GSW   \n",
       "\n",
       "           loser_full_name  loser_abbreviation  loser_nickname  loser_city  \\\n",
       "304173    LOSANGELESLAKERS                 LAL          LAKERS  LOSANGELES   \n",
       "304174  LOSANGELESCLIPPERS                 LAC        CLIPPERS  LOSANGELES   \n",
       "304175    LOSANGELESLAKERS                 LAL          LAKERS  LOSANGELES   \n",
       "304176  LOSANGELESCLIPPERS                 LAC        CLIPPERS  LOSANGELES   \n",
       "304177    LOSANGELESLAKERS                 LAL          LAKERS  LOSANGELES   \n",
       "304178  LOSANGELESCLIPPERS                 LAC        CLIPPERS  LOSANGELES   \n",
       "304179    LOSANGELESLAKERS                 LAL          LAKERS  LOSANGELES   \n",
       "304180  LOSANGELESCLIPPERS                 LAC        CLIPPERS  LOSANGELES   \n",
       "304183    LOSANGELESLAKERS                 LAL          LAKERS  LOSANGELES   \n",
       "304184  LOSANGELESCLIPPERS                 LAC        CLIPPERS  LOSANGELES   \n",
       "304185    LOSANGELESLAKERS                 LAL          LAKERS  LOSANGELES   \n",
       "304186  LOSANGELESCLIPPERS                 LAC        CLIPPERS  LOSANGELES   \n",
       "\n",
       "        loser_state loser_year_founded  similarity  \n",
       "304173           CA             1948.0         1.0  \n",
       "304174           CA             1970.0         1.0  \n",
       "304175           CA             1948.0         1.0  \n",
       "304176           CA             1970.0         1.0  \n",
       "304177           CA             1948.0         1.0  \n",
       "304178           CA             1970.0         1.0  \n",
       "304179           CA             1948.0         1.0  \n",
       "304180           CA             1970.0         1.0  \n",
       "304183           CA             1948.0         1.0  \n",
       "304184           CA             1970.0         1.0  \n",
       "304185           CA             1948.0         1.0  \n",
       "304186           CA             1970.0         1.0  \n",
       "\n",
       "[12 rows x 49 columns]"
      ]
     },
     "execution_count": 198,
     "metadata": {},
     "output_type": "execute_result"
    }
   ],
   "source": [
    "matches[ matches[\"Start_Time\"] == \"2017-02-02 08:46:53\" ]"
   ]
  },
  {
   "cell_type": "code",
   "execution_count": 82,
   "id": "c22ce85e",
   "metadata": {},
   "outputs": [],
   "source": [
    "us_accidents['date'] = pd.to_datetime(us_accidents['date'])\n",
    "merged['date'] = pd.to_datetime(merged['date'])"
   ]
  },
  {
   "cell_type": "code",
   "execution_count": 83,
   "id": "6a5ae899",
   "metadata": {},
   "outputs": [
    {
     "data": {
      "text/plain": [
       "Index(['index', 'date', 'season', 'neutral', 'playoff', 'team1', 'team2',\n",
       "       'elo1_pre', 'elo2_pre', 'elo_prob1', 'elo_prob2', 'elo1_post',\n",
       "       'elo2_post', 'carmelo1_pre', 'carmelo2_pre', 'carmelo1_post',\n",
       "       'carmelo2_post', 'carmelo_prob1', 'carmelo_prob2', 'score1', 'score2',\n",
       "       'loser', 'winner', 'loser_full_name', 'loser_nickname', 'loser_city',\n",
       "       'State', 'loser_year_founded', 'winner_full_name', 'winner_nickname',\n",
       "       'winner_city', 'winner_state', 'winner_year_founded', 'Severity',\n",
       "       'City', 'Amenity', 'Bump', 'Crossing', 'Give_Way', 'Junction',\n",
       "       'No_Exit', 'Railway', 'Roundabout', 'Station', 'Stop',\n",
       "       'Traffic_Calming', 'Traffic_Signal', 'Start_Lat', 'Start_Lng'],\n",
       "      dtype='object')"
      ]
     },
     "execution_count": 83,
     "metadata": {},
     "output_type": "execute_result"
    }
   ],
   "source": [
    "# NBA_Team: [[\"abbreviation\", \"state\", \"city\"]]\n",
    "# NBA_Game: [[\"date\", \"playoff\", \"team1\", \"team2\", \"score1\", \"score2\"]]\n",
    "# Location: [[\"city\", \"state\", \"zipcode\", \"latitude\", \"longitude\"]]\n",
    "# Accident:\n",
    "# Road_Conditions:\n",
    "\n",
    "# NBA_Team -> NBA_Game -> Location\n",
    "accidents_nba = pd.merge(\n",
    "    merged,\n",
    "    us_accidents,\n",
    "    left_on=['State', 'date'],\n",
    "    right_on=['State', 'date'],\n",
    "    how='inner'\n",
    ")\n",
    "accidents_nba.columns"
   ]
  },
  {
   "cell_type": "code",
   "execution_count": 84,
   "id": "b6e302be",
   "metadata": {},
   "outputs": [],
   "source": [
    "del accidents_nba[\"index\"]"
   ]
  },
  {
   "cell_type": "code",
   "execution_count": 85,
   "id": "4b81dfb5",
   "metadata": {},
   "outputs": [],
   "source": [
    "game_dates = accidents_nba.date.dt.year.unique()"
   ]
  },
  {
   "cell_type": "code",
   "execution_count": 86,
   "id": "b77e1f74",
   "metadata": {},
   "outputs": [],
   "source": [
    "us_accidents_no_game = us_accidents[~us_accidents['date'].isin(game_dates)]"
   ]
  },
  {
   "cell_type": "code",
   "execution_count": 87,
   "id": "0ea6eaea",
   "metadata": {},
   "outputs": [
    {
     "data": {
      "text/plain": [
       "array(['2016', '2017', '2018'], dtype=object)"
      ]
     },
     "execution_count": 87,
     "metadata": {},
     "output_type": "execute_result"
    }
   ],
   "source": [
    "accidents_nba.date.values\n",
    "list(map(lambda x: str(x).split(\"-\")[0], accidents_nba.date.values))\n",
    "pd.Series(list(map(lambda x: str(x).split(\"-\")[0], accidents_nba.date.values))).unique()"
   ]
  },
  {
   "cell_type": "code",
   "execution_count": 88,
   "id": "9338307c",
   "metadata": {},
   "outputs": [],
   "source": [
    "us_accidents_no_game = us_accidents_no_game[us_accidents_no_game[\"date\"].dt.year.isin([2016, 2017, 2018])]"
   ]
  },
  {
   "cell_type": "code",
   "execution_count": 91,
   "id": "ee95e845",
   "metadata": {},
   "outputs": [],
   "source": [
    "accidents_nba_playoffs = accidents_nba.query(\"playoff == True\")"
   ]
  },
  {
   "cell_type": "code",
   "execution_count": 92,
   "id": "54f7a26b",
   "metadata": {},
   "outputs": [
    {
     "name": "stdout",
     "output_type": "stream",
     "text": [
      "Number of accidents in no NBA game days: 2012663\n",
      "Number of accidents in NBA game days: 326386\n",
      "Number of accidents in NBA game days: 13936\n"
     ]
    }
   ],
   "source": [
    "print(\"Number of accidents in no NBA game days: {0}\".format(us_accidents_no_game.shape[0]))\n",
    "print(\"Number of accidents in NBA game days: {0}\".format(accidents_nba.shape[0]))\n",
    "print(\"Number of accidents in NBA game days: {0}\".format(accidents_nba_playoffs.shape[0]))"
   ]
  },
  {
   "cell_type": "code",
   "execution_count": 21,
   "id": "deee6f8f",
   "metadata": {},
   "outputs": [
    {
     "data": {
      "text/html": [
       "<div>\n",
       "<style scoped>\n",
       "    .dataframe tbody tr th:only-of-type {\n",
       "        vertical-align: middle;\n",
       "    }\n",
       "\n",
       "    .dataframe tbody tr th {\n",
       "        vertical-align: top;\n",
       "    }\n",
       "\n",
       "    .dataframe thead th {\n",
       "        text-align: right;\n",
       "    }\n",
       "</style>\n",
       "<table border=\"1\" class=\"dataframe\">\n",
       "  <thead>\n",
       "    <tr style=\"text-align: right;\">\n",
       "      <th></th>\n",
       "      <th>date</th>\n",
       "      <th>State</th>\n",
       "      <th>accident_count</th>\n",
       "    </tr>\n",
       "  </thead>\n",
       "  <tbody>\n",
       "    <tr>\n",
       "      <th>0</th>\n",
       "      <td>2016-01-14</td>\n",
       "      <td>PA</td>\n",
       "      <td>1</td>\n",
       "    </tr>\n",
       "    <tr>\n",
       "      <th>1</th>\n",
       "      <td>2016-02-10</td>\n",
       "      <td>PA</td>\n",
       "      <td>3</td>\n",
       "    </tr>\n",
       "    <tr>\n",
       "      <th>2</th>\n",
       "      <td>2016-02-22</td>\n",
       "      <td>IN</td>\n",
       "      <td>2</td>\n",
       "    </tr>\n",
       "    <tr>\n",
       "      <th>3</th>\n",
       "      <td>2016-02-22</td>\n",
       "      <td>OH</td>\n",
       "      <td>48</td>\n",
       "    </tr>\n",
       "    <tr>\n",
       "      <th>4</th>\n",
       "      <td>2016-02-23</td>\n",
       "      <td>PA</td>\n",
       "      <td>2</td>\n",
       "    </tr>\n",
       "    <tr>\n",
       "      <th>...</th>\n",
       "      <td>...</td>\n",
       "      <td>...</td>\n",
       "      <td>...</td>\n",
       "    </tr>\n",
       "    <tr>\n",
       "      <th>1794</th>\n",
       "      <td>2018-04-11</td>\n",
       "      <td>OH</td>\n",
       "      <td>71</td>\n",
       "    </tr>\n",
       "    <tr>\n",
       "      <th>1795</th>\n",
       "      <td>2018-04-11</td>\n",
       "      <td>TN</td>\n",
       "      <td>92</td>\n",
       "    </tr>\n",
       "    <tr>\n",
       "      <th>1796</th>\n",
       "      <td>2018-04-11</td>\n",
       "      <td>TX</td>\n",
       "      <td>666</td>\n",
       "    </tr>\n",
       "    <tr>\n",
       "      <th>1797</th>\n",
       "      <td>2018-04-11</td>\n",
       "      <td>UT</td>\n",
       "      <td>16</td>\n",
       "    </tr>\n",
       "    <tr>\n",
       "      <th>1798</th>\n",
       "      <td>2018-04-11</td>\n",
       "      <td>WI</td>\n",
       "      <td>13</td>\n",
       "    </tr>\n",
       "  </tbody>\n",
       "</table>\n",
       "<p>1799 rows × 3 columns</p>\n",
       "</div>"
      ],
      "text/plain": [
       "           date State  accident_count\n",
       "0    2016-01-14    PA               1\n",
       "1    2016-02-10    PA               3\n",
       "2    2016-02-22    IN               2\n",
       "3    2016-02-22    OH              48\n",
       "4    2016-02-23    PA               2\n",
       "...         ...   ...             ...\n",
       "1794 2018-04-11    OH              71\n",
       "1795 2018-04-11    TN              92\n",
       "1796 2018-04-11    TX             666\n",
       "1797 2018-04-11    UT              16\n",
       "1798 2018-04-11    WI              13\n",
       "\n",
       "[1799 rows x 3 columns]"
      ]
     },
     "execution_count": 21,
     "metadata": {},
     "output_type": "execute_result"
    }
   ],
   "source": [
    "accidents_by_day = accidents_nba.groupby(['date', 'State']).size().reset_index(name='accident_count')\n",
    "accidents_by_day"
   ]
  },
  {
   "cell_type": "code",
   "execution_count": 22,
   "id": "a73f3d45",
   "metadata": {},
   "outputs": [
    {
     "data": {
      "text/plain": [
       "array(['PA', 'IN', 'OH', 'CA', 'NY', 'MA', 'MI', 'UT', 'FL', 'LA', 'MN',\n",
       "       'TX', 'OR', 'CO', 'TN', 'WI', 'IL', 'OK', 'MT'], dtype=object)"
      ]
     },
     "execution_count": 22,
     "metadata": {},
     "output_type": "execute_result"
    }
   ],
   "source": [
    "accidents_by_day.State.unique()"
   ]
  },
  {
   "cell_type": "code",
   "execution_count": 93,
   "id": "7b9e7072",
   "metadata": {},
   "outputs": [
    {
     "data": {
      "text/html": [
       "<div>\n",
       "<style scoped>\n",
       "    .dataframe tbody tr th:only-of-type {\n",
       "        vertical-align: middle;\n",
       "    }\n",
       "\n",
       "    .dataframe tbody tr th {\n",
       "        vertical-align: top;\n",
       "    }\n",
       "\n",
       "    .dataframe thead th {\n",
       "        text-align: right;\n",
       "    }\n",
       "</style>\n",
       "<table border=\"1\" class=\"dataframe\">\n",
       "  <thead>\n",
       "    <tr style=\"text-align: right;\">\n",
       "      <th></th>\n",
       "      <th>date</th>\n",
       "      <th>State</th>\n",
       "      <th>accident_count</th>\n",
       "    </tr>\n",
       "  </thead>\n",
       "  <tbody>\n",
       "    <tr>\n",
       "      <th>0</th>\n",
       "      <td>2016-04-18</td>\n",
       "      <td>IN</td>\n",
       "      <td>2</td>\n",
       "    </tr>\n",
       "    <tr>\n",
       "      <th>1</th>\n",
       "      <td>2016-04-19</td>\n",
       "      <td>MA</td>\n",
       "      <td>1</td>\n",
       "    </tr>\n",
       "    <tr>\n",
       "      <th>2</th>\n",
       "      <td>2016-04-21</td>\n",
       "      <td>CA</td>\n",
       "      <td>672</td>\n",
       "    </tr>\n",
       "    <tr>\n",
       "      <th>3</th>\n",
       "      <td>2016-04-21</td>\n",
       "      <td>IN</td>\n",
       "      <td>2</td>\n",
       "    </tr>\n",
       "    <tr>\n",
       "      <th>4</th>\n",
       "      <td>2016-04-22</td>\n",
       "      <td>MI</td>\n",
       "      <td>1</td>\n",
       "    </tr>\n",
       "    <tr>\n",
       "      <th>...</th>\n",
       "      <td>...</td>\n",
       "      <td>...</td>\n",
       "      <td>...</td>\n",
       "    </tr>\n",
       "    <tr>\n",
       "      <th>84</th>\n",
       "      <td>2017-06-01</td>\n",
       "      <td>OH</td>\n",
       "      <td>33</td>\n",
       "    </tr>\n",
       "    <tr>\n",
       "      <th>85</th>\n",
       "      <td>2017-06-04</td>\n",
       "      <td>OH</td>\n",
       "      <td>13</td>\n",
       "    </tr>\n",
       "    <tr>\n",
       "      <th>86</th>\n",
       "      <td>2017-06-07</td>\n",
       "      <td>OH</td>\n",
       "      <td>31</td>\n",
       "    </tr>\n",
       "    <tr>\n",
       "      <th>87</th>\n",
       "      <td>2017-06-09</td>\n",
       "      <td>CA</td>\n",
       "      <td>508</td>\n",
       "    </tr>\n",
       "    <tr>\n",
       "      <th>88</th>\n",
       "      <td>2017-06-12</td>\n",
       "      <td>OH</td>\n",
       "      <td>21</td>\n",
       "    </tr>\n",
       "  </tbody>\n",
       "</table>\n",
       "<p>89 rows × 3 columns</p>\n",
       "</div>"
      ],
      "text/plain": [
       "         date State  accident_count\n",
       "0  2016-04-18    IN               2\n",
       "1  2016-04-19    MA               1\n",
       "2  2016-04-21    CA             672\n",
       "3  2016-04-21    IN               2\n",
       "4  2016-04-22    MI               1\n",
       "..        ...   ...             ...\n",
       "84 2017-06-01    OH              33\n",
       "85 2017-06-04    OH              13\n",
       "86 2017-06-07    OH              31\n",
       "87 2017-06-09    CA             508\n",
       "88 2017-06-12    OH              21\n",
       "\n",
       "[89 rows x 3 columns]"
      ]
     },
     "execution_count": 93,
     "metadata": {},
     "output_type": "execute_result"
    }
   ],
   "source": [
    "accidents_by_day_playoffs = accidents_nba_playoffs.groupby(['date', 'State']).size().reset_index(name='accident_count')\n",
    "accidents_by_day_playoffs"
   ]
  },
  {
   "cell_type": "code",
   "execution_count": 23,
   "id": "f9ea8f99",
   "metadata": {},
   "outputs": [
    {
     "data": {
      "text/html": [
       "<div>\n",
       "<style scoped>\n",
       "    .dataframe tbody tr th:only-of-type {\n",
       "        vertical-align: middle;\n",
       "    }\n",
       "\n",
       "    .dataframe tbody tr th {\n",
       "        vertical-align: top;\n",
       "    }\n",
       "\n",
       "    .dataframe thead th {\n",
       "        text-align: right;\n",
       "    }\n",
       "</style>\n",
       "<table border=\"1\" class=\"dataframe\">\n",
       "  <thead>\n",
       "    <tr style=\"text-align: right;\">\n",
       "      <th></th>\n",
       "      <th>date</th>\n",
       "      <th>State</th>\n",
       "      <th>accident_count</th>\n",
       "    </tr>\n",
       "  </thead>\n",
       "  <tbody>\n",
       "    <tr>\n",
       "      <th>0</th>\n",
       "      <td>2016-01-14</td>\n",
       "      <td>PA</td>\n",
       "      <td>1</td>\n",
       "    </tr>\n",
       "    <tr>\n",
       "      <th>1</th>\n",
       "      <td>2016-02-08</td>\n",
       "      <td>IN</td>\n",
       "      <td>1</td>\n",
       "    </tr>\n",
       "    <tr>\n",
       "      <th>2</th>\n",
       "      <td>2016-02-08</td>\n",
       "      <td>KY</td>\n",
       "      <td>1</td>\n",
       "    </tr>\n",
       "    <tr>\n",
       "      <th>3</th>\n",
       "      <td>2016-02-08</td>\n",
       "      <td>OH</td>\n",
       "      <td>58</td>\n",
       "    </tr>\n",
       "    <tr>\n",
       "      <th>4</th>\n",
       "      <td>2016-02-09</td>\n",
       "      <td>IN</td>\n",
       "      <td>10</td>\n",
       "    </tr>\n",
       "    <tr>\n",
       "      <th>...</th>\n",
       "      <td>...</td>\n",
       "      <td>...</td>\n",
       "      <td>...</td>\n",
       "    </tr>\n",
       "    <tr>\n",
       "      <th>37613</th>\n",
       "      <td>2018-12-31</td>\n",
       "      <td>TX</td>\n",
       "      <td>260</td>\n",
       "    </tr>\n",
       "    <tr>\n",
       "      <th>37614</th>\n",
       "      <td>2018-12-31</td>\n",
       "      <td>UT</td>\n",
       "      <td>55</td>\n",
       "    </tr>\n",
       "    <tr>\n",
       "      <th>37615</th>\n",
       "      <td>2018-12-31</td>\n",
       "      <td>VA</td>\n",
       "      <td>105</td>\n",
       "    </tr>\n",
       "    <tr>\n",
       "      <th>37616</th>\n",
       "      <td>2018-12-31</td>\n",
       "      <td>WA</td>\n",
       "      <td>38</td>\n",
       "    </tr>\n",
       "    <tr>\n",
       "      <th>37617</th>\n",
       "      <td>2018-12-31</td>\n",
       "      <td>WI</td>\n",
       "      <td>29</td>\n",
       "    </tr>\n",
       "  </tbody>\n",
       "</table>\n",
       "<p>37618 rows × 3 columns</p>\n",
       "</div>"
      ],
      "text/plain": [
       "            date State  accident_count\n",
       "0     2016-01-14    PA               1\n",
       "1     2016-02-08    IN               1\n",
       "2     2016-02-08    KY               1\n",
       "3     2016-02-08    OH              58\n",
       "4     2016-02-09    IN              10\n",
       "...          ...   ...             ...\n",
       "37613 2018-12-31    TX             260\n",
       "37614 2018-12-31    UT              55\n",
       "37615 2018-12-31    VA             105\n",
       "37616 2018-12-31    WA              38\n",
       "37617 2018-12-31    WI              29\n",
       "\n",
       "[37618 rows x 3 columns]"
      ]
     },
     "execution_count": 23,
     "metadata": {},
     "output_type": "execute_result"
    }
   ],
   "source": [
    "accidents_by_no_game_day = us_accidents_no_game.groupby(['date', 'State']).size().reset_index(name='accident_count')\n",
    "accidents_by_no_game_day"
   ]
  },
  {
   "cell_type": "code",
   "execution_count": 24,
   "id": "b87c3b21",
   "metadata": {},
   "outputs": [
    {
     "data": {
      "text/html": [
       "<div>\n",
       "<style scoped>\n",
       "    .dataframe tbody tr th:only-of-type {\n",
       "        vertical-align: middle;\n",
       "    }\n",
       "\n",
       "    .dataframe tbody tr th {\n",
       "        vertical-align: top;\n",
       "    }\n",
       "\n",
       "    .dataframe thead th {\n",
       "        text-align: right;\n",
       "    }\n",
       "</style>\n",
       "<table border=\"1\" class=\"dataframe\">\n",
       "  <thead>\n",
       "    <tr style=\"text-align: right;\">\n",
       "      <th></th>\n",
       "      <th>date</th>\n",
       "      <th>State</th>\n",
       "      <th>accident_count</th>\n",
       "    </tr>\n",
       "  </thead>\n",
       "  <tbody>\n",
       "    <tr>\n",
       "      <th>0</th>\n",
       "      <td>2016-01-14</td>\n",
       "      <td>PA</td>\n",
       "      <td>1</td>\n",
       "    </tr>\n",
       "    <tr>\n",
       "      <th>1</th>\n",
       "      <td>2016-02-08</td>\n",
       "      <td>IN</td>\n",
       "      <td>1</td>\n",
       "    </tr>\n",
       "    <tr>\n",
       "      <th>3</th>\n",
       "      <td>2016-02-08</td>\n",
       "      <td>OH</td>\n",
       "      <td>58</td>\n",
       "    </tr>\n",
       "    <tr>\n",
       "      <th>4</th>\n",
       "      <td>2016-02-09</td>\n",
       "      <td>IN</td>\n",
       "      <td>10</td>\n",
       "    </tr>\n",
       "    <tr>\n",
       "      <th>5</th>\n",
       "      <td>2016-02-09</td>\n",
       "      <td>MI</td>\n",
       "      <td>2</td>\n",
       "    </tr>\n",
       "    <tr>\n",
       "      <th>...</th>\n",
       "      <td>...</td>\n",
       "      <td>...</td>\n",
       "      <td>...</td>\n",
       "    </tr>\n",
       "    <tr>\n",
       "      <th>37608</th>\n",
       "      <td>2018-12-31</td>\n",
       "      <td>PA</td>\n",
       "      <td>70</td>\n",
       "    </tr>\n",
       "    <tr>\n",
       "      <th>37612</th>\n",
       "      <td>2018-12-31</td>\n",
       "      <td>TN</td>\n",
       "      <td>41</td>\n",
       "    </tr>\n",
       "    <tr>\n",
       "      <th>37613</th>\n",
       "      <td>2018-12-31</td>\n",
       "      <td>TX</td>\n",
       "      <td>260</td>\n",
       "    </tr>\n",
       "    <tr>\n",
       "      <th>37614</th>\n",
       "      <td>2018-12-31</td>\n",
       "      <td>UT</td>\n",
       "      <td>55</td>\n",
       "    </tr>\n",
       "    <tr>\n",
       "      <th>37617</th>\n",
       "      <td>2018-12-31</td>\n",
       "      <td>WI</td>\n",
       "      <td>29</td>\n",
       "    </tr>\n",
       "  </tbody>\n",
       "</table>\n",
       "<p>16723 rows × 3 columns</p>\n",
       "</div>"
      ],
      "text/plain": [
       "            date State  accident_count\n",
       "0     2016-01-14    PA               1\n",
       "1     2016-02-08    IN               1\n",
       "3     2016-02-08    OH              58\n",
       "4     2016-02-09    IN              10\n",
       "5     2016-02-09    MI               2\n",
       "...          ...   ...             ...\n",
       "37608 2018-12-31    PA              70\n",
       "37612 2018-12-31    TN              41\n",
       "37613 2018-12-31    TX             260\n",
       "37614 2018-12-31    UT              55\n",
       "37617 2018-12-31    WI              29\n",
       "\n",
       "[16723 rows x 3 columns]"
      ]
     },
     "execution_count": 24,
     "metadata": {},
     "output_type": "execute_result"
    }
   ],
   "source": [
    "accidents_by_no_game_day = accidents_by_no_game_day[accidents_by_no_game_day[\"State\"].isin(accidents_by_day.State.unique())]\n",
    "accidents_by_no_game_day"
   ]
  },
  {
   "cell_type": "code",
   "execution_count": 25,
   "id": "4136015b",
   "metadata": {},
   "outputs": [
    {
     "data": {
      "text/html": [
       "<div>\n",
       "<style scoped>\n",
       "    .dataframe tbody tr th:only-of-type {\n",
       "        vertical-align: middle;\n",
       "    }\n",
       "\n",
       "    .dataframe tbody tr th {\n",
       "        vertical-align: top;\n",
       "    }\n",
       "\n",
       "    .dataframe thead th {\n",
       "        text-align: right;\n",
       "    }\n",
       "</style>\n",
       "<table border=\"1\" class=\"dataframe\">\n",
       "  <thead>\n",
       "    <tr style=\"text-align: right;\">\n",
       "      <th></th>\n",
       "      <th>date</th>\n",
       "      <th>State</th>\n",
       "      <th>accident_count</th>\n",
       "    </tr>\n",
       "  </thead>\n",
       "  <tbody>\n",
       "    <tr>\n",
       "      <th>0</th>\n",
       "      <td>2016-01-14</td>\n",
       "      <td>PA</td>\n",
       "      <td>1</td>\n",
       "    </tr>\n",
       "    <tr>\n",
       "      <th>1</th>\n",
       "      <td>2016-02-08</td>\n",
       "      <td>IN</td>\n",
       "      <td>1</td>\n",
       "    </tr>\n",
       "    <tr>\n",
       "      <th>3</th>\n",
       "      <td>2016-02-08</td>\n",
       "      <td>OH</td>\n",
       "      <td>58</td>\n",
       "    </tr>\n",
       "    <tr>\n",
       "      <th>4</th>\n",
       "      <td>2016-02-09</td>\n",
       "      <td>IN</td>\n",
       "      <td>10</td>\n",
       "    </tr>\n",
       "    <tr>\n",
       "      <th>5</th>\n",
       "      <td>2016-02-09</td>\n",
       "      <td>MI</td>\n",
       "      <td>2</td>\n",
       "    </tr>\n",
       "    <tr>\n",
       "      <th>...</th>\n",
       "      <td>...</td>\n",
       "      <td>...</td>\n",
       "      <td>...</td>\n",
       "    </tr>\n",
       "    <tr>\n",
       "      <th>37608</th>\n",
       "      <td>2018-12-31</td>\n",
       "      <td>PA</td>\n",
       "      <td>70</td>\n",
       "    </tr>\n",
       "    <tr>\n",
       "      <th>37612</th>\n",
       "      <td>2018-12-31</td>\n",
       "      <td>TN</td>\n",
       "      <td>41</td>\n",
       "    </tr>\n",
       "    <tr>\n",
       "      <th>37613</th>\n",
       "      <td>2018-12-31</td>\n",
       "      <td>TX</td>\n",
       "      <td>260</td>\n",
       "    </tr>\n",
       "    <tr>\n",
       "      <th>37614</th>\n",
       "      <td>2018-12-31</td>\n",
       "      <td>UT</td>\n",
       "      <td>55</td>\n",
       "    </tr>\n",
       "    <tr>\n",
       "      <th>37617</th>\n",
       "      <td>2018-12-31</td>\n",
       "      <td>WI</td>\n",
       "      <td>29</td>\n",
       "    </tr>\n",
       "  </tbody>\n",
       "</table>\n",
       "<p>11947 rows × 3 columns</p>\n",
       "</div>"
      ],
      "text/plain": [
       "            date State  accident_count\n",
       "0     2016-01-14    PA               1\n",
       "1     2016-02-08    IN               1\n",
       "3     2016-02-08    OH              58\n",
       "4     2016-02-09    IN              10\n",
       "5     2016-02-09    MI               2\n",
       "...          ...   ...             ...\n",
       "37608 2018-12-31    PA              70\n",
       "37612 2018-12-31    TN              41\n",
       "37613 2018-12-31    TX             260\n",
       "37614 2018-12-31    UT              55\n",
       "37617 2018-12-31    WI              29\n",
       "\n",
       "[11947 rows x 3 columns]"
      ]
     },
     "execution_count": 25,
     "metadata": {},
     "output_type": "execute_result"
    }
   ],
   "source": [
    "accidents_by_no_game_day = accidents_by_no_game_day[~accidents_by_no_game_day.date.dt.month.isin([7, 8, 9])]\n",
    "accidents_by_no_game_day"
   ]
  },
  {
   "cell_type": "markdown",
   "id": "b4b841f3",
   "metadata": {},
   "source": [
    "# Analysis of the data"
   ]
  },
  {
   "cell_type": "code",
   "execution_count": 94,
   "id": "694bad1b",
   "metadata": {},
   "outputs": [],
   "source": [
    "avg_accidents_per_no_game_day = accidents_by_no_game_day.accident_count.sum() / accidents_by_no_game_day.shape[0]\n",
    "avg_accidents_per_game_day= accidents_by_day.accident_count.sum() / accidents_by_day.shape[0]\n",
    "avg_accidents_per_playoff_day= accidents_by_day_playoffs.accident_count.sum() / accidents_by_day_playoffs.shape[0]"
   ]
  },
  {
   "cell_type": "code",
   "execution_count": 95,
   "id": "1c927293",
   "metadata": {},
   "outputs": [
    {
     "name": "stdout",
     "output_type": "stream",
     "text": [
      "Average accidents on non NBA game days: 85.711\n",
      "Average accidents on NBA game loss days: 181.426\n",
      "Average accidents on NBA playoff game loss days: 156.584\n"
     ]
    }
   ],
   "source": [
    "print(\"Average accidents on non NBA game days: {0:.3f}\".format(avg_accidents_per_no_game_day))\n",
    "print(\"Average accidents on NBA game loss days: {0:.3f}\".format(avg_accidents_per_game_day))\n",
    "print(\"Average accidents on NBA playoff game loss days: {0:.3f}\".format(avg_accidents_per_playoff_day))"
   ]
  },
  {
   "cell_type": "code",
   "execution_count": 28,
   "id": "cf829924",
   "metadata": {},
   "outputs": [
    {
     "data": {
      "text/html": [
       "<div>\n",
       "<style scoped>\n",
       "    .dataframe tbody tr th:only-of-type {\n",
       "        vertical-align: middle;\n",
       "    }\n",
       "\n",
       "    .dataframe tbody tr th {\n",
       "        vertical-align: top;\n",
       "    }\n",
       "\n",
       "    .dataframe thead th {\n",
       "        text-align: right;\n",
       "    }\n",
       "</style>\n",
       "<table border=\"1\" class=\"dataframe\">\n",
       "  <thead>\n",
       "    <tr style=\"text-align: right;\">\n",
       "      <th></th>\n",
       "      <th>date</th>\n",
       "      <th>State</th>\n",
       "      <th>accident_count</th>\n",
       "    </tr>\n",
       "  </thead>\n",
       "  <tbody>\n",
       "    <tr>\n",
       "      <th>0</th>\n",
       "      <td>2016-01-14</td>\n",
       "      <td>PA</td>\n",
       "      <td>1</td>\n",
       "    </tr>\n",
       "    <tr>\n",
       "      <th>1</th>\n",
       "      <td>2016-02-10</td>\n",
       "      <td>PA</td>\n",
       "      <td>3</td>\n",
       "    </tr>\n",
       "    <tr>\n",
       "      <th>2</th>\n",
       "      <td>2016-02-22</td>\n",
       "      <td>IN</td>\n",
       "      <td>2</td>\n",
       "    </tr>\n",
       "    <tr>\n",
       "      <th>3</th>\n",
       "      <td>2016-02-22</td>\n",
       "      <td>OH</td>\n",
       "      <td>48</td>\n",
       "    </tr>\n",
       "    <tr>\n",
       "      <th>4</th>\n",
       "      <td>2016-02-23</td>\n",
       "      <td>PA</td>\n",
       "      <td>2</td>\n",
       "    </tr>\n",
       "    <tr>\n",
       "      <th>...</th>\n",
       "      <td>...</td>\n",
       "      <td>...</td>\n",
       "      <td>...</td>\n",
       "    </tr>\n",
       "    <tr>\n",
       "      <th>1794</th>\n",
       "      <td>2018-04-11</td>\n",
       "      <td>OH</td>\n",
       "      <td>71</td>\n",
       "    </tr>\n",
       "    <tr>\n",
       "      <th>1795</th>\n",
       "      <td>2018-04-11</td>\n",
       "      <td>TN</td>\n",
       "      <td>92</td>\n",
       "    </tr>\n",
       "    <tr>\n",
       "      <th>1796</th>\n",
       "      <td>2018-04-11</td>\n",
       "      <td>TX</td>\n",
       "      <td>666</td>\n",
       "    </tr>\n",
       "    <tr>\n",
       "      <th>1797</th>\n",
       "      <td>2018-04-11</td>\n",
       "      <td>UT</td>\n",
       "      <td>16</td>\n",
       "    </tr>\n",
       "    <tr>\n",
       "      <th>1798</th>\n",
       "      <td>2018-04-11</td>\n",
       "      <td>WI</td>\n",
       "      <td>13</td>\n",
       "    </tr>\n",
       "  </tbody>\n",
       "</table>\n",
       "<p>1799 rows × 3 columns</p>\n",
       "</div>"
      ],
      "text/plain": [
       "           date State  accident_count\n",
       "0    2016-01-14    PA               1\n",
       "1    2016-02-10    PA               3\n",
       "2    2016-02-22    IN               2\n",
       "3    2016-02-22    OH              48\n",
       "4    2016-02-23    PA               2\n",
       "...         ...   ...             ...\n",
       "1794 2018-04-11    OH              71\n",
       "1795 2018-04-11    TN              92\n",
       "1796 2018-04-11    TX             666\n",
       "1797 2018-04-11    UT              16\n",
       "1798 2018-04-11    WI              13\n",
       "\n",
       "[1799 rows x 3 columns]"
      ]
     },
     "execution_count": 28,
     "metadata": {},
     "output_type": "execute_result"
    }
   ],
   "source": [
    "accidents_by_day"
   ]
  },
  {
   "cell_type": "code",
   "execution_count": 29,
   "id": "d0c68ea9",
   "metadata": {},
   "outputs": [
    {
     "data": {
      "text/html": [
       "<div>\n",
       "<style scoped>\n",
       "    .dataframe tbody tr th:only-of-type {\n",
       "        vertical-align: middle;\n",
       "    }\n",
       "\n",
       "    .dataframe tbody tr th {\n",
       "        vertical-align: top;\n",
       "    }\n",
       "\n",
       "    .dataframe thead th {\n",
       "        text-align: right;\n",
       "    }\n",
       "</style>\n",
       "<table border=\"1\" class=\"dataframe\">\n",
       "  <thead>\n",
       "    <tr style=\"text-align: right;\">\n",
       "      <th></th>\n",
       "      <th>date</th>\n",
       "      <th>accident_count</th>\n",
       "    </tr>\n",
       "  </thead>\n",
       "  <tbody>\n",
       "    <tr>\n",
       "      <th>count</th>\n",
       "      <td>1799</td>\n",
       "      <td>1799.000000</td>\n",
       "    </tr>\n",
       "    <tr>\n",
       "      <th>mean</th>\n",
       "      <td>2017-06-22 17:47:47.593107456</td>\n",
       "      <td>181.426348</td>\n",
       "    </tr>\n",
       "    <tr>\n",
       "      <th>min</th>\n",
       "      <td>2016-01-14 00:00:00</td>\n",
       "      <td>1.000000</td>\n",
       "    </tr>\n",
       "    <tr>\n",
       "      <th>25%</th>\n",
       "      <td>2017-01-06 00:00:00</td>\n",
       "      <td>13.000000</td>\n",
       "    </tr>\n",
       "    <tr>\n",
       "      <th>50%</th>\n",
       "      <td>2017-04-12 00:00:00</td>\n",
       "      <td>62.000000</td>\n",
       "    </tr>\n",
       "    <tr>\n",
       "      <th>75%</th>\n",
       "      <td>2018-01-04 12:00:00</td>\n",
       "      <td>231.500000</td>\n",
       "    </tr>\n",
       "    <tr>\n",
       "      <th>max</th>\n",
       "      <td>2018-04-11 00:00:00</td>\n",
       "      <td>2214.000000</td>\n",
       "    </tr>\n",
       "    <tr>\n",
       "      <th>std</th>\n",
       "      <td>NaN</td>\n",
       "      <td>284.564220</td>\n",
       "    </tr>\n",
       "  </tbody>\n",
       "</table>\n",
       "</div>"
      ],
      "text/plain": [
       "                                date  accident_count\n",
       "count                           1799     1799.000000\n",
       "mean   2017-06-22 17:47:47.593107456      181.426348\n",
       "min              2016-01-14 00:00:00        1.000000\n",
       "25%              2017-01-06 00:00:00       13.000000\n",
       "50%              2017-04-12 00:00:00       62.000000\n",
       "75%              2018-01-04 12:00:00      231.500000\n",
       "max              2018-04-11 00:00:00     2214.000000\n",
       "std                              NaN      284.564220"
      ]
     },
     "execution_count": 29,
     "metadata": {},
     "output_type": "execute_result"
    }
   ],
   "source": [
    "accidents_by_day.describe()"
   ]
  },
  {
   "cell_type": "code",
   "execution_count": 30,
   "id": "fbf67212",
   "metadata": {},
   "outputs": [
    {
     "data": {
      "text/html": [
       "<div>\n",
       "<style scoped>\n",
       "    .dataframe tbody tr th:only-of-type {\n",
       "        vertical-align: middle;\n",
       "    }\n",
       "\n",
       "    .dataframe tbody tr th {\n",
       "        vertical-align: top;\n",
       "    }\n",
       "\n",
       "    .dataframe thead th {\n",
       "        text-align: right;\n",
       "    }\n",
       "</style>\n",
       "<table border=\"1\" class=\"dataframe\">\n",
       "  <thead>\n",
       "    <tr style=\"text-align: right;\">\n",
       "      <th></th>\n",
       "      <th>date</th>\n",
       "      <th>accident_count</th>\n",
       "    </tr>\n",
       "  </thead>\n",
       "  <tbody>\n",
       "    <tr>\n",
       "      <th>count</th>\n",
       "      <td>11947</td>\n",
       "      <td>11947.000000</td>\n",
       "    </tr>\n",
       "    <tr>\n",
       "      <th>mean</th>\n",
       "      <td>2017-09-23 20:43:17.472168704</td>\n",
       "      <td>85.711141</td>\n",
       "    </tr>\n",
       "    <tr>\n",
       "      <th>min</th>\n",
       "      <td>2016-01-14 00:00:00</td>\n",
       "      <td>1.000000</td>\n",
       "    </tr>\n",
       "    <tr>\n",
       "      <th>25%</th>\n",
       "      <td>2017-02-08 00:00:00</td>\n",
       "      <td>9.000000</td>\n",
       "    </tr>\n",
       "    <tr>\n",
       "      <th>50%</th>\n",
       "      <td>2017-11-06 00:00:00</td>\n",
       "      <td>39.000000</td>\n",
       "    </tr>\n",
       "    <tr>\n",
       "      <th>75%</th>\n",
       "      <td>2018-04-19 00:00:00</td>\n",
       "      <td>97.000000</td>\n",
       "    </tr>\n",
       "    <tr>\n",
       "      <th>max</th>\n",
       "      <td>2018-12-31 00:00:00</td>\n",
       "      <td>940.000000</td>\n",
       "    </tr>\n",
       "    <tr>\n",
       "      <th>std</th>\n",
       "      <td>NaN</td>\n",
       "      <td>127.532145</td>\n",
       "    </tr>\n",
       "  </tbody>\n",
       "</table>\n",
       "</div>"
      ],
      "text/plain": [
       "                                date  accident_count\n",
       "count                          11947    11947.000000\n",
       "mean   2017-09-23 20:43:17.472168704       85.711141\n",
       "min              2016-01-14 00:00:00        1.000000\n",
       "25%              2017-02-08 00:00:00        9.000000\n",
       "50%              2017-11-06 00:00:00       39.000000\n",
       "75%              2018-04-19 00:00:00       97.000000\n",
       "max              2018-12-31 00:00:00      940.000000\n",
       "std                              NaN      127.532145"
      ]
     },
     "execution_count": 30,
     "metadata": {},
     "output_type": "execute_result"
    }
   ],
   "source": [
    "accidents_by_no_game_day.describe()"
   ]
  },
  {
   "cell_type": "code",
   "execution_count": 31,
   "id": "356deab6",
   "metadata": {},
   "outputs": [
    {
     "data": {
      "image/png": "[encoded data removed]",
      "text/plain": [
       "<Figure size 1000x700 with 1 Axes>"
      ]
     },
     "metadata": {},
     "output_type": "display_data"
    }
   ],
   "source": [
    "import matplotlib.pyplot as plt\n",
    "\n",
    "d_1 = accidents_by_no_game_day.accident_count.values\n",
    "d_2 = accidents_by_day.accident_count.values\n",
    "\n",
    "d = [d_1, d_2]\n",
    "fig = plt.figure(figsize =(10, 7))\n",
    "ax = fig.add_axes([0.1, 0.1, 0.8, 0.8])\n",
    "bp = ax.boxplot(d)\n",
    "\n",
    "plt.title(\"Number of Accidents On Game Day vs. Non Game Day\")\n",
    "plt.xticks(ticks=[1, 2], labels=[\"No Game\", \"Game Day\"])\n",
    "plt.show()"
   ]
  },
  {
   "cell_type": "code",
   "execution_count": 32,
   "id": "ee0d49a1",
   "metadata": {},
   "outputs": [],
   "source": [
    "state_count = accidents_by_day[[\"State\", \"accident_count\"]].groupby(\"State\").size()"
   ]
  },
  {
   "cell_type": "code",
   "execution_count": 33,
   "id": "3db13f5e",
   "metadata": {},
   "outputs": [
    {
     "data": {
      "text/plain": [
       "<Axes: xlabel='State'>"
      ]
     },
     "execution_count": 33,
     "metadata": {},
     "output_type": "execute_result"
    },
    {
     "data": {
      "image/png": "[encoded data removed]",
      "text/plain": [
       "<Figure size 640x480 with 1 Axes>"
      ]
     },
     "metadata": {},
     "output_type": "display_data"
    }
   ],
   "source": [
    "state_count.sort_values().plot.bar()"
   ]
  },
  {
   "cell_type": "code",
   "execution_count": 34,
   "id": "84c0b4a7",
   "metadata": {},
   "outputs": [
    {
     "data": {
      "text/plain": [
       "<Axes: xlabel='State'>"
      ]
     },
     "execution_count": 34,
     "metadata": {},
     "output_type": "execute_result"
    },
    {
     "data": {
      "image/png": "[encoded data removed]",
      "text/plain": [
       "<Figure size 640x480 with 1 Axes>"
      ]
     },
     "metadata": {},
     "output_type": "display_data"
    }
   ],
   "source": [
    "accidents_by_no_game_day[[\"State\", \"accident_count\"]].groupby(\"State\").size().sort_values().plot.bar()"
   ]
  },
  {
   "cell_type": "code",
   "execution_count": 35,
   "id": "5179e983",
   "metadata": {},
   "outputs": [
    {
     "name": "stderr",
     "output_type": "stream",
     "text": [
      "/var/folders/cl/46_xwg1s1cv84pny0b6b2d000000gn/T/ipykernel_1724/1112402550.py:4: SettingWithCopyWarning: \n",
      "A value is trying to be set on a copy of a slice from a DataFrame.\n",
      "Try using .loc[row_indexer,col_indexer] = value instead\n",
      "\n",
      "See the caveats in the documentation: https://pandas.pydata.org/pandas-docs/stable/user_guide/indexing.html#returning-a-view-versus-a-copy\n",
      "  accidents_by_no_game_day[\"month\"] = accidents_by_no_game_day.date.dt.month\n",
      "/var/folders/cl/46_xwg1s1cv84pny0b6b2d000000gn/T/ipykernel_1724/1112402550.py:5: SettingWithCopyWarning: \n",
      "A value is trying to be set on a copy of a slice from a DataFrame.\n",
      "Try using .loc[row_indexer,col_indexer] = value instead\n",
      "\n",
      "See the caveats in the documentation: https://pandas.pydata.org/pandas-docs/stable/user_guide/indexing.html#returning-a-view-versus-a-copy\n",
      "  accidents_by_no_game_day[\"year\"] = accidents_by_no_game_day.date.dt.year\n"
     ]
    }
   ],
   "source": [
    "accidents_by_day[\"month\"] = accidents_by_day.date.dt.month\n",
    "accidents_by_day[\"year\"] = accidents_by_day.date.dt.year\n",
    "\n",
    "accidents_by_no_game_day[\"month\"] = accidents_by_no_game_day.date.dt.month\n",
    "accidents_by_no_game_day[\"year\"] = accidents_by_no_game_day.date.dt.year"
   ]
  },
  {
   "cell_type": "code",
   "execution_count": 36,
   "id": "e3f9b28c",
   "metadata": {},
   "outputs": [],
   "source": [
    "teste = accidents_by_day[[\"State\", \"accident_count\", \"month\", \"year\"]].groupby([\"month\", \"year\"]).size()\n",
    "teste2 = accidents_by_no_game_day[[\"State\", \"accident_count\", \"month\", \"year\"]].groupby([\"month\", \"year\"]).size()"
   ]
  },
  {
   "cell_type": "code",
   "execution_count": 37,
   "id": "5a55d6cd",
   "metadata": {},
   "outputs": [
    {
     "data": {
      "text/plain": [
       "month  year\n",
       "1      2016      1\n",
       "       2017    525\n",
       "       2018    572\n",
       "2      2016     64\n",
       "       2017    478\n",
       "       2018    516\n",
       "3      2016    108\n",
       "       2017    521\n",
       "       2018    560\n",
       "4      2016    162\n",
       "       2017    498\n",
       "       2018    541\n",
       "5      2016    152\n",
       "       2017    498\n",
       "       2018    560\n",
       "6      2016    293\n",
       "       2017    481\n",
       "       2018    542\n",
       "10     2016    497\n",
       "       2017    558\n",
       "       2018    562\n",
       "11     2016    513\n",
       "       2017    541\n",
       "       2018    543\n",
       "12     2016    534\n",
       "       2017    562\n",
       "       2018    565\n",
       "dtype: int64"
      ]
     },
     "execution_count": 37,
     "metadata": {},
     "output_type": "execute_result"
    }
   ],
   "source": [
    "teste2"
   ]
  },
  {
   "cell_type": "markdown",
   "id": "5a0ad5f4",
   "metadata": {},
   "source": [
    "Some observations:\n",
    "* Months 7, 8, 9 don't have official NBA games.\n",
    "* Months 6, 10 don't have a lot of games."
   ]
  },
  {
   "cell_type": "code",
   "execution_count": 38,
   "id": "acdec106",
   "metadata": {},
   "outputs": [
    {
     "data": {
      "image/png": "[encoded data removed]",
      "text/plain": [
       "<Figure size 640x480 with 1 Axes>"
      ]
     },
     "metadata": {},
     "output_type": "display_data"
    }
   ],
   "source": [
    "months = [1, 2, 3, 4, 5, 6, 10, 11, 12]\n",
    "values_2016_nba = [teste[i][2016] if i in teste and 2016 in teste[i] else 0 for i in months]\n",
    "values_2016_no_nba = [ teste2[i, 2016] if i in teste2 and 2016 in teste2[i] else 0 for i in months ]\n",
    "\n",
    "plt.plot(months, values_2016_nba, '--o')\n",
    "plt.plot(months, values_2016_no_nba, '--o')\n",
    "plt.xlabel(\"Month\")\n",
    "plt.ylabel(\"Number of Accidents\")\n",
    "plt.title(\"(Unnormalized) Accidents in 2016\")\n",
    "plt.grid(axis = 'x')\n",
    "plt.legend(['NBA Game Days', \"No NBA Game Days\"]) \n",
    "plt.axhline(y=0, color='b', linestyle='-')\n",
    "\n",
    "plt.show()"
   ]
  },
  {
   "cell_type": "code",
   "execution_count": 39,
   "id": "e6d04edd",
   "metadata": {},
   "outputs": [
    {
     "data": {
      "image/png": "[encoded data removed]",
      "text/plain": [
       "<Figure size 640x480 with 1 Axes>"
      ]
     },
     "metadata": {},
     "output_type": "display_data"
    }
   ],
   "source": [
    "months = [1, 2, 3, 4, 5, 6, 10, 11, 12]\n",
    "values_2017_nba = [teste[i][2017] if i in teste and 2017 in teste[i] else 0 for i in months]\n",
    "values_2017_no_nba = [ teste2[i, 2017] if i in teste2 and 2017 in teste2[i] else 0 for i in months ]\n",
    "\n",
    "plt.plot(months, values_2017_nba, '--o')\n",
    "plt.plot(months, values_2017_no_nba, '--o')\n",
    "plt.xlabel(\"Month\")\n",
    "plt.ylabel(\"Number of Accidents\")\n",
    "plt.title(\"(Unnormalized) Accidents in 2017\")\n",
    "plt.grid(axis = 'x')\n",
    "plt.legend(['NBA Game Days', \"No NBA Game Days\"]) \n",
    "plt.axhline(y=0, color='b', linestyle='-')\n",
    "\n",
    "plt.show()"
   ]
  },
  {
   "cell_type": "code",
   "execution_count": 40,
   "id": "b3c112e0",
   "metadata": {},
   "outputs": [
    {
     "data": {
      "image/png": "[encoded data removed]",
      "text/plain": [
       "<Figure size 640x480 with 1 Axes>"
      ]
     },
     "metadata": {},
     "output_type": "display_data"
    }
   ],
   "source": [
    "months = [1, 2, 3, 4, 5, 6, 10, 11, 12]\n",
    "values_2018_nba = [teste[i][2018] if i in teste and 2018 in teste[i] else 0 for i in months]\n",
    "values_2018_no_nba = [ teste2[i, 2018] if i in teste2 and 2018 in teste2[i] else 0 for i in months ]\n",
    "\n",
    "plt.plot(months, values_2018_nba, '--o')\n",
    "plt.plot(months, values_2018_no_nba, '--o')\n",
    "plt.xlabel(\"Month\")\n",
    "plt.ylabel(\"Number of Accidents\")\n",
    "plt.title(\"(Unnormalized) Accidents in 2018\")\n",
    "plt.grid(axis = 'x')\n",
    "plt.legend(['NBA Game Days', \"No NBA Game Days\"]) \n",
    "plt.axhline(y=0, color='b', linestyle='-')\n",
    "\n",
    "plt.show()"
   ]
  },
  {
   "cell_type": "code",
   "execution_count": 41,
   "id": "86bcef6b",
   "metadata": {},
   "outputs": [
    {
     "data": {
      "image/png": "[encoded data removed]",
      "text/plain": [
       "<Figure size 640x480 with 1 Axes>"
      ]
     },
     "metadata": {},
     "output_type": "display_data"
    }
   ],
   "source": [
    "months = [1, 2, 3, 4, 5, 6, 10, 11, 12]\n",
    "values_2016_nba = [teste[i][2016] / teste.xs(2016, level='year').sum() if i in teste and 2016 in teste[i] else 0 for i in months]\n",
    "values_2016_no_nba = [ teste2[i, 2016] / teste2.xs(2016, level='year').sum() if i in teste2 and 2016 in teste2[i] else 0 for i in months ]\n",
    "\n",
    "plt.plot(months, values_2016_nba, '--o')\n",
    "plt.plot(months, values_2016_no_nba, '--o')\n",
    "plt.xlabel(\"Month\")\n",
    "plt.ylabel(\"#Accidents / #Accidents in 2016\")\n",
    "plt.title(\"(Normalized) Accidents in 2016\")\n",
    "plt.grid(axis = 'x')\n",
    "plt.legend(['NBA Game Days', \"No NBA Game Days\"]) \n",
    "plt.axhline(y=0, color='b', linestyle='-')\n",
    "\n",
    "plt.show()"
   ]
  },
  {
   "cell_type": "code",
   "execution_count": 42,
   "id": "743ef963",
   "metadata": {},
   "outputs": [
    {
     "data": {
      "image/png": "[encoded data removed]",
      "text/plain": [
       "<Figure size 640x480 with 1 Axes>"
      ]
     },
     "metadata": {},
     "output_type": "display_data"
    }
   ],
   "source": [
    "months = [1, 2, 3, 4, 5, 6, 10, 11, 12]\n",
    "values_2017_nba = [teste[i][2017] / teste.xs(2017, level='year').sum() if i in teste and 2017 in teste[i] else 0 for i in months]\n",
    "values_2017_no_nba = [ teste2[i, 2017] / teste2.xs(2017, level='year').sum() if i in teste2 and 2017 in teste2[i] else 0 for i in months ]\n",
    "\n",
    "plt.plot(months, values_2017_nba, '--o')\n",
    "plt.plot(months, values_2017_no_nba, '--o')\n",
    "plt.xlabel(\"Month\")\n",
    "plt.ylabel(\"#Accidents / #Accidents in 2017\")\n",
    "plt.title(\"(Normalized) Accidents in 2017\")\n",
    "plt.grid(axis = 'x')\n",
    "plt.legend(['NBA Game Days', \"No NBA Game Days\"]) \n",
    "plt.axhline(y=0, color='b', linestyle='-')\n",
    "\n",
    "plt.show()"
   ]
  },
  {
   "cell_type": "code",
   "execution_count": 43,
   "id": "f04e4d68",
   "metadata": {},
   "outputs": [
    {
     "data": {
      "image/png": "[encoded data removed]",
      "text/plain": [
       "<Figure size 640x480 with 1 Axes>"
      ]
     },
     "metadata": {},
     "output_type": "display_data"
    }
   ],
   "source": [
    "months = [1, 2, 3, 4, 5, 6, 10, 11, 12]\n",
    "values_2018_nba = [teste[i][2018] / teste.xs(2018, level='year').sum() if i in teste and 2018 in teste[i] else 0 for i in months]\n",
    "values_2018_no_nba = [ teste2[i, 2018] / teste2.xs(2018, level='year').sum() if i in teste2 and 2018 in teste2[i] else 0 for i in months ]\n",
    "\n",
    "plt.plot(months, values_2018_nba, '--o')\n",
    "plt.plot(months, values_2018_no_nba, '--o')\n",
    "plt.xlabel(\"Month\")\n",
    "plt.ylabel(\"#Accidents / #Accidents in 2018\")\n",
    "plt.title(\"(Normalized) Accidents in 2018\")\n",
    "plt.grid(axis = 'x')\n",
    "plt.legend(['NBA Game Days', \"No NBA Game Days\"]) \n",
    "plt.axhline(y=0, color='b', linestyle='-')\n",
    "\n",
    "plt.show()"
   ]
  },
  {
   "cell_type": "markdown",
   "id": "fab42125",
   "metadata": {},
   "source": [
    "4. Choropleth (State-Level Heat Map)\n",
    "\n",
    "What: Color U.S. states by:\n",
    "Average accidents per NBA loss day\n",
    "Difference between NBA-loss and non-NBA days\n",
    "Why: Highlights geographical patterns and hotspots."
   ]
  },
  {
   "cell_type": "code",
   "execution_count": 44,
   "id": "fee78484",
   "metadata": {},
   "outputs": [
    {
     "name": "stdout",
     "output_type": "stream",
     "text": [
      "Requirement already satisfied: plotly in /opt/anaconda3/lib/python3.12/site-packages (6.1.0)\n",
      "Requirement already satisfied: narwhals>=1.15.1 in /opt/anaconda3/lib/python3.12/site-packages (from plotly) (1.37.1)\n",
      "Requirement already satisfied: packaging in /opt/anaconda3/lib/python3.12/site-packages (from plotly) (24.1)\n",
      "Note: you may need to restart the kernel to use updated packages.\n"
     ]
    }
   ],
   "source": [
    "%pip install plotly"
   ]
  },
  {
   "cell_type": "code",
   "execution_count": 45,
   "id": "2effc0f8",
   "metadata": {},
   "outputs": [
    {
     "data": {
      "text/html": [
       "<div>\n",
       "<style scoped>\n",
       "    .dataframe tbody tr th:only-of-type {\n",
       "        vertical-align: middle;\n",
       "    }\n",
       "\n",
       "    .dataframe tbody tr th {\n",
       "        vertical-align: top;\n",
       "    }\n",
       "\n",
       "    .dataframe thead th {\n",
       "        text-align: right;\n",
       "    }\n",
       "</style>\n",
       "<table border=\"1\" class=\"dataframe\">\n",
       "  <thead>\n",
       "    <tr style=\"text-align: right;\">\n",
       "      <th></th>\n",
       "      <th>date</th>\n",
       "      <th>State</th>\n",
       "      <th>accident_count</th>\n",
       "      <th>month</th>\n",
       "      <th>year</th>\n",
       "    </tr>\n",
       "  </thead>\n",
       "  <tbody>\n",
       "    <tr>\n",
       "      <th>0</th>\n",
       "      <td>2016-01-14</td>\n",
       "      <td>PA</td>\n",
       "      <td>1</td>\n",
       "      <td>1</td>\n",
       "      <td>2016</td>\n",
       "    </tr>\n",
       "    <tr>\n",
       "      <th>1</th>\n",
       "      <td>2016-02-10</td>\n",
       "      <td>PA</td>\n",
       "      <td>3</td>\n",
       "      <td>2</td>\n",
       "      <td>2016</td>\n",
       "    </tr>\n",
       "    <tr>\n",
       "      <th>2</th>\n",
       "      <td>2016-02-22</td>\n",
       "      <td>IN</td>\n",
       "      <td>2</td>\n",
       "      <td>2</td>\n",
       "      <td>2016</td>\n",
       "    </tr>\n",
       "    <tr>\n",
       "      <th>3</th>\n",
       "      <td>2016-02-22</td>\n",
       "      <td>OH</td>\n",
       "      <td>48</td>\n",
       "      <td>2</td>\n",
       "      <td>2016</td>\n",
       "    </tr>\n",
       "    <tr>\n",
       "      <th>4</th>\n",
       "      <td>2016-02-23</td>\n",
       "      <td>PA</td>\n",
       "      <td>2</td>\n",
       "      <td>2</td>\n",
       "      <td>2016</td>\n",
       "    </tr>\n",
       "    <tr>\n",
       "      <th>...</th>\n",
       "      <td>...</td>\n",
       "      <td>...</td>\n",
       "      <td>...</td>\n",
       "      <td>...</td>\n",
       "      <td>...</td>\n",
       "    </tr>\n",
       "    <tr>\n",
       "      <th>1794</th>\n",
       "      <td>2018-04-11</td>\n",
       "      <td>OH</td>\n",
       "      <td>71</td>\n",
       "      <td>4</td>\n",
       "      <td>2018</td>\n",
       "    </tr>\n",
       "    <tr>\n",
       "      <th>1795</th>\n",
       "      <td>2018-04-11</td>\n",
       "      <td>TN</td>\n",
       "      <td>92</td>\n",
       "      <td>4</td>\n",
       "      <td>2018</td>\n",
       "    </tr>\n",
       "    <tr>\n",
       "      <th>1796</th>\n",
       "      <td>2018-04-11</td>\n",
       "      <td>TX</td>\n",
       "      <td>666</td>\n",
       "      <td>4</td>\n",
       "      <td>2018</td>\n",
       "    </tr>\n",
       "    <tr>\n",
       "      <th>1797</th>\n",
       "      <td>2018-04-11</td>\n",
       "      <td>UT</td>\n",
       "      <td>16</td>\n",
       "      <td>4</td>\n",
       "      <td>2018</td>\n",
       "    </tr>\n",
       "    <tr>\n",
       "      <th>1798</th>\n",
       "      <td>2018-04-11</td>\n",
       "      <td>WI</td>\n",
       "      <td>13</td>\n",
       "      <td>4</td>\n",
       "      <td>2018</td>\n",
       "    </tr>\n",
       "  </tbody>\n",
       "</table>\n",
       "<p>1799 rows × 5 columns</p>\n",
       "</div>"
      ],
      "text/plain": [
       "           date State  accident_count  month  year\n",
       "0    2016-01-14    PA               1      1  2016\n",
       "1    2016-02-10    PA               3      2  2016\n",
       "2    2016-02-22    IN               2      2  2016\n",
       "3    2016-02-22    OH              48      2  2016\n",
       "4    2016-02-23    PA               2      2  2016\n",
       "...         ...   ...             ...    ...   ...\n",
       "1794 2018-04-11    OH              71      4  2018\n",
       "1795 2018-04-11    TN              92      4  2018\n",
       "1796 2018-04-11    TX             666      4  2018\n",
       "1797 2018-04-11    UT              16      4  2018\n",
       "1798 2018-04-11    WI              13      4  2018\n",
       "\n",
       "[1799 rows x 5 columns]"
      ]
     },
     "execution_count": 45,
     "metadata": {},
     "output_type": "execute_result"
    }
   ],
   "source": [
    "accidents_by_day"
   ]
  },
  {
   "cell_type": "code",
   "execution_count": 46,
   "id": "d3736488",
   "metadata": {},
   "outputs": [
    {
     "data": {
      "text/plain": [
       "array([-0.09325662,  0.01726621, -0.0250498 ,  0.0079535 ,  0.00980754,\n",
       "        0.00039714,  0.01927953,  0.01565427,  0.01316309,  0.00146752,\n",
       "        0.00575328,  0.01412516,  0.01469857,  0.01386181,  0.00663889,\n",
       "        0.00296478, -0.04595189,  0.00814676,  0.01308027])"
      ]
     },
     "execution_count": 46,
     "metadata": {},
     "output_type": "execute_result"
    }
   ],
   "source": [
    "teste_mapa = accidents_by_day.groupby([\"State\", \"year\"]).size().xs(2017, level=\"year\")\n",
    "teste_mapa2 = accidents_by_no_game_day.groupby([\"State\", \"year\"]).size().xs(2017, level=\"year\")\n",
    "\n",
    "diff = teste_mapa2.apply(lambda x: x / teste_mapa2.sum()) - teste_mapa.apply(lambda x: x / teste_mapa.sum())\n",
    "diff.values"
   ]
  },
  {
   "cell_type": "code",
   "execution_count": 47,
   "id": "63818052",
   "metadata": {},
   "outputs": [],
   "source": [
    "# Exemplo de como é suposto fazer o dataframe.\n",
    "df = pd.DataFrame({\n",
    "    \"State\": diff.index,\n",
    "    \"accident_diff\": diff.values\n",
    "})"
   ]
  },
  {
   "cell_type": "code",
   "execution_count": 48,
   "id": "b92e6af1",
   "metadata": {},
   "outputs": [
    {
     "data": {
      "application/vnd.plotly.v1+json": {
       "config": {
        "plotlyServerURL": "https://plot.ly"
       },
       "data": [
        {
         "coloraxis": "coloraxis",
         "geo": "geo",
         "hovertemplate": "State=%{location}<br>accident_diff=%{z}<extra></extra>",
         "locationmode": "USA-states",
         "locations": [
          "CA",
          "CO",
          "FL",
          "IL",
          "IN",
          "LA",
          "MA",
          "MI",
          "MN",
          "MT",
          "NY",
          "OH",
          "OK",
          "OR",
          "PA",
          "TN",
          "TX",
          "UT",
          "WI"
         ],
         "name": "",
         "type": "choropleth",
         "z": {
          "bdata": "8TG/garft7+MlNFtO66RP5yDNsanppm/ZM8xcOxJgD+se7ZV+hWEPwAaklP4Bjo/zKNMogO+kz8i56ImrAeQPyhZ+1lA9Yo/WNT09joLWD+Q6MXPv5B3P6hSnpKm7Yw/BCGdOEkajj8QA4rDlGOMP6C1lOFgMXs/oGOKlpVJaD8uitamAYenv0TYhLM/r4A/7HlFhtPJij8=",
          "dtype": "f8"
         }
        }
       ],
       "layout": {
        "coloraxis": {
         "colorbar": {
          "title": {
           "text": "accident_diff"
          }
         },
         "colorscale": [
          [
           0,
           "rgb(103,0,31)"
          ],
          [
           0.1,
           "rgb(178,24,43)"
          ],
          [
           0.2,
           "rgb(214,96,77)"
          ],
          [
           0.3,
           "rgb(244,165,130)"
          ],
          [
           0.4,
           "rgb(253,219,199)"
          ],
          [
           0.5,
           "rgb(247,247,247)"
          ],
          [
           0.6,
           "rgb(209,229,240)"
          ],
          [
           0.7,
           "rgb(146,197,222)"
          ],
          [
           0.8,
           "rgb(67,147,195)"
          ],
          [
           0.9,
           "rgb(33,102,172)"
          ],
          [
           1,
           "rgb(5,48,97)"
          ]
         ]
        },
        "geo": {
         "center": {},
         "domain": {
          "x": [
           0,
           1
          ],
          "y": [
           0,
           1
          ]
         },
         "scope": "usa"
        },
        "legend": {
         "tracegroupgap": 0
        },
        "template": {
         "data": {
          "bar": [
           {
            "error_x": {
             "color": "#2a3f5f"
            },
            "error_y": {
             "color": "#2a3f5f"
            },
            "marker": {
             "line": {
              "color": "#E5ECF6",
              "width": 0.5
             },
             "pattern": {
              "fillmode": "overlay",
              "size": 10,
              "solidity": 0.2
             }
            },
            "type": "bar"
           }
          ],
          "barpolar": [
           {
            "marker": {
             "line": {
              "color": "#E5ECF6",
              "width": 0.5
             },
             "pattern": {
              "fillmode": "overlay",
              "size": 10,
              "solidity": 0.2
             }
            },
            "type": "barpolar"
           }
          ],
          "carpet": [
           {
            "aaxis": {
             "endlinecolor": "#2a3f5f",
             "gridcolor": "white",
             "linecolor": "white",
             "minorgridcolor": "white",
             "startlinecolor": "#2a3f5f"
            },
            "baxis": {
             "endlinecolor": "#2a3f5f",
             "gridcolor": "white",
             "linecolor": "white",
             "minorgridcolor": "white",
             "startlinecolor": "#2a3f5f"
            },
            "type": "carpet"
           }
          ],
          "choropleth": [
           {
            "colorbar": {
             "outlinewidth": 0,
             "ticks": ""
            },
            "type": "choropleth"
           }
          ],
          "contour": [
           {
            "colorbar": {
             "outlinewidth": 0,
             "ticks": ""
            },
            "colorscale": [
             [
              0,
              "#0d0887"
             ],
             [
              0.1111111111111111,
              "#46039f"
             ],
             [
              0.2222222222222222,
              "#7201a8"
             ],
             [
              0.3333333333333333,
              "#9c179e"
             ],
             [
              0.4444444444444444,
              "#bd3786"
             ],
             [
              0.5555555555555556,
              "#d8576b"
             ],
             [
              0.6666666666666666,
              "#ed7953"
             ],
             [
              0.7777777777777778,
              "#fb9f3a"
             ],
             [
              0.8888888888888888,
              "#fdca26"
             ],
             [
              1,
              "#f0f921"
             ]
            ],
            "type": "contour"
           }
          ],
          "contourcarpet": [
           {
            "colorbar": {
             "outlinewidth": 0,
             "ticks": ""
            },
            "type": "contourcarpet"
           }
          ],
          "heatmap": [
           {
            "colorbar": {
             "outlinewidth": 0,
             "ticks": ""
            },
            "colorscale": [
             [
              0,
              "#0d0887"
             ],
             [
              0.1111111111111111,
              "#46039f"
             ],
             [
              0.2222222222222222,
              "#7201a8"
             ],
             [
              0.3333333333333333,
              "#9c179e"
             ],
             [
              0.4444444444444444,
              "#bd3786"
             ],
             [
              0.5555555555555556,
              "#d8576b"
             ],
             [
              0.6666666666666666,
              "#ed7953"
             ],
             [
              0.7777777777777778,
              "#fb9f3a"
             ],
             [
              0.8888888888888888,
              "#fdca26"
             ],
             [
              1,
              "#f0f921"
             ]
            ],
            "type": "heatmap"
           }
          ],
          "histogram": [
           {
            "marker": {
             "pattern": {
              "fillmode": "overlay",
              "size": 10,
              "solidity": 0.2
             }
            },
            "type": "histogram"
           }
          ],
          "histogram2d": [
           {
            "colorbar": {
             "outlinewidth": 0,
             "ticks": ""
            },
            "colorscale": [
             [
              0,
              "#0d0887"
             ],
             [
              0.1111111111111111,
              "#46039f"
             ],
             [
              0.2222222222222222,
              "#7201a8"
             ],
             [
              0.3333333333333333,
              "#9c179e"
             ],
             [
              0.4444444444444444,
              "#bd3786"
             ],
             [
              0.5555555555555556,
              "#d8576b"
             ],
             [
              0.6666666666666666,
              "#ed7953"
             ],
             [
              0.7777777777777778,
              "#fb9f3a"
             ],
             [
              0.8888888888888888,
              "#fdca26"
             ],
             [
              1,
              "#f0f921"
             ]
            ],
            "type": "histogram2d"
           }
          ],
          "histogram2dcontour": [
           {
            "colorbar": {
             "outlinewidth": 0,
             "ticks": ""
            },
            "colorscale": [
             [
              0,
              "#0d0887"
             ],
             [
              0.1111111111111111,
              "#46039f"
             ],
             [
              0.2222222222222222,
              "#7201a8"
             ],
             [
              0.3333333333333333,
              "#9c179e"
             ],
             [
              0.4444444444444444,
              "#bd3786"
             ],
             [
              0.5555555555555556,
              "#d8576b"
             ],
             [
              0.6666666666666666,
              "#ed7953"
             ],
             [
              0.7777777777777778,
              "#fb9f3a"
             ],
             [
              0.8888888888888888,
              "#fdca26"
             ],
             [
              1,
              "#f0f921"
             ]
            ],
            "type": "histogram2dcontour"
           }
          ],
          "mesh3d": [
           {
            "colorbar": {
             "outlinewidth": 0,
             "ticks": ""
            },
            "type": "mesh3d"
           }
          ],
          "parcoords": [
           {
            "line": {
             "colorbar": {
              "outlinewidth": 0,
              "ticks": ""
             }
            },
            "type": "parcoords"
           }
          ],
          "pie": [
           {
            "automargin": true,
            "type": "pie"
           }
          ],
          "scatter": [
           {
            "fillpattern": {
             "fillmode": "overlay",
             "size": 10,
             "solidity": 0.2
            },
            "type": "scatter"
           }
          ],
          "scatter3d": [
           {
            "line": {
             "colorbar": {
              "outlinewidth": 0,
              "ticks": ""
             }
            },
            "marker": {
             "colorbar": {
              "outlinewidth": 0,
              "ticks": ""
             }
            },
            "type": "scatter3d"
           }
          ],
          "scattercarpet": [
           {
            "marker": {
             "colorbar": {
              "outlinewidth": 0,
              "ticks": ""
             }
            },
            "type": "scattercarpet"
           }
          ],
          "scattergeo": [
           {
            "marker": {
             "colorbar": {
              "outlinewidth": 0,
              "ticks": ""
             }
            },
            "type": "scattergeo"
           }
          ],
          "scattergl": [
           {
            "marker": {
             "colorbar": {
              "outlinewidth": 0,
              "ticks": ""
             }
            },
            "type": "scattergl"
           }
          ],
          "scattermap": [
           {
            "marker": {
             "colorbar": {
              "outlinewidth": 0,
              "ticks": ""
             }
            },
            "type": "scattermap"
           }
          ],
          "scattermapbox": [
           {
            "marker": {
             "colorbar": {
              "outlinewidth": 0,
              "ticks": ""
             }
            },
            "type": "scattermapbox"
           }
          ],
          "scatterpolar": [
           {
            "marker": {
             "colorbar": {
              "outlinewidth": 0,
              "ticks": ""
             }
            },
            "type": "scatterpolar"
           }
          ],
          "scatterpolargl": [
           {
            "marker": {
             "colorbar": {
              "outlinewidth": 0,
              "ticks": ""
             }
            },
            "type": "scatterpolargl"
           }
          ],
          "scatterternary": [
           {
            "marker": {
             "colorbar": {
              "outlinewidth": 0,
              "ticks": ""
             }
            },
            "type": "scatterternary"
           }
          ],
          "surface": [
           {
            "colorbar": {
             "outlinewidth": 0,
             "ticks": ""
            },
            "colorscale": [
             [
              0,
              "#0d0887"
             ],
             [
              0.1111111111111111,
              "#46039f"
             ],
             [
              0.2222222222222222,
              "#7201a8"
             ],
             [
              0.3333333333333333,
              "#9c179e"
             ],
             [
              0.4444444444444444,
              "#bd3786"
             ],
             [
              0.5555555555555556,
              "#d8576b"
             ],
             [
              0.6666666666666666,
              "#ed7953"
             ],
             [
              0.7777777777777778,
              "#fb9f3a"
             ],
             [
              0.8888888888888888,
              "#fdca26"
             ],
             [
              1,
              "#f0f921"
             ]
            ],
            "type": "surface"
           }
          ],
          "table": [
           {
            "cells": {
             "fill": {
              "color": "#EBF0F8"
             },
             "line": {
              "color": "white"
             }
            },
            "header": {
             "fill": {
              "color": "#C8D4E3"
             },
             "line": {
              "color": "white"
             }
            },
            "type": "table"
           }
          ]
         },
         "layout": {
          "annotationdefaults": {
           "arrowcolor": "#2a3f5f",
           "arrowhead": 0,
           "arrowwidth": 1
          },
          "autotypenumbers": "strict",
          "coloraxis": {
           "colorbar": {
            "outlinewidth": 0,
            "ticks": ""
           }
          },
          "colorscale": {
           "diverging": [
            [
             0,
             "#8e0152"
            ],
            [
             0.1,
             "#c51b7d"
            ],
            [
             0.2,
             "#de77ae"
            ],
            [
             0.3,
             "#f1b6da"
            ],
            [
             0.4,
             "#fde0ef"
            ],
            [
             0.5,
             "#f7f7f7"
            ],
            [
             0.6,
             "#e6f5d0"
            ],
            [
             0.7,
             "#b8e186"
            ],
            [
             0.8,
             "#7fbc41"
            ],
            [
             0.9,
             "#4d9221"
            ],
            [
             1,
             "#276419"
            ]
           ],
           "sequential": [
            [
             0,
             "#0d0887"
            ],
            [
             0.1111111111111111,
             "#46039f"
            ],
            [
             0.2222222222222222,
             "#7201a8"
            ],
            [
             0.3333333333333333,
             "#9c179e"
            ],
            [
             0.4444444444444444,
             "#bd3786"
            ],
            [
             0.5555555555555556,
             "#d8576b"
            ],
            [
             0.6666666666666666,
             "#ed7953"
            ],
            [
             0.7777777777777778,
             "#fb9f3a"
            ],
            [
             0.8888888888888888,
             "#fdca26"
            ],
            [
             1,
             "#f0f921"
            ]
           ],
           "sequentialminus": [
            [
             0,
             "#0d0887"
            ],
            [
             0.1111111111111111,
             "#46039f"
            ],
            [
             0.2222222222222222,
             "#7201a8"
            ],
            [
             0.3333333333333333,
             "#9c179e"
            ],
            [
             0.4444444444444444,
             "#bd3786"
            ],
            [
             0.5555555555555556,
             "#d8576b"
            ],
            [
             0.6666666666666666,
             "#ed7953"
            ],
            [
             0.7777777777777778,
             "#fb9f3a"
            ],
            [
             0.8888888888888888,
             "#fdca26"
            ],
            [
             1,
             "#f0f921"
            ]
           ]
          },
          "colorway": [
           "#636efa",
           "#EF553B",
           "#00cc96",
           "#ab63fa",
           "#FFA15A",
           "#19d3f3",
           "#FF6692",
           "#B6E880",
           "#FF97FF",
           "#FECB52"
          ],
          "font": {
           "color": "#2a3f5f"
          },
          "geo": {
           "bgcolor": "white",
           "lakecolor": "white",
           "landcolor": "#E5ECF6",
           "showlakes": true,
           "showland": true,
           "subunitcolor": "white"
          },
          "hoverlabel": {
           "align": "left"
          },
          "hovermode": "closest",
          "mapbox": {
           "style": "light"
          },
          "paper_bgcolor": "white",
          "plot_bgcolor": "#E5ECF6",
          "polar": {
           "angularaxis": {
            "gridcolor": "white",
            "linecolor": "white",
            "ticks": ""
           },
           "bgcolor": "#E5ECF6",
           "radialaxis": {
            "gridcolor": "white",
            "linecolor": "white",
            "ticks": ""
           }
          },
          "scene": {
           "xaxis": {
            "backgroundcolor": "#E5ECF6",
            "gridcolor": "white",
            "gridwidth": 2,
            "linecolor": "white",
            "showbackground": true,
            "ticks": "",
            "zerolinecolor": "white"
           },
           "yaxis": {
            "backgroundcolor": "#E5ECF6",
            "gridcolor": "white",
            "gridwidth": 2,
            "linecolor": "white",
            "showbackground": true,
            "ticks": "",
            "zerolinecolor": "white"
           },
           "zaxis": {
            "backgroundcolor": "#E5ECF6",
            "gridcolor": "white",
            "gridwidth": 2,
            "linecolor": "white",
            "showbackground": true,
            "ticks": "",
            "zerolinecolor": "white"
           }
          },
          "shapedefaults": {
           "line": {
            "color": "#2a3f5f"
           }
          },
          "ternary": {
           "aaxis": {
            "gridcolor": "white",
            "linecolor": "white",
            "ticks": ""
           },
           "baxis": {
            "gridcolor": "white",
            "linecolor": "white",
            "ticks": ""
           },
           "bgcolor": "#E5ECF6",
           "caxis": {
            "gridcolor": "white",
            "linecolor": "white",
            "ticks": ""
           }
          },
          "title": {
           "x": 0.05
          },
          "xaxis": {
           "automargin": true,
           "gridcolor": "white",
           "linecolor": "white",
           "ticks": "",
           "title": {
            "standoff": 15
           },
           "zerolinecolor": "white",
           "zerolinewidth": 2
          },
          "yaxis": {
           "automargin": true,
           "gridcolor": "white",
           "linecolor": "white",
           "ticks": "",
           "title": {
            "standoff": 15
           },
           "zerolinecolor": "white",
           "zerolinewidth": 2
          }
         }
        },
        "title": {
         "text": "Relative Difference in Accident Proportions in 2017"
        }
       }
      }
     },
     "metadata": {},
     "output_type": "display_data"
    }
   ],
   "source": [
    "import plotly.express as px\n",
    "\n",
    "fig = px.choropleth(\n",
    "    df,\n",
    "    locations='State',\n",
    "    locationmode='USA-states',\n",
    "    color='accident_diff',\n",
    "    color_continuous_scale='RdBu',\n",
    "    scope='usa',\n",
    "    title='Relative Difference in Accident Proportions in 2017'\n",
    ")\n",
    "\n",
    "fig.show()\n"
   ]
  },
  {
   "cell_type": "code",
   "execution_count": 49,
   "id": "4307cbcb",
   "metadata": {},
   "outputs": [
    {
     "data": {
      "text/plain": [
       "array([-1.03932447e-01,  2.19215260e-03, -2.89659143e-02,  3.27042720e-03,\n",
       "        1.89989950e-02, -5.11773538e-03,  2.71542095e-02,  7.36583619e-03,\n",
       "        7.13797439e-03,  2.80453119e-03,  2.86678629e-02,  4.48063785e-02,\n",
       "        1.32139500e-03, -4.90004598e-03,  9.66378177e-05,  1.01449364e-02,\n",
       "       -2.42377819e-02,  6.48490619e-03,  6.70768179e-03])"
      ]
     },
     "execution_count": 49,
     "metadata": {},
     "output_type": "execute_result"
    }
   ],
   "source": [
    "teste_mapa = accidents_by_day.groupby([\"State\", \"year\"]).size().xs(2016, level=\"year\")\n",
    "teste_mapa2 = accidents_by_no_game_day.groupby([\"State\", \"year\"]).size().xs(2016, level=\"year\")\n",
    "\n",
    "diff = teste_mapa2.apply(lambda x: x / teste_mapa2.sum()) - teste_mapa.apply(lambda x: x / teste_mapa.sum())\n",
    "diff.values"
   ]
  },
  {
   "cell_type": "code",
   "execution_count": 50,
   "id": "e71c4ee8",
   "metadata": {},
   "outputs": [],
   "source": [
    "df = pd.DataFrame({\n",
    "    \"State\": diff.index,\n",
    "    \"accident_diff\": diff.values\n",
    "})"
   ]
  },
  {
   "cell_type": "code",
   "execution_count": 51,
   "id": "1c9b99f5",
   "metadata": {},
   "outputs": [
    {
     "data": {
      "application/vnd.plotly.v1+json": {
       "config": {
        "plotlyServerURL": "https://plot.ly"
       },
       "data": [
        {
         "coloraxis": "coloraxis",
         "geo": "geo",
         "hovertemplate": "State=%{location}<br>accident_diff=%{z}<extra></extra>",
         "locationmode": "USA-states",
         "locations": [
          "CA",
          "CO",
          "FL",
          "IL",
          "IN",
          "LA",
          "MA",
          "MI",
          "MN",
          "MT",
          "NY",
          "OH",
          "OK",
          "OR",
          "PA",
          "TN",
          "TX",
          "UT",
          "WI"
         ],
         "name": "",
         "type": "choropleth",
         "z": {
          "bdata": "UrVYHVGbur/A9YL3RvVhP1amvZo9qZ2/MOHMO5XKaj8Cwif4eHSTP4gYVaFV9nS/MuC/J1DOmz+wdNKYoyt+P8B4CGm1PH0/tJ9gOIf5Zj8cBx23G1udP2vepJTc8KY/YLyIFFWmVT+YRa0TEhJ0vwBIIRFBVRk/Eq/WT97GhD+a29UCytGYv/D/EMDqj3o/WOfJnoN5ez8=",
          "dtype": "f8"
         }
        }
       ],
       "layout": {
        "coloraxis": {
         "colorbar": {
          "title": {
           "text": "accident_diff"
          }
         },
         "colorscale": [
          [
           0,
           "rgb(103,0,31)"
          ],
          [
           0.1,
           "rgb(178,24,43)"
          ],
          [
           0.2,
           "rgb(214,96,77)"
          ],
          [
           0.3,
           "rgb(244,165,130)"
          ],
          [
           0.4,
           "rgb(253,219,199)"
          ],
          [
           0.5,
           "rgb(247,247,247)"
          ],
          [
           0.6,
           "rgb(209,229,240)"
          ],
          [
           0.7,
           "rgb(146,197,222)"
          ],
          [
           0.8,
           "rgb(67,147,195)"
          ],
          [
           0.9,
           "rgb(33,102,172)"
          ],
          [
           1,
           "rgb(5,48,97)"
          ]
         ]
        },
        "geo": {
         "center": {},
         "domain": {
          "x": [
           0,
           1
          ],
          "y": [
           0,
           1
          ]
         },
         "scope": "usa"
        },
        "legend": {
         "tracegroupgap": 0
        },
        "template": {
         "data": {
          "bar": [
           {
            "error_x": {
             "color": "#2a3f5f"
            },
            "error_y": {
             "color": "#2a3f5f"
            },
            "marker": {
             "line": {
              "color": "#E5ECF6",
              "width": 0.5
             },
             "pattern": {
              "fillmode": "overlay",
              "size": 10,
              "solidity": 0.2
             }
            },
            "type": "bar"
           }
          ],
          "barpolar": [
           {
            "marker": {
             "line": {
              "color": "#E5ECF6",
              "width": 0.5
             },
             "pattern": {
              "fillmode": "overlay",
              "size": 10,
              "solidity": 0.2
             }
            },
            "type": "barpolar"
           }
          ],
          "carpet": [
           {
            "aaxis": {
             "endlinecolor": "#2a3f5f",
             "gridcolor": "white",
             "linecolor": "white",
             "minorgridcolor": "white",
             "startlinecolor": "#2a3f5f"
            },
            "baxis": {
             "endlinecolor": "#2a3f5f",
             "gridcolor": "white",
             "linecolor": "white",
             "minorgridcolor": "white",
             "startlinecolor": "#2a3f5f"
            },
            "type": "carpet"
           }
          ],
          "choropleth": [
           {
            "colorbar": {
             "outlinewidth": 0,
             "ticks": ""
            },
            "type": "choropleth"
           }
          ],
          "contour": [
           {
            "colorbar": {
             "outlinewidth": 0,
             "ticks": ""
            },
            "colorscale": [
             [
              0,
              "#0d0887"
             ],
             [
              0.1111111111111111,
              "#46039f"
             ],
             [
              0.2222222222222222,
              "#7201a8"
             ],
             [
              0.3333333333333333,
              "#9c179e"
             ],
             [
              0.4444444444444444,
              "#bd3786"
             ],
             [
              0.5555555555555556,
              "#d8576b"
             ],
             [
              0.6666666666666666,
              "#ed7953"
             ],
             [
              0.7777777777777778,
              "#fb9f3a"
             ],
             [
              0.8888888888888888,
              "#fdca26"
             ],
             [
              1,
              "#f0f921"
             ]
            ],
            "type": "contour"
           }
          ],
          "contourcarpet": [
           {
            "colorbar": {
             "outlinewidth": 0,
             "ticks": ""
            },
            "type": "contourcarpet"
           }
          ],
          "heatmap": [
           {
            "colorbar": {
             "outlinewidth": 0,
             "ticks": ""
            },
            "colorscale": [
             [
              0,
              "#0d0887"
             ],
             [
              0.1111111111111111,
              "#46039f"
             ],
             [
              0.2222222222222222,
              "#7201a8"
             ],
             [
              0.3333333333333333,
              "#9c179e"
             ],
             [
              0.4444444444444444,
              "#bd3786"
             ],
             [
              0.5555555555555556,
              "#d8576b"
             ],
             [
              0.6666666666666666,
              "#ed7953"
             ],
             [
              0.7777777777777778,
              "#fb9f3a"
             ],
             [
              0.8888888888888888,
              "#fdca26"
             ],
             [
              1,
              "#f0f921"
             ]
            ],
            "type": "heatmap"
           }
          ],
          "histogram": [
           {
            "marker": {
             "pattern": {
              "fillmode": "overlay",
              "size": 10,
              "solidity": 0.2
             }
            },
            "type": "histogram"
           }
          ],
          "histogram2d": [
           {
            "colorbar": {
             "outlinewidth": 0,
             "ticks": ""
            },
            "colorscale": [
             [
              0,
              "#0d0887"
             ],
             [
              0.1111111111111111,
              "#46039f"
             ],
             [
              0.2222222222222222,
              "#7201a8"
             ],
             [
              0.3333333333333333,
              "#9c179e"
             ],
             [
              0.4444444444444444,
              "#bd3786"
             ],
             [
              0.5555555555555556,
              "#d8576b"
             ],
             [
              0.6666666666666666,
              "#ed7953"
             ],
             [
              0.7777777777777778,
              "#fb9f3a"
             ],
             [
              0.8888888888888888,
              "#fdca26"
             ],
             [
              1,
              "#f0f921"
             ]
            ],
            "type": "histogram2d"
           }
          ],
          "histogram2dcontour": [
           {
            "colorbar": {
             "outlinewidth": 0,
             "ticks": ""
            },
            "colorscale": [
             [
              0,
              "#0d0887"
             ],
             [
              0.1111111111111111,
              "#46039f"
             ],
             [
              0.2222222222222222,
              "#7201a8"
             ],
             [
              0.3333333333333333,
              "#9c179e"
             ],
             [
              0.4444444444444444,
              "#bd3786"
             ],
             [
              0.5555555555555556,
              "#d8576b"
             ],
             [
              0.6666666666666666,
              "#ed7953"
             ],
             [
              0.7777777777777778,
              "#fb9f3a"
             ],
             [
              0.8888888888888888,
              "#fdca26"
             ],
             [
              1,
              "#f0f921"
             ]
            ],
            "type": "histogram2dcontour"
           }
          ],
          "mesh3d": [
           {
            "colorbar": {
             "outlinewidth": 0,
             "ticks": ""
            },
            "type": "mesh3d"
           }
          ],
          "parcoords": [
           {
            "line": {
             "colorbar": {
              "outlinewidth": 0,
              "ticks": ""
             }
            },
            "type": "parcoords"
           }
          ],
          "pie": [
           {
            "automargin": true,
            "type": "pie"
           }
          ],
          "scatter": [
           {
            "fillpattern": {
             "fillmode": "overlay",
             "size": 10,
             "solidity": 0.2
            },
            "type": "scatter"
           }
          ],
          "scatter3d": [
           {
            "line": {
             "colorbar": {
              "outlinewidth": 0,
              "ticks": ""
             }
            },
            "marker": {
             "colorbar": {
              "outlinewidth": 0,
              "ticks": ""
             }
            },
            "type": "scatter3d"
           }
          ],
          "scattercarpet": [
           {
            "marker": {
             "colorbar": {
              "outlinewidth": 0,
              "ticks": ""
             }
            },
            "type": "scattercarpet"
           }
          ],
          "scattergeo": [
           {
            "marker": {
             "colorbar": {
              "outlinewidth": 0,
              "ticks": ""
             }
            },
            "type": "scattergeo"
           }
          ],
          "scattergl": [
           {
            "marker": {
             "colorbar": {
              "outlinewidth": 0,
              "ticks": ""
             }
            },
            "type": "scattergl"
           }
          ],
          "scattermap": [
           {
            "marker": {
             "colorbar": {
              "outlinewidth": 0,
              "ticks": ""
             }
            },
            "type": "scattermap"
           }
          ],
          "scattermapbox": [
           {
            "marker": {
             "colorbar": {
              "outlinewidth": 0,
              "ticks": ""
             }
            },
            "type": "scattermapbox"
           }
          ],
          "scatterpolar": [
           {
            "marker": {
             "colorbar": {
              "outlinewidth": 0,
              "ticks": ""
             }
            },
            "type": "scatterpolar"
           }
          ],
          "scatterpolargl": [
           {
            "marker": {
             "colorbar": {
              "outlinewidth": 0,
              "ticks": ""
             }
            },
            "type": "scatterpolargl"
           }
          ],
          "scatterternary": [
           {
            "marker": {
             "colorbar": {
              "outlinewidth": 0,
              "ticks": ""
             }
            },
            "type": "scatterternary"
           }
          ],
          "surface": [
           {
            "colorbar": {
             "outlinewidth": 0,
             "ticks": ""
            },
            "colorscale": [
             [
              0,
              "#0d0887"
             ],
             [
              0.1111111111111111,
              "#46039f"
             ],
             [
              0.2222222222222222,
              "#7201a8"
             ],
             [
              0.3333333333333333,
              "#9c179e"
             ],
             [
              0.4444444444444444,
              "#bd3786"
             ],
             [
              0.5555555555555556,
              "#d8576b"
             ],
             [
              0.6666666666666666,
              "#ed7953"
             ],
             [
              0.7777777777777778,
              "#fb9f3a"
             ],
             [
              0.8888888888888888,
              "#fdca26"
             ],
             [
              1,
              "#f0f921"
             ]
            ],
            "type": "surface"
           }
          ],
          "table": [
           {
            "cells": {
             "fill": {
              "color": "#EBF0F8"
             },
             "line": {
              "color": "white"
             }
            },
            "header": {
             "fill": {
              "color": "#C8D4E3"
             },
             "line": {
              "color": "white"
             }
            },
            "type": "table"
           }
          ]
         },
         "layout": {
          "annotationdefaults": {
           "arrowcolor": "#2a3f5f",
           "arrowhead": 0,
           "arrowwidth": 1
          },
          "autotypenumbers": "strict",
          "coloraxis": {
           "colorbar": {
            "outlinewidth": 0,
            "ticks": ""
           }
          },
          "colorscale": {
           "diverging": [
            [
             0,
             "#8e0152"
            ],
            [
             0.1,
             "#c51b7d"
            ],
            [
             0.2,
             "#de77ae"
            ],
            [
             0.3,
             "#f1b6da"
            ],
            [
             0.4,
             "#fde0ef"
            ],
            [
             0.5,
             "#f7f7f7"
            ],
            [
             0.6,
             "#e6f5d0"
            ],
            [
             0.7,
             "#b8e186"
            ],
            [
             0.8,
             "#7fbc41"
            ],
            [
             0.9,
             "#4d9221"
            ],
            [
             1,
             "#276419"
            ]
           ],
           "sequential": [
            [
             0,
             "#0d0887"
            ],
            [
             0.1111111111111111,
             "#46039f"
            ],
            [
             0.2222222222222222,
             "#7201a8"
            ],
            [
             0.3333333333333333,
             "#9c179e"
            ],
            [
             0.4444444444444444,
             "#bd3786"
            ],
            [
             0.5555555555555556,
             "#d8576b"
            ],
            [
             0.6666666666666666,
             "#ed7953"
            ],
            [
             0.7777777777777778,
             "#fb9f3a"
            ],
            [
             0.8888888888888888,
             "#fdca26"
            ],
            [
             1,
             "#f0f921"
            ]
           ],
           "sequentialminus": [
            [
             0,
             "#0d0887"
            ],
            [
             0.1111111111111111,
             "#46039f"
            ],
            [
             0.2222222222222222,
             "#7201a8"
            ],
            [
             0.3333333333333333,
             "#9c179e"
            ],
            [
             0.4444444444444444,
             "#bd3786"
            ],
            [
             0.5555555555555556,
             "#d8576b"
            ],
            [
             0.6666666666666666,
             "#ed7953"
            ],
            [
             0.7777777777777778,
             "#fb9f3a"
            ],
            [
             0.8888888888888888,
             "#fdca26"
            ],
            [
             1,
             "#f0f921"
            ]
           ]
          },
          "colorway": [
           "#636efa",
           "#EF553B",
           "#00cc96",
           "#ab63fa",
           "#FFA15A",
           "#19d3f3",
           "#FF6692",
           "#B6E880",
           "#FF97FF",
           "#FECB52"
          ],
          "font": {
           "color": "#2a3f5f"
          },
          "geo": {
           "bgcolor": "white",
           "lakecolor": "white",
           "landcolor": "#E5ECF6",
           "showlakes": true,
           "showland": true,
           "subunitcolor": "white"
          },
          "hoverlabel": {
           "align": "left"
          },
          "hovermode": "closest",
          "mapbox": {
           "style": "light"
          },
          "paper_bgcolor": "white",
          "plot_bgcolor": "#E5ECF6",
          "polar": {
           "angularaxis": {
            "gridcolor": "white",
            "linecolor": "white",
            "ticks": ""
           },
           "bgcolor": "#E5ECF6",
           "radialaxis": {
            "gridcolor": "white",
            "linecolor": "white",
            "ticks": ""
           }
          },
          "scene": {
           "xaxis": {
            "backgroundcolor": "#E5ECF6",
            "gridcolor": "white",
            "gridwidth": 2,
            "linecolor": "white",
            "showbackground": true,
            "ticks": "",
            "zerolinecolor": "white"
           },
           "yaxis": {
            "backgroundcolor": "#E5ECF6",
            "gridcolor": "white",
            "gridwidth": 2,
            "linecolor": "white",
            "showbackground": true,
            "ticks": "",
            "zerolinecolor": "white"
           },
           "zaxis": {
            "backgroundcolor": "#E5ECF6",
            "gridcolor": "white",
            "gridwidth": 2,
            "linecolor": "white",
            "showbackground": true,
            "ticks": "",
            "zerolinecolor": "white"
           }
          },
          "shapedefaults": {
           "line": {
            "color": "#2a3f5f"
           }
          },
          "ternary": {
           "aaxis": {
            "gridcolor": "white",
            "linecolor": "white",
            "ticks": ""
           },
           "baxis": {
            "gridcolor": "white",
            "linecolor": "white",
            "ticks": ""
           },
           "bgcolor": "#E5ECF6",
           "caxis": {
            "gridcolor": "white",
            "linecolor": "white",
            "ticks": ""
           }
          },
          "title": {
           "x": 0.05
          },
          "xaxis": {
           "automargin": true,
           "gridcolor": "white",
           "linecolor": "white",
           "ticks": "",
           "title": {
            "standoff": 15
           },
           "zerolinecolor": "white",
           "zerolinewidth": 2
          },
          "yaxis": {
           "automargin": true,
           "gridcolor": "white",
           "linecolor": "white",
           "ticks": "",
           "title": {
            "standoff": 15
           },
           "zerolinecolor": "white",
           "zerolinewidth": 2
          }
         }
        },
        "title": {
         "text": "Relative Difference in Accident Proportions in 2016"
        }
       }
      }
     },
     "metadata": {},
     "output_type": "display_data"
    }
   ],
   "source": [
    "import plotly.express as px\n",
    "\n",
    "fig = px.choropleth(\n",
    "    df,\n",
    "    locations='State',\n",
    "    locationmode='USA-states',\n",
    "    color='accident_diff',\n",
    "    color_continuous_scale='RdBu',\n",
    "    scope='usa',\n",
    "    title='Relative Difference in Accident Proportions in 2016'\n",
    ")\n",
    "\n",
    "fig.show()"
   ]
  },
  {
   "cell_type": "code",
   "execution_count": 52,
   "id": "fdf1028d",
   "metadata": {},
   "outputs": [
    {
     "data": {
      "application/vnd.plotly.v1+json": {
       "config": {
        "plotlyServerURL": "https://plot.ly"
       },
       "data": [
        {
         "coloraxis": "coloraxis",
         "geo": "geo",
         "hovertemplate": "State=%{location}<br>accident_diff=%{z}<extra></extra>",
         "locationmode": "USA-states",
         "locations": [
          "CA",
          "CO",
          "FL",
          "IL",
          "IN",
          "LA",
          "MA",
          "MI",
          "MN",
          "MT",
          "NY",
          "OH",
          "OK",
          "OR",
          "PA",
          "TN",
          "TX",
          "UT",
          "WI"
         ],
         "name": "",
         "type": "choropleth",
         "z": {
          "bdata": "1kQxXae8t79cMrQ/2XeQP+VHCvVFKaW/YMoISlMvdL83MZvKCHKZP0Amt6lcD5U/yN6/YKJokz+g3T3t1YJYP4jyG2K3/Yg/uJHvPZRGZT96Uy412TOSv6gg3s8IlIg/dGtaztZwlD8wD9byM0SVPwoYwSocNqE/DJGUKFqii7/bUu4V8oupvx4lnjSMCZ4/cBUsHGGdfz8=",
          "dtype": "f8"
         }
        }
       ],
       "layout": {
        "coloraxis": {
         "colorbar": {
          "title": {
           "text": "accident_diff"
          }
         },
         "colorscale": [
          [
           0,
           "rgb(103,0,31)"
          ],
          [
           0.1,
           "rgb(178,24,43)"
          ],
          [
           0.2,
           "rgb(214,96,77)"
          ],
          [
           0.3,
           "rgb(244,165,130)"
          ],
          [
           0.4,
           "rgb(253,219,199)"
          ],
          [
           0.5,
           "rgb(247,247,247)"
          ],
          [
           0.6,
           "rgb(209,229,240)"
          ],
          [
           0.7,
           "rgb(146,197,222)"
          ],
          [
           0.8,
           "rgb(67,147,195)"
          ],
          [
           0.9,
           "rgb(33,102,172)"
          ],
          [
           1,
           "rgb(5,48,97)"
          ]
         ]
        },
        "geo": {
         "center": {},
         "domain": {
          "x": [
           0,
           1
          ],
          "y": [
           0,
           1
          ]
         },
         "scope": "usa"
        },
        "legend": {
         "tracegroupgap": 0
        },
        "template": {
         "data": {
          "bar": [
           {
            "error_x": {
             "color": "#2a3f5f"
            },
            "error_y": {
             "color": "#2a3f5f"
            },
            "marker": {
             "line": {
              "color": "#E5ECF6",
              "width": 0.5
             },
             "pattern": {
              "fillmode": "overlay",
              "size": 10,
              "solidity": 0.2
             }
            },
            "type": "bar"
           }
          ],
          "barpolar": [
           {
            "marker": {
             "line": {
              "color": "#E5ECF6",
              "width": 0.5
             },
             "pattern": {
              "fillmode": "overlay",
              "size": 10,
              "solidity": 0.2
             }
            },
            "type": "barpolar"
           }
          ],
          "carpet": [
           {
            "aaxis": {
             "endlinecolor": "#2a3f5f",
             "gridcolor": "white",
             "linecolor": "white",
             "minorgridcolor": "white",
             "startlinecolor": "#2a3f5f"
            },
            "baxis": {
             "endlinecolor": "#2a3f5f",
             "gridcolor": "white",
             "linecolor": "white",
             "minorgridcolor": "white",
             "startlinecolor": "#2a3f5f"
            },
            "type": "carpet"
           }
          ],
          "choropleth": [
           {
            "colorbar": {
             "outlinewidth": 0,
             "ticks": ""
            },
            "type": "choropleth"
           }
          ],
          "contour": [
           {
            "colorbar": {
             "outlinewidth": 0,
             "ticks": ""
            },
            "colorscale": [
             [
              0,
              "#0d0887"
             ],
             [
              0.1111111111111111,
              "#46039f"
             ],
             [
              0.2222222222222222,
              "#7201a8"
             ],
             [
              0.3333333333333333,
              "#9c179e"
             ],
             [
              0.4444444444444444,
              "#bd3786"
             ],
             [
              0.5555555555555556,
              "#d8576b"
             ],
             [
              0.6666666666666666,
              "#ed7953"
             ],
             [
              0.7777777777777778,
              "#fb9f3a"
             ],
             [
              0.8888888888888888,
              "#fdca26"
             ],
             [
              1,
              "#f0f921"
             ]
            ],
            "type": "contour"
           }
          ],
          "contourcarpet": [
           {
            "colorbar": {
             "outlinewidth": 0,
             "ticks": ""
            },
            "type": "contourcarpet"
           }
          ],
          "heatmap": [
           {
            "colorbar": {
             "outlinewidth": 0,
             "ticks": ""
            },
            "colorscale": [
             [
              0,
              "#0d0887"
             ],
             [
              0.1111111111111111,
              "#46039f"
             ],
             [
              0.2222222222222222,
              "#7201a8"
             ],
             [
              0.3333333333333333,
              "#9c179e"
             ],
             [
              0.4444444444444444,
              "#bd3786"
             ],
             [
              0.5555555555555556,
              "#d8576b"
             ],
             [
              0.6666666666666666,
              "#ed7953"
             ],
             [
              0.7777777777777778,
              "#fb9f3a"
             ],
             [
              0.8888888888888888,
              "#fdca26"
             ],
             [
              1,
              "#f0f921"
             ]
            ],
            "type": "heatmap"
           }
          ],
          "histogram": [
           {
            "marker": {
             "pattern": {
              "fillmode": "overlay",
              "size": 10,
              "solidity": 0.2
             }
            },
            "type": "histogram"
           }
          ],
          "histogram2d": [
           {
            "colorbar": {
             "outlinewidth": 0,
             "ticks": ""
            },
            "colorscale": [
             [
              0,
              "#0d0887"
             ],
             [
              0.1111111111111111,
              "#46039f"
             ],
             [
              0.2222222222222222,
              "#7201a8"
             ],
             [
              0.3333333333333333,
              "#9c179e"
             ],
             [
              0.4444444444444444,
              "#bd3786"
             ],
             [
              0.5555555555555556,
              "#d8576b"
             ],
             [
              0.6666666666666666,
              "#ed7953"
             ],
             [
              0.7777777777777778,
              "#fb9f3a"
             ],
             [
              0.8888888888888888,
              "#fdca26"
             ],
             [
              1,
              "#f0f921"
             ]
            ],
            "type": "histogram2d"
           }
          ],
          "histogram2dcontour": [
           {
            "colorbar": {
             "outlinewidth": 0,
             "ticks": ""
            },
            "colorscale": [
             [
              0,
              "#0d0887"
             ],
             [
              0.1111111111111111,
              "#46039f"
             ],
             [
              0.2222222222222222,
              "#7201a8"
             ],
             [
              0.3333333333333333,
              "#9c179e"
             ],
             [
              0.4444444444444444,
              "#bd3786"
             ],
             [
              0.5555555555555556,
              "#d8576b"
             ],
             [
              0.6666666666666666,
              "#ed7953"
             ],
             [
              0.7777777777777778,
              "#fb9f3a"
             ],
             [
              0.8888888888888888,
              "#fdca26"
             ],
             [
              1,
              "#f0f921"
             ]
            ],
            "type": "histogram2dcontour"
           }
          ],
          "mesh3d": [
           {
            "colorbar": {
             "outlinewidth": 0,
             "ticks": ""
            },
            "type": "mesh3d"
           }
          ],
          "parcoords": [
           {
            "line": {
             "colorbar": {
              "outlinewidth": 0,
              "ticks": ""
             }
            },
            "type": "parcoords"
           }
          ],
          "pie": [
           {
            "automargin": true,
            "type": "pie"
           }
          ],
          "scatter": [
           {
            "fillpattern": {
             "fillmode": "overlay",
             "size": 10,
             "solidity": 0.2
            },
            "type": "scatter"
           }
          ],
          "scatter3d": [
           {
            "line": {
             "colorbar": {
              "outlinewidth": 0,
              "ticks": ""
             }
            },
            "marker": {
             "colorbar": {
              "outlinewidth": 0,
              "ticks": ""
             }
            },
            "type": "scatter3d"
           }
          ],
          "scattercarpet": [
           {
            "marker": {
             "colorbar": {
              "outlinewidth": 0,
              "ticks": ""
             }
            },
            "type": "scattercarpet"
           }
          ],
          "scattergeo": [
           {
            "marker": {
             "colorbar": {
              "outlinewidth": 0,
              "ticks": ""
             }
            },
            "type": "scattergeo"
           }
          ],
          "scattergl": [
           {
            "marker": {
             "colorbar": {
              "outlinewidth": 0,
              "ticks": ""
             }
            },
            "type": "scattergl"
           }
          ],
          "scattermap": [
           {
            "marker": {
             "colorbar": {
              "outlinewidth": 0,
              "ticks": ""
             }
            },
            "type": "scattermap"
           }
          ],
          "scattermapbox": [
           {
            "marker": {
             "colorbar": {
              "outlinewidth": 0,
              "ticks": ""
             }
            },
            "type": "scattermapbox"
           }
          ],
          "scatterpolar": [
           {
            "marker": {
             "colorbar": {
              "outlinewidth": 0,
              "ticks": ""
             }
            },
            "type": "scatterpolar"
           }
          ],
          "scatterpolargl": [
           {
            "marker": {
             "colorbar": {
              "outlinewidth": 0,
              "ticks": ""
             }
            },
            "type": "scatterpolargl"
           }
          ],
          "scatterternary": [
           {
            "marker": {
             "colorbar": {
              "outlinewidth": 0,
              "ticks": ""
             }
            },
            "type": "scatterternary"
           }
          ],
          "surface": [
           {
            "colorbar": {
             "outlinewidth": 0,
             "ticks": ""
            },
            "colorscale": [
             [
              0,
              "#0d0887"
             ],
             [
              0.1111111111111111,
              "#46039f"
             ],
             [
              0.2222222222222222,
              "#7201a8"
             ],
             [
              0.3333333333333333,
              "#9c179e"
             ],
             [
              0.4444444444444444,
              "#bd3786"
             ],
             [
              0.5555555555555556,
              "#d8576b"
             ],
             [
              0.6666666666666666,
              "#ed7953"
             ],
             [
              0.7777777777777778,
              "#fb9f3a"
             ],
             [
              0.8888888888888888,
              "#fdca26"
             ],
             [
              1,
              "#f0f921"
             ]
            ],
            "type": "surface"
           }
          ],
          "table": [
           {
            "cells": {
             "fill": {
              "color": "#EBF0F8"
             },
             "line": {
              "color": "white"
             }
            },
            "header": {
             "fill": {
              "color": "#C8D4E3"
             },
             "line": {
              "color": "white"
             }
            },
            "type": "table"
           }
          ]
         },
         "layout": {
          "annotationdefaults": {
           "arrowcolor": "#2a3f5f",
           "arrowhead": 0,
           "arrowwidth": 1
          },
          "autotypenumbers": "strict",
          "coloraxis": {
           "colorbar": {
            "outlinewidth": 0,
            "ticks": ""
           }
          },
          "colorscale": {
           "diverging": [
            [
             0,
             "#8e0152"
            ],
            [
             0.1,
             "#c51b7d"
            ],
            [
             0.2,
             "#de77ae"
            ],
            [
             0.3,
             "#f1b6da"
            ],
            [
             0.4,
             "#fde0ef"
            ],
            [
             0.5,
             "#f7f7f7"
            ],
            [
             0.6,
             "#e6f5d0"
            ],
            [
             0.7,
             "#b8e186"
            ],
            [
             0.8,
             "#7fbc41"
            ],
            [
             0.9,
             "#4d9221"
            ],
            [
             1,
             "#276419"
            ]
           ],
           "sequential": [
            [
             0,
             "#0d0887"
            ],
            [
             0.1111111111111111,
             "#46039f"
            ],
            [
             0.2222222222222222,
             "#7201a8"
            ],
            [
             0.3333333333333333,
             "#9c179e"
            ],
            [
             0.4444444444444444,
             "#bd3786"
            ],
            [
             0.5555555555555556,
             "#d8576b"
            ],
            [
             0.6666666666666666,
             "#ed7953"
            ],
            [
             0.7777777777777778,
             "#fb9f3a"
            ],
            [
             0.8888888888888888,
             "#fdca26"
            ],
            [
             1,
             "#f0f921"
            ]
           ],
           "sequentialminus": [
            [
             0,
             "#0d0887"
            ],
            [
             0.1111111111111111,
             "#46039f"
            ],
            [
             0.2222222222222222,
             "#7201a8"
            ],
            [
             0.3333333333333333,
             "#9c179e"
            ],
            [
             0.4444444444444444,
             "#bd3786"
            ],
            [
             0.5555555555555556,
             "#d8576b"
            ],
            [
             0.6666666666666666,
             "#ed7953"
            ],
            [
             0.7777777777777778,
             "#fb9f3a"
            ],
            [
             0.8888888888888888,
             "#fdca26"
            ],
            [
             1,
             "#f0f921"
            ]
           ]
          },
          "colorway": [
           "#636efa",
           "#EF553B",
           "#00cc96",
           "#ab63fa",
           "#FFA15A",
           "#19d3f3",
           "#FF6692",
           "#B6E880",
           "#FF97FF",
           "#FECB52"
          ],
          "font": {
           "color": "#2a3f5f"
          },
          "geo": {
           "bgcolor": "white",
           "lakecolor": "white",
           "landcolor": "#E5ECF6",
           "showlakes": true,
           "showland": true,
           "subunitcolor": "white"
          },
          "hoverlabel": {
           "align": "left"
          },
          "hovermode": "closest",
          "mapbox": {
           "style": "light"
          },
          "paper_bgcolor": "white",
          "plot_bgcolor": "#E5ECF6",
          "polar": {
           "angularaxis": {
            "gridcolor": "white",
            "linecolor": "white",
            "ticks": ""
           },
           "bgcolor": "#E5ECF6",
           "radialaxis": {
            "gridcolor": "white",
            "linecolor": "white",
            "ticks": ""
           }
          },
          "scene": {
           "xaxis": {
            "backgroundcolor": "#E5ECF6",
            "gridcolor": "white",
            "gridwidth": 2,
            "linecolor": "white",
            "showbackground": true,
            "ticks": "",
            "zerolinecolor": "white"
           },
           "yaxis": {
            "backgroundcolor": "#E5ECF6",
            "gridcolor": "white",
            "gridwidth": 2,
            "linecolor": "white",
            "showbackground": true,
            "ticks": "",
            "zerolinecolor": "white"
           },
           "zaxis": {
            "backgroundcolor": "#E5ECF6",
            "gridcolor": "white",
            "gridwidth": 2,
            "linecolor": "white",
            "showbackground": true,
            "ticks": "",
            "zerolinecolor": "white"
           }
          },
          "shapedefaults": {
           "line": {
            "color": "#2a3f5f"
           }
          },
          "ternary": {
           "aaxis": {
            "gridcolor": "white",
            "linecolor": "white",
            "ticks": ""
           },
           "baxis": {
            "gridcolor": "white",
            "linecolor": "white",
            "ticks": ""
           },
           "bgcolor": "#E5ECF6",
           "caxis": {
            "gridcolor": "white",
            "linecolor": "white",
            "ticks": ""
           }
          },
          "title": {
           "x": 0.05
          },
          "xaxis": {
           "automargin": true,
           "gridcolor": "white",
           "linecolor": "white",
           "ticks": "",
           "title": {
            "standoff": 15
           },
           "zerolinecolor": "white",
           "zerolinewidth": 2
          },
          "yaxis": {
           "automargin": true,
           "gridcolor": "white",
           "linecolor": "white",
           "ticks": "",
           "title": {
            "standoff": 15
           },
           "zerolinecolor": "white",
           "zerolinewidth": 2
          }
         }
        },
        "title": {
         "text": "Relative Difference in Accident Proportions in 2018"
        }
       }
      }
     },
     "metadata": {},
     "output_type": "display_data"
    }
   ],
   "source": [
    "teste_mapa = accidents_by_day.groupby([\"State\", \"year\"]).size().xs(2018, level=\"year\")\n",
    "teste_mapa2 = accidents_by_no_game_day.groupby([\"State\", \"year\"]).size().xs(2018, level=\"year\")\n",
    "\n",
    "diff = teste_mapa2.apply(lambda x: x / teste_mapa2.sum()) - teste_mapa.apply(lambda x: x / teste_mapa.sum())\n",
    "diff.values\n",
    "\n",
    "df = pd.DataFrame({\n",
    "    \"State\": diff.index,\n",
    "    \"accident_diff\": diff.values\n",
    "})\n",
    "\n",
    "fig = px.choropleth(\n",
    "    df,\n",
    "    locations='State',\n",
    "    locationmode='USA-states',\n",
    "    color='accident_diff',\n",
    "    color_continuous_scale='RdBu',\n",
    "    scope='usa',\n",
    "    title='Relative Difference in Accident Proportions in 2018'\n",
    ")\n",
    "\n",
    "fig.show()"
   ]
  },
  {
   "cell_type": "code",
   "execution_count": 69,
   "id": "dffe886d",
   "metadata": {},
   "outputs": [
    {
     "name": "stderr",
     "output_type": "stream",
     "text": [
      "/var/folders/cl/46_xwg1s1cv84pny0b6b2d000000gn/T/ipykernel_1724/2185217312.py:5: SettingWithCopyWarning:\n",
      "\n",
      "\n",
      "A value is trying to be set on a copy of a slice from a DataFrame.\n",
      "Try using .loc[row_indexer,col_indexer] = value instead\n",
      "\n",
      "See the caveats in the documentation: https://pandas.pydata.org/pandas-docs/stable/user_guide/indexing.html#returning-a-view-versus-a-copy\n",
      "\n"
     ]
    }
   ],
   "source": [
    "accidents_nba.columns\n",
    "accidents_nba = accidents_nba[[\"date\", \"State\", 'Amenity', 'Bump', 'Crossing', 'Give_Way', 'Junction',\n",
    "                               'No_Exit', 'Railway', 'Roundabout', 'Station', 'Stop',\n",
    "                               'Traffic_Calming', 'Traffic_Signal']]\n",
    "accidents_nba['year'] = accidents_nba.date.dt.year"
   ]
  },
  {
   "cell_type": "code",
   "execution_count": 70,
   "id": "2eeb36a5",
   "metadata": {},
   "outputs": [
    {
     "data": {
      "text/html": [
       "<div>\n",
       "<style scoped>\n",
       "    .dataframe tbody tr th:only-of-type {\n",
       "        vertical-align: middle;\n",
       "    }\n",
       "\n",
       "    .dataframe tbody tr th {\n",
       "        vertical-align: top;\n",
       "    }\n",
       "\n",
       "    .dataframe thead th {\n",
       "        text-align: right;\n",
       "    }\n",
       "</style>\n",
       "<table border=\"1\" class=\"dataframe\">\n",
       "  <thead>\n",
       "    <tr style=\"text-align: right;\">\n",
       "      <th></th>\n",
       "      <th>date</th>\n",
       "      <th>State</th>\n",
       "      <th>Amenity</th>\n",
       "      <th>Bump</th>\n",
       "      <th>Crossing</th>\n",
       "      <th>Give_Way</th>\n",
       "      <th>Junction</th>\n",
       "      <th>No_Exit</th>\n",
       "      <th>Railway</th>\n",
       "      <th>Roundabout</th>\n",
       "      <th>Station</th>\n",
       "      <th>Stop</th>\n",
       "      <th>Traffic_Calming</th>\n",
       "      <th>Traffic_Signal</th>\n",
       "      <th>year</th>\n",
       "    </tr>\n",
       "  </thead>\n",
       "  <tbody>\n",
       "    <tr>\n",
       "      <th>0</th>\n",
       "      <td>2016-01-14</td>\n",
       "      <td>PA</td>\n",
       "      <td>False</td>\n",
       "      <td>False</td>\n",
       "      <td>False</td>\n",
       "      <td>False</td>\n",
       "      <td>False</td>\n",
       "      <td>False</td>\n",
       "      <td>False</td>\n",
       "      <td>False</td>\n",
       "      <td>False</td>\n",
       "      <td>False</td>\n",
       "      <td>False</td>\n",
       "      <td>False</td>\n",
       "      <td>2016</td>\n",
       "    </tr>\n",
       "    <tr>\n",
       "      <th>1</th>\n",
       "      <td>2016-02-10</td>\n",
       "      <td>PA</td>\n",
       "      <td>False</td>\n",
       "      <td>False</td>\n",
       "      <td>False</td>\n",
       "      <td>False</td>\n",
       "      <td>False</td>\n",
       "      <td>False</td>\n",
       "      <td>False</td>\n",
       "      <td>False</td>\n",
       "      <td>False</td>\n",
       "      <td>False</td>\n",
       "      <td>False</td>\n",
       "      <td>False</td>\n",
       "      <td>2016</td>\n",
       "    </tr>\n",
       "    <tr>\n",
       "      <th>2</th>\n",
       "      <td>2016-02-10</td>\n",
       "      <td>PA</td>\n",
       "      <td>False</td>\n",
       "      <td>False</td>\n",
       "      <td>False</td>\n",
       "      <td>False</td>\n",
       "      <td>False</td>\n",
       "      <td>False</td>\n",
       "      <td>False</td>\n",
       "      <td>False</td>\n",
       "      <td>False</td>\n",
       "      <td>False</td>\n",
       "      <td>False</td>\n",
       "      <td>False</td>\n",
       "      <td>2016</td>\n",
       "    </tr>\n",
       "    <tr>\n",
       "      <th>3</th>\n",
       "      <td>2016-02-10</td>\n",
       "      <td>PA</td>\n",
       "      <td>False</td>\n",
       "      <td>False</td>\n",
       "      <td>False</td>\n",
       "      <td>False</td>\n",
       "      <td>False</td>\n",
       "      <td>False</td>\n",
       "      <td>False</td>\n",
       "      <td>False</td>\n",
       "      <td>False</td>\n",
       "      <td>False</td>\n",
       "      <td>False</td>\n",
       "      <td>False</td>\n",
       "      <td>2016</td>\n",
       "    </tr>\n",
       "    <tr>\n",
       "      <th>4</th>\n",
       "      <td>2016-02-22</td>\n",
       "      <td>OH</td>\n",
       "      <td>False</td>\n",
       "      <td>False</td>\n",
       "      <td>False</td>\n",
       "      <td>False</td>\n",
       "      <td>False</td>\n",
       "      <td>False</td>\n",
       "      <td>False</td>\n",
       "      <td>False</td>\n",
       "      <td>False</td>\n",
       "      <td>False</td>\n",
       "      <td>False</td>\n",
       "      <td>False</td>\n",
       "      <td>2016</td>\n",
       "    </tr>\n",
       "    <tr>\n",
       "      <th>...</th>\n",
       "      <td>...</td>\n",
       "      <td>...</td>\n",
       "      <td>...</td>\n",
       "      <td>...</td>\n",
       "      <td>...</td>\n",
       "      <td>...</td>\n",
       "      <td>...</td>\n",
       "      <td>...</td>\n",
       "      <td>...</td>\n",
       "      <td>...</td>\n",
       "      <td>...</td>\n",
       "      <td>...</td>\n",
       "      <td>...</td>\n",
       "      <td>...</td>\n",
       "      <td>...</td>\n",
       "    </tr>\n",
       "    <tr>\n",
       "      <th>86541</th>\n",
       "      <td>2016-12-31</td>\n",
       "      <td>NY</td>\n",
       "      <td>False</td>\n",
       "      <td>False</td>\n",
       "      <td>False</td>\n",
       "      <td>False</td>\n",
       "      <td>False</td>\n",
       "      <td>False</td>\n",
       "      <td>False</td>\n",
       "      <td>False</td>\n",
       "      <td>False</td>\n",
       "      <td>False</td>\n",
       "      <td>False</td>\n",
       "      <td>False</td>\n",
       "      <td>2016</td>\n",
       "    </tr>\n",
       "    <tr>\n",
       "      <th>86542</th>\n",
       "      <td>2016-12-31</td>\n",
       "      <td>NY</td>\n",
       "      <td>False</td>\n",
       "      <td>False</td>\n",
       "      <td>False</td>\n",
       "      <td>False</td>\n",
       "      <td>False</td>\n",
       "      <td>False</td>\n",
       "      <td>False</td>\n",
       "      <td>False</td>\n",
       "      <td>False</td>\n",
       "      <td>False</td>\n",
       "      <td>False</td>\n",
       "      <td>False</td>\n",
       "      <td>2016</td>\n",
       "    </tr>\n",
       "    <tr>\n",
       "      <th>86543</th>\n",
       "      <td>2016-12-31</td>\n",
       "      <td>NY</td>\n",
       "      <td>False</td>\n",
       "      <td>False</td>\n",
       "      <td>False</td>\n",
       "      <td>False</td>\n",
       "      <td>False</td>\n",
       "      <td>False</td>\n",
       "      <td>False</td>\n",
       "      <td>False</td>\n",
       "      <td>False</td>\n",
       "      <td>False</td>\n",
       "      <td>False</td>\n",
       "      <td>False</td>\n",
       "      <td>2016</td>\n",
       "    </tr>\n",
       "    <tr>\n",
       "      <th>86544</th>\n",
       "      <td>2016-12-31</td>\n",
       "      <td>NY</td>\n",
       "      <td>False</td>\n",
       "      <td>False</td>\n",
       "      <td>False</td>\n",
       "      <td>False</td>\n",
       "      <td>True</td>\n",
       "      <td>False</td>\n",
       "      <td>False</td>\n",
       "      <td>False</td>\n",
       "      <td>False</td>\n",
       "      <td>False</td>\n",
       "      <td>False</td>\n",
       "      <td>False</td>\n",
       "      <td>2016</td>\n",
       "    </tr>\n",
       "    <tr>\n",
       "      <th>86545</th>\n",
       "      <td>2016-12-31</td>\n",
       "      <td>NY</td>\n",
       "      <td>False</td>\n",
       "      <td>False</td>\n",
       "      <td>False</td>\n",
       "      <td>False</td>\n",
       "      <td>False</td>\n",
       "      <td>False</td>\n",
       "      <td>False</td>\n",
       "      <td>False</td>\n",
       "      <td>False</td>\n",
       "      <td>False</td>\n",
       "      <td>False</td>\n",
       "      <td>False</td>\n",
       "      <td>2016</td>\n",
       "    </tr>\n",
       "  </tbody>\n",
       "</table>\n",
       "<p>86546 rows × 15 columns</p>\n",
       "</div>"
      ],
      "text/plain": [
       "            date State  Amenity   Bump  Crossing  Give_Way  Junction  No_Exit  \\\n",
       "0     2016-01-14    PA    False  False     False     False     False    False   \n",
       "1     2016-02-10    PA    False  False     False     False     False    False   \n",
       "2     2016-02-10    PA    False  False     False     False     False    False   \n",
       "3     2016-02-10    PA    False  False     False     False     False    False   \n",
       "4     2016-02-22    OH    False  False     False     False     False    False   \n",
       "...          ...   ...      ...    ...       ...       ...       ...      ...   \n",
       "86541 2016-12-31    NY    False  False     False     False     False    False   \n",
       "86542 2016-12-31    NY    False  False     False     False     False    False   \n",
       "86543 2016-12-31    NY    False  False     False     False     False    False   \n",
       "86544 2016-12-31    NY    False  False     False     False      True    False   \n",
       "86545 2016-12-31    NY    False  False     False     False     False    False   \n",
       "\n",
       "       Railway  Roundabout  Station   Stop  Traffic_Calming  Traffic_Signal  \\\n",
       "0        False       False    False  False            False           False   \n",
       "1        False       False    False  False            False           False   \n",
       "2        False       False    False  False            False           False   \n",
       "3        False       False    False  False            False           False   \n",
       "4        False       False    False  False            False           False   \n",
       "...        ...         ...      ...    ...              ...             ...   \n",
       "86541    False       False    False  False            False           False   \n",
       "86542    False       False    False  False            False           False   \n",
       "86543    False       False    False  False            False           False   \n",
       "86544    False       False    False  False            False           False   \n",
       "86545    False       False    False  False            False           False   \n",
       "\n",
       "       year  \n",
       "0      2016  \n",
       "1      2016  \n",
       "2      2016  \n",
       "3      2016  \n",
       "4      2016  \n",
       "...     ...  \n",
       "86541  2016  \n",
       "86542  2016  \n",
       "86543  2016  \n",
       "86544  2016  \n",
       "86545  2016  \n",
       "\n",
       "[86546 rows x 15 columns]"
      ]
     },
     "execution_count": 70,
     "metadata": {},
     "output_type": "execute_result"
    }
   ],
   "source": [
    "accidents_nba.query(\"year == 2016\")"
   ]
  }
 ],
 "metadata": {
  "kernelspec": {
   "display_name": "base",
   "language": "python",
   "name": "python3"
  },
  "language_info": {
   "codemirror_mode": {
    "name": "ipython",
    "version": 3
   },
   "file_extension": ".py",
   "mimetype": "text/x-python",
   "name": "python",
   "nbconvert_exporter": "python",
   "pygments_lexer": "ipython3",
   "version": "3.12.2"
  }
 },
 "nbformat": 4,
 "nbformat_minor": 5
}
